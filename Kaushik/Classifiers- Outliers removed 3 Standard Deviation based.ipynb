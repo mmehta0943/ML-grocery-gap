{
 "cells": [
  {
   "cell_type": "code",
   "execution_count": 2,
   "metadata": {},
   "outputs": [],
   "source": [
    "import math\n",
    "\n",
    "from IPython import display\n",
    "from matplotlib import cm\n",
    "from matplotlib import gridspec\n",
    "from matplotlib import pyplot as plt\n",
    "import numpy as np\n",
    "import pandas as pd\n",
    "from sklearn import metrics\n",
    "#import tensorflow as tf\n",
    "#from tensorflow.python.data import Dataset\n",
    "\n",
    "#tf.logging.set_verbosity(tf.logging.ERROR)\n",
    "pd.options.display.max_rows = 10\n",
    "pd.options.display.float_format = '{:.1f}'.format\n",
    "\n",
    "import pandas as pd\n",
    "import sklearn as sklearn"
   ]
  },
  {
   "cell_type": "code",
   "execution_count": 56,
   "metadata": {},
   "outputs": [],
   "source": [
    "df = pd.read_excel(r\"C:\\ML Hackathon\\reduced_features_data3.xlsx\")"
   ]
  },
  {
   "cell_type": "code",
   "execution_count": 57,
   "metadata": {},
   "outputs": [
    {
     "name": "stdout",
     "output_type": "stream",
     "text": [
      "FIPS                                              0\n",
      "Population, low access to store, 2010             0\n",
      "Low income & low access to store, 2010            0\n",
      "Households, no car & low access to store, 2010    0\n",
      "Children, low access to store, 2010               0\n",
      "                                                 ..\n",
      "2010 Census Population                            0\n",
      "Population Estimate, 2011                         0\n",
      "Population Estimate, 2012                         0\n",
      "Population Estimate, 2013                         0\n",
      "TARGET                                            0\n",
      "Length: 105, dtype: int64\n"
     ]
    }
   ],
   "source": [
    "print(df.isnull().sum())"
   ]
  },
  {
   "cell_type": "code",
   "execution_count": 58,
   "metadata": {},
   "outputs": [],
   "source": [
    "#edited specific a cell containing a numer classified as string in excel to numeric\n",
    "df = pd.read_excel(r\"C:\\ML Hackathon\\reduced_features_data3.xlsx\")\n",
    "df = df[np.abs(df-df.mean())<=(3*df.std())]"
   ]
  },
  {
   "cell_type": "code",
   "execution_count": 59,
   "metadata": {},
   "outputs": [
    {
     "name": "stdout",
     "output_type": "stream",
     "text": [
      "FIPS                                               0\n",
      "Population, low access to store, 2010             71\n",
      "Low income & low access to store, 2010            55\n",
      "Households, no car & low access to store, 2010    67\n",
      "Children, low access to store, 2010               71\n",
      "                                                  ..\n",
      "2010 Census Population                            37\n",
      "Population Estimate, 2011                         38\n",
      "Population Estimate, 2012                         39\n",
      "Population Estimate, 2013                         39\n",
      "TARGET                                             0\n",
      "Length: 105, dtype: int64\n",
      "(3143, 105)\n"
     ]
    }
   ],
   "source": [
    "print(df.isnull().sum())\n",
    "print(df.shape)"
   ]
  },
  {
   "cell_type": "code",
   "execution_count": 62,
   "metadata": {},
   "outputs": [
    {
     "data": {
      "text/html": [
       "<div>\n",
       "<style scoped>\n",
       "    .dataframe tbody tr th:only-of-type {\n",
       "        vertical-align: middle;\n",
       "    }\n",
       "\n",
       "    .dataframe tbody tr th {\n",
       "        vertical-align: top;\n",
       "    }\n",
       "\n",
       "    .dataframe thead th {\n",
       "        text-align: right;\n",
       "    }\n",
       "</style>\n",
       "<table border=\"1\" class=\"dataframe\">\n",
       "  <thead>\n",
       "    <tr style=\"text-align: right;\">\n",
       "      <th></th>\n",
       "      <th>FIPS</th>\n",
       "      <th>Population, low access to store, 2010</th>\n",
       "      <th>Low income &amp; low access to store, 2010</th>\n",
       "      <th>Households, no car &amp; low access to store, 2010</th>\n",
       "      <th>Children, low access to store, 2010</th>\n",
       "      <th>Seniors, low access to store, 2010</th>\n",
       "      <th>Grocery stores, 2009</th>\n",
       "      <th>Grocery stores/1,000 pop, 2009</th>\n",
       "      <th>Supercenters &amp; club stores, 2009</th>\n",
       "      <th>Supercenters &amp; club stores/1,000 pop, 2009</th>\n",
       "      <th>...</th>\n",
       "      <th>Recreation &amp; fitness facilities/1,000 pop, 2009</th>\n",
       "      <th>Persistent-poverty counties, 2010</th>\n",
       "      <th>Persistent-child-poverty counties, 2010</th>\n",
       "      <th>Metro/nonmetro counties, 2010</th>\n",
       "      <th>Population-loss counties, 2010</th>\n",
       "      <th>2010 Census Population</th>\n",
       "      <th>Population Estimate, 2011</th>\n",
       "      <th>Population Estimate, 2012</th>\n",
       "      <th>Population Estimate, 2013</th>\n",
       "      <th>TARGET</th>\n",
       "    </tr>\n",
       "  </thead>\n",
       "  <tbody>\n",
       "    <tr>\n",
       "      <th>0</th>\n",
       "      <td>39127</td>\n",
       "      <td>3713.6</td>\n",
       "      <td>1898.7</td>\n",
       "      <td>790.5</td>\n",
       "      <td>1094.1</td>\n",
       "      <td>456.2</td>\n",
       "      <td>8.0</td>\n",
       "      <td>0.2</td>\n",
       "      <td>0.0</td>\n",
       "      <td>0.0</td>\n",
       "      <td>...</td>\n",
       "      <td>0.1</td>\n",
       "      <td>0</td>\n",
       "      <td>0</td>\n",
       "      <td>0</td>\n",
       "      <td>1</td>\n",
       "      <td>36058.0</td>\n",
       "      <td>36207.0</td>\n",
       "      <td>35991.0</td>\n",
       "      <td>35977.0</td>\n",
       "      <td>0</td>\n",
       "    </tr>\n",
       "    <tr>\n",
       "      <th>3</th>\n",
       "      <td>12081</td>\n",
       "      <td>74391.9</td>\n",
       "      <td>18524.6</td>\n",
       "      <td>1306.1</td>\n",
       "      <td>12245.0</td>\n",
       "      <td>21417.0</td>\n",
       "      <td>60.0</td>\n",
       "      <td>0.2</td>\n",
       "      <td>7.0</td>\n",
       "      <td>0.0</td>\n",
       "      <td>...</td>\n",
       "      <td>0.2</td>\n",
       "      <td>1</td>\n",
       "      <td>1</td>\n",
       "      <td>0</td>\n",
       "      <td>0</td>\n",
       "      <td>322833.0</td>\n",
       "      <td>327373.0</td>\n",
       "      <td>334096.0</td>\n",
       "      <td>342246.0</td>\n",
       "      <td>1</td>\n",
       "    </tr>\n",
       "    <tr>\n",
       "      <th>4</th>\n",
       "      <td>22067</td>\n",
       "      <td>6896.4</td>\n",
       "      <td>3895.5</td>\n",
       "      <td>687.0</td>\n",
       "      <td>1724.0</td>\n",
       "      <td>1035.6</td>\n",
       "      <td>4.0</td>\n",
       "      <td>0.1</td>\n",
       "      <td>1.0</td>\n",
       "      <td>0.0</td>\n",
       "      <td>...</td>\n",
       "      <td>0.0</td>\n",
       "      <td>1</td>\n",
       "      <td>1</td>\n",
       "      <td>0</td>\n",
       "      <td>0</td>\n",
       "      <td>27979.0</td>\n",
       "      <td>27502.0</td>\n",
       "      <td>27454.0</td>\n",
       "      <td>27012.0</td>\n",
       "      <td>1</td>\n",
       "    </tr>\n",
       "    <tr>\n",
       "      <th>5</th>\n",
       "      <td>5031</td>\n",
       "      <td>24130.0</td>\n",
       "      <td>9933.3</td>\n",
       "      <td>1008.8</td>\n",
       "      <td>6106.8</td>\n",
       "      <td>2389.5</td>\n",
       "      <td>19.0</td>\n",
       "      <td>0.2</td>\n",
       "      <td>3.0</td>\n",
       "      <td>0.0</td>\n",
       "      <td>...</td>\n",
       "      <td>0.1</td>\n",
       "      <td>0</td>\n",
       "      <td>0</td>\n",
       "      <td>0</td>\n",
       "      <td>0</td>\n",
       "      <td>96443.0</td>\n",
       "      <td>98371.0</td>\n",
       "      <td>99948.0</td>\n",
       "      <td>101654.0</td>\n",
       "      <td>0</td>\n",
       "    </tr>\n",
       "    <tr>\n",
       "      <th>6</th>\n",
       "      <td>1053</td>\n",
       "      <td>5188.7</td>\n",
       "      <td>2903.3</td>\n",
       "      <td>558.0</td>\n",
       "      <td>1285.8</td>\n",
       "      <td>803.1</td>\n",
       "      <td>8.0</td>\n",
       "      <td>0.2</td>\n",
       "      <td>0.0</td>\n",
       "      <td>0.0</td>\n",
       "      <td>...</td>\n",
       "      <td>0.1</td>\n",
       "      <td>1</td>\n",
       "      <td>1</td>\n",
       "      <td>0</td>\n",
       "      <td>0</td>\n",
       "      <td>38319.0</td>\n",
       "      <td>38227.0</td>\n",
       "      <td>38063.0</td>\n",
       "      <td>37877.0</td>\n",
       "      <td>1</td>\n",
       "    </tr>\n",
       "    <tr>\n",
       "      <th>...</th>\n",
       "      <td>...</td>\n",
       "      <td>...</td>\n",
       "      <td>...</td>\n",
       "      <td>...</td>\n",
       "      <td>...</td>\n",
       "      <td>...</td>\n",
       "      <td>...</td>\n",
       "      <td>...</td>\n",
       "      <td>...</td>\n",
       "      <td>...</td>\n",
       "      <td>...</td>\n",
       "      <td>...</td>\n",
       "      <td>...</td>\n",
       "      <td>...</td>\n",
       "      <td>...</td>\n",
       "      <td>...</td>\n",
       "      <td>...</td>\n",
       "      <td>...</td>\n",
       "      <td>...</td>\n",
       "      <td>...</td>\n",
       "      <td>...</td>\n",
       "    </tr>\n",
       "    <tr>\n",
       "      <th>3133</th>\n",
       "      <td>13159</td>\n",
       "      <td>916.4</td>\n",
       "      <td>409.8</td>\n",
       "      <td>206.7</td>\n",
       "      <td>243.2</td>\n",
       "      <td>105.8</td>\n",
       "      <td>2.0</td>\n",
       "      <td>0.1</td>\n",
       "      <td>0.0</td>\n",
       "      <td>0.0</td>\n",
       "      <td>...</td>\n",
       "      <td>0.1</td>\n",
       "      <td>0</td>\n",
       "      <td>0</td>\n",
       "      <td>0</td>\n",
       "      <td>0</td>\n",
       "      <td>13900.0</td>\n",
       "      <td>13774.0</td>\n",
       "      <td>13586.0</td>\n",
       "      <td>13524.0</td>\n",
       "      <td>0</td>\n",
       "    </tr>\n",
       "    <tr>\n",
       "      <th>3134</th>\n",
       "      <td>47075</td>\n",
       "      <td>3041.5</td>\n",
       "      <td>1492.4</td>\n",
       "      <td>272.5</td>\n",
       "      <td>780.7</td>\n",
       "      <td>384.6</td>\n",
       "      <td>4.0</td>\n",
       "      <td>0.2</td>\n",
       "      <td>1.0</td>\n",
       "      <td>0.1</td>\n",
       "      <td>...</td>\n",
       "      <td>0.0</td>\n",
       "      <td>0</td>\n",
       "      <td>1</td>\n",
       "      <td>0</td>\n",
       "      <td>0</td>\n",
       "      <td>18787.0</td>\n",
       "      <td>18568.0</td>\n",
       "      <td>18281.0</td>\n",
       "      <td>18256.0</td>\n",
       "      <td>1</td>\n",
       "    </tr>\n",
       "    <tr>\n",
       "      <th>3135</th>\n",
       "      <td>5129</td>\n",
       "      <td>2725.7</td>\n",
       "      <td>1567.6</td>\n",
       "      <td>227.6</td>\n",
       "      <td>549.3</td>\n",
       "      <td>533.2</td>\n",
       "      <td>2.0</td>\n",
       "      <td>0.2</td>\n",
       "      <td>0.0</td>\n",
       "      <td>0.0</td>\n",
       "      <td>...</td>\n",
       "      <td>0.0</td>\n",
       "      <td>0</td>\n",
       "      <td>1</td>\n",
       "      <td>0</td>\n",
       "      <td>0</td>\n",
       "      <td>8195.0</td>\n",
       "      <td>8069.0</td>\n",
       "      <td>7988.0</td>\n",
       "      <td>7979.0</td>\n",
       "      <td>0</td>\n",
       "    </tr>\n",
       "    <tr>\n",
       "      <th>3139</th>\n",
       "      <td>20161</td>\n",
       "      <td>35861.6</td>\n",
       "      <td>15461.5</td>\n",
       "      <td>752.7</td>\n",
       "      <td>7442.0</td>\n",
       "      <td>2375.0</td>\n",
       "      <td>5.0</td>\n",
       "      <td>0.1</td>\n",
       "      <td>1.0</td>\n",
       "      <td>0.0</td>\n",
       "      <td>...</td>\n",
       "      <td>0.0</td>\n",
       "      <td>0</td>\n",
       "      <td>0</td>\n",
       "      <td>0</td>\n",
       "      <td>0</td>\n",
       "      <td>71115.0</td>\n",
       "      <td>73338.0</td>\n",
       "      <td>76273.0</td>\n",
       "      <td>75502.0</td>\n",
       "      <td>0</td>\n",
       "    </tr>\n",
       "    <tr>\n",
       "      <th>3142</th>\n",
       "      <td>38055</td>\n",
       "      <td>4944.0</td>\n",
       "      <td>1291.1</td>\n",
       "      <td>67.2</td>\n",
       "      <td>992.9</td>\n",
       "      <td>1053.1</td>\n",
       "      <td>2.0</td>\n",
       "      <td>0.2</td>\n",
       "      <td>0.0</td>\n",
       "      <td>0.0</td>\n",
       "      <td>...</td>\n",
       "      <td>0.0</td>\n",
       "      <td>0</td>\n",
       "      <td>0</td>\n",
       "      <td>0</td>\n",
       "      <td>0</td>\n",
       "      <td>8962.0</td>\n",
       "      <td>9086.0</td>\n",
       "      <td>9384.0</td>\n",
       "      <td>9474.0</td>\n",
       "      <td>0</td>\n",
       "    </tr>\n",
       "  </tbody>\n",
       "</table>\n",
       "<p>1946 rows × 105 columns</p>\n",
       "</div>"
      ],
      "text/plain": [
       "       FIPS  Population, low access to store, 2010  \\\n",
       "0     39127                                 3713.6   \n",
       "3     12081                                74391.9   \n",
       "4     22067                                 6896.4   \n",
       "5      5031                                24130.0   \n",
       "6      1053                                 5188.7   \n",
       "...     ...                                    ...   \n",
       "3133  13159                                  916.4   \n",
       "3134  47075                                 3041.5   \n",
       "3135   5129                                 2725.7   \n",
       "3139  20161                                35861.6   \n",
       "3142  38055                                 4944.0   \n",
       "\n",
       "      Low income & low access to store, 2010  \\\n",
       "0                                     1898.7   \n",
       "3                                    18524.6   \n",
       "4                                     3895.5   \n",
       "5                                     9933.3   \n",
       "6                                     2903.3   \n",
       "...                                      ...   \n",
       "3133                                   409.8   \n",
       "3134                                  1492.4   \n",
       "3135                                  1567.6   \n",
       "3139                                 15461.5   \n",
       "3142                                  1291.1   \n",
       "\n",
       "      Households, no car & low access to store, 2010  \\\n",
       "0                                              790.5   \n",
       "3                                             1306.1   \n",
       "4                                              687.0   \n",
       "5                                             1008.8   \n",
       "6                                              558.0   \n",
       "...                                              ...   \n",
       "3133                                           206.7   \n",
       "3134                                           272.5   \n",
       "3135                                           227.6   \n",
       "3139                                           752.7   \n",
       "3142                                            67.2   \n",
       "\n",
       "      Children, low access to store, 2010  Seniors, low access to store, 2010  \\\n",
       "0                                  1094.1                               456.2   \n",
       "3                                 12245.0                             21417.0   \n",
       "4                                  1724.0                              1035.6   \n",
       "5                                  6106.8                              2389.5   \n",
       "6                                  1285.8                               803.1   \n",
       "...                                   ...                                 ...   \n",
       "3133                                243.2                               105.8   \n",
       "3134                                780.7                               384.6   \n",
       "3135                                549.3                               533.2   \n",
       "3139                               7442.0                              2375.0   \n",
       "3142                                992.9                              1053.1   \n",
       "\n",
       "      Grocery stores, 2009  Grocery stores/1,000 pop, 2009  \\\n",
       "0                      8.0                             0.2   \n",
       "3                     60.0                             0.2   \n",
       "4                      4.0                             0.1   \n",
       "5                     19.0                             0.2   \n",
       "6                      8.0                             0.2   \n",
       "...                    ...                             ...   \n",
       "3133                   2.0                             0.1   \n",
       "3134                   4.0                             0.2   \n",
       "3135                   2.0                             0.2   \n",
       "3139                   5.0                             0.1   \n",
       "3142                   2.0                             0.2   \n",
       "\n",
       "      Supercenters & club stores, 2009  \\\n",
       "0                                  0.0   \n",
       "3                                  7.0   \n",
       "4                                  1.0   \n",
       "5                                  3.0   \n",
       "6                                  0.0   \n",
       "...                                ...   \n",
       "3133                               0.0   \n",
       "3134                               1.0   \n",
       "3135                               0.0   \n",
       "3139                               1.0   \n",
       "3142                               0.0   \n",
       "\n",
       "      Supercenters & club stores/1,000 pop, 2009   ...    \\\n",
       "0                                            0.0   ...     \n",
       "3                                            0.0   ...     \n",
       "4                                            0.0   ...     \n",
       "5                                            0.0   ...     \n",
       "6                                            0.0   ...     \n",
       "...                                          ...   ...     \n",
       "3133                                         0.0   ...     \n",
       "3134                                         0.1   ...     \n",
       "3135                                         0.0   ...     \n",
       "3139                                         0.0   ...     \n",
       "3142                                         0.0   ...     \n",
       "\n",
       "      Recreation & fitness facilities/1,000 pop, 2009  \\\n",
       "0                                                 0.1   \n",
       "3                                                 0.2   \n",
       "4                                                 0.0   \n",
       "5                                                 0.1   \n",
       "6                                                 0.1   \n",
       "...                                               ...   \n",
       "3133                                              0.1   \n",
       "3134                                              0.0   \n",
       "3135                                              0.0   \n",
       "3139                                              0.0   \n",
       "3142                                              0.0   \n",
       "\n",
       "      Persistent-poverty counties, 2010  \\\n",
       "0                                     0   \n",
       "3                                     1   \n",
       "4                                     1   \n",
       "5                                     0   \n",
       "6                                     1   \n",
       "...                                 ...   \n",
       "3133                                  0   \n",
       "3134                                  0   \n",
       "3135                                  0   \n",
       "3139                                  0   \n",
       "3142                                  0   \n",
       "\n",
       "      Persistent-child-poverty counties, 2010  Metro/nonmetro counties, 2010  \\\n",
       "0                                           0                              0   \n",
       "3                                           1                              0   \n",
       "4                                           1                              0   \n",
       "5                                           0                              0   \n",
       "6                                           1                              0   \n",
       "...                                       ...                            ...   \n",
       "3133                                        0                              0   \n",
       "3134                                        1                              0   \n",
       "3135                                        1                              0   \n",
       "3139                                        0                              0   \n",
       "3142                                        0                              0   \n",
       "\n",
       "      Population-loss counties, 2010  2010 Census Population  \\\n",
       "0                                  1                 36058.0   \n",
       "3                                  0                322833.0   \n",
       "4                                  0                 27979.0   \n",
       "5                                  0                 96443.0   \n",
       "6                                  0                 38319.0   \n",
       "...                              ...                     ...   \n",
       "3133                               0                 13900.0   \n",
       "3134                               0                 18787.0   \n",
       "3135                               0                  8195.0   \n",
       "3139                               0                 71115.0   \n",
       "3142                               0                  8962.0   \n",
       "\n",
       "      Population Estimate, 2011  Population Estimate, 2012  \\\n",
       "0                       36207.0                    35991.0   \n",
       "3                      327373.0                   334096.0   \n",
       "4                       27502.0                    27454.0   \n",
       "5                       98371.0                    99948.0   \n",
       "6                       38227.0                    38063.0   \n",
       "...                         ...                        ...   \n",
       "3133                    13774.0                    13586.0   \n",
       "3134                    18568.0                    18281.0   \n",
       "3135                     8069.0                     7988.0   \n",
       "3139                    73338.0                    76273.0   \n",
       "3142                     9086.0                     9384.0   \n",
       "\n",
       "      Population Estimate, 2013  TARGET  \n",
       "0                       35977.0       0  \n",
       "3                      342246.0       1  \n",
       "4                       27012.0       1  \n",
       "5                      101654.0       0  \n",
       "6                       37877.0       1  \n",
       "...                         ...     ...  \n",
       "3133                    13524.0       0  \n",
       "3134                    18256.0       1  \n",
       "3135                     7979.0       0  \n",
       "3139                    75502.0       0  \n",
       "3142                     9474.0       0  \n",
       "\n",
       "[1946 rows x 105 columns]"
      ]
     },
     "execution_count": 62,
     "metadata": {},
     "output_type": "execute_result"
    }
   ],
   "source": [
    "df.dropna(inplace=True)\n",
    "df\n",
    "#print(df.shape)"
   ]
  },
  {
   "cell_type": "code",
   "execution_count": 63,
   "metadata": {},
   "outputs": [
    {
     "name": "stdout",
     "output_type": "stream",
     "text": [
      "FIPS                                              0\n",
      "Population, low access to store, 2010             0\n",
      "Low income & low access to store, 2010            0\n",
      "Households, no car & low access to store, 2010    0\n",
      "Children, low access to store, 2010               0\n",
      "                                                 ..\n",
      "2010 Census Population                            0\n",
      "Population Estimate, 2011                         0\n",
      "Population Estimate, 2012                         0\n",
      "Population Estimate, 2013                         0\n",
      "TARGET                                            0\n",
      "Length: 105, dtype: int64\n",
      "(1946, 105)\n"
     ]
    }
   ],
   "source": [
    "print(df.isnull().sum())\n",
    "print(df.shape)"
   ]
  },
  {
   "cell_type": "code",
   "execution_count": 65,
   "metadata": {},
   "outputs": [
    {
     "data": {
      "text/plain": [
       "(1946, 103)"
      ]
     },
     "execution_count": 65,
     "metadata": {},
     "output_type": "execute_result"
    }
   ],
   "source": [
    "#RUN THESE # LINES AFTER REMOVING OUTLIERS\n",
    "Y = df[[\"TARGET\"]]\n",
    "X = df.drop(columns = [\"TARGET\"])\n",
    "X = X.iloc[:,1:]\n",
    "\n",
    "X.shape"
   ]
  },
  {
   "cell_type": "code",
   "execution_count": 66,
   "metadata": {},
   "outputs": [],
   "source": [
    "from sklearn.model_selection import train_test_split\n",
    "from sklearn.metrics import accuracy_score\n",
    "X_train, X_test, Y_train, Y_test = train_test_split(X, Y, test_size = 0.2, random_state = 1)"
   ]
  },
  {
   "cell_type": "markdown",
   "metadata": {},
   "source": [
    "# Extra Trees Classifier\n"
   ]
  },
  {
   "cell_type": "code",
   "execution_count": 67,
   "metadata": {},
   "outputs": [
    {
     "name": "stdout",
     "output_type": "stream",
     "text": [
      "Fitting ExtraTreesClassifier on faces data with 4 cores...\n",
      "done in 2.323s\n"
     ]
    }
   ],
   "source": [
    "from time import time\n",
    "from sklearn.ensemble import ExtraTreesClassifier\n",
    "# Number of cores to use to perform parallel fitting of the forest model\n",
    "n_jobs = 4\n",
    "print(\"Fitting ExtraTreesClassifier on faces data with %d cores...\" % n_jobs)\n",
    "t0 = time()\n",
    "forest = ExtraTreesClassifier(n_estimators=1000,\n",
    "                              n_jobs=n_jobs,\n",
    "                              random_state=0)\n",
    "forest.fit(X_train, Y_train.values.ravel())\n",
    "print(\"done in %0.3fs\" % (time() - t0))\n",
    "importances = forest.feature_importances_"
   ]
  },
  {
   "cell_type": "code",
   "execution_count": 68,
   "metadata": {},
   "outputs": [
    {
     "name": "stdout",
     "output_type": "stream",
     "text": [
      "Accuracy Score is: 0.6282051282051282\n",
      "[ 0.00995074  0.00986797  0.01194808  0.01020432  0.00996898  0.02626007\n",
      "  0.03606507  0.00981835  0.01105111  0.01160104  0.01159801  0.01015816\n",
      "  0.01124989  0.01196518  0.01146452  0.01223466  0.0111987   0.01075227\n",
      "  0.01217646  0.00970485  0.0112796   0.00950226  0.01078912  0.00870433\n",
      "  0.00889845  0.0090011   0.00926727  0.0107223   0.01032506  0.00837213\n",
      "  0.00733217  0.00731915  0.          0.00967633  0.00926948  0.00942945\n",
      "  0.00987228  0.00402033  0.0089201   0.01102689  0.00915904  0.0092984\n",
      "  0.00929761  0.00919326  0.00909544  0.01049665  0.01094653  0.00884417\n",
      "  0.0102172   0.00907778  0.00893488  0.00866561  0.00897899  0.00879925\n",
      "  0.00895585  0.00919758  0.00942408  0.00875104  0.00939403  0.0086546\n",
      "  0.00880623  0.00904157  0.00913989  0.00898853  0.00870678  0.00964713\n",
      "  0.00966365  0.0094609   0.00928909  0.00853767  0.0088312   0.00914789\n",
      "  0.00902976  0.00891598  0.00899869  0.00756583  0.00866574  0.00379807\n",
      "  0.00579622  0.00379643  0.00596858  0.01107911  0.01004823  0.01046257\n",
      "  0.01124459  0.00949047  0.00983202  0.          0.00924506  0.01186168\n",
      "  0.01306921  0.01095418  0.01140224  0.00908895  0.01025919  0.00428879\n",
      "  0.0067275   0.0076554   0.00694109  0.01148962  0.01130375  0.01174924\n",
      "  0.01166299]\n",
      "[[ 0.455  0.545]\n",
      " [ 0.     1.   ]\n",
      " [ 0.     1.   ]\n",
      " ..., \n",
      " [ 0.696  0.304]\n",
      " [ 1.     0.   ]\n",
      " [ 1.     0.   ]]\n"
     ]
    }
   ],
   "source": [
    "print(\"Accuracy Score is: {}\".format(forest.score(X_test,Y_test)))\n",
    "print(importances)\n",
    "#print(ExtraTreesClassifier.score(X_test,Y_test, sample_weight = None))\n",
    "print(forest.predict_proba(X))"
   ]
  },
  {
   "cell_type": "code",
   "execution_count": 69,
   "metadata": {},
   "outputs": [
    {
     "data": {
      "text/plain": [
       "array([0, 1, 0, ..., 1, 0, 1], dtype=int64)"
      ]
     },
     "execution_count": 69,
     "metadata": {},
     "output_type": "execute_result"
    }
   ],
   "source": [
    "#Y_train = Y_train.as_matrix()\n",
    "#X_train = X_train.as_matrix()\n",
    "Y_train.values.ravel()"
   ]
  },
  {
   "cell_type": "code",
   "execution_count": null,
   "metadata": {},
   "outputs": [
    {
     "name": "stderr",
     "output_type": "stream",
     "text": [
      "C:\\anaconda3\\lib\\site-packages\\ipykernel_launcher.py:43: DataConversionWarning: A column-vector y was passed when a 1d array was expected. Please change the shape of y to (n_samples, ), for example using ravel().\n",
      "C:\\anaconda3\\lib\\site-packages\\sklearn\\utils\\validation.py:578: DataConversionWarning: A column-vector y was passed when a 1d array was expected. Please change the shape of y to (n_samples, ), for example using ravel().\n",
      "  y = column_or_1d(y, warn=True)\n"
     ]
    }
   ],
   "source": [
    "#http://scikit-learn.org/stable/auto_examples/classification/plot_classifier_comparison.html#sphx-glr-auto-examples-classification-plot-classifier-comparison-py\n",
    "#import matplotlib.pyplot as plt\n",
    "#from matplotlib.colors import ListedColormap\n",
    "#from sklearn.preprocessing import StandardScaler\n",
    "#from sklearn.neural_network import MLPClassifier\n",
    "#from sklearn.neighbors import KNeighborsClassifier\n",
    "#from sklearn.svm import SVC\n",
    "#from sklearn.gaussian_process import GaussianProcessClassifier\n",
    "#from sklearn.gaussian_process.kernels import RBF, Matern, RationalQuadratic,ExpSineSquared,DotProduct\n",
    "#from sklearn.tree import DecisionTreeClassifier\n",
    "#from sklearn.ensemble import RandomForestClassifier, AdaBoostClassifier\n",
    "#from sklearn.naive_bayes import GaussianNB\n",
    "#from sklearn.discriminant_analysis import QuadraticDiscriminantAnalysis\n",
    "\n",
    "#names = [\"Nearest Neighbors1\", \"Nearest Neighbors2\", \"Nearest Neighbors3\", \"Linear SVM\", \"RBF SVM\", \"Matern SVM\",\\\n",
    "#         \"Rational Quadratic SVM\", \"ExpSineSquared SVM\", \"DotProduct SVM\", \"Sigmoid SVM\",\"Gaussian Process\",\\\n",
    "#         \"Decision Tree1\", \"Decision Tree2\", \"Decision Tree3\", \"Random Forest1\", \"Random Forest2\", \"Random Forest3\",\\\n",
    "#         \"Neural Net 1\", \"Neural Net 2\", \"Neural Net 3\",\"AdaBoost\",\\\n",
    "#         \"Naive Bayes\", \"QDA\"]\n",
    "\n",
    "#classifiers = [\n",
    "   # KNeighborsClassifier(3),\n",
    "   # KNeighborsClassifier(5),\n",
    "   # KNeighborsClassifier(8),\n",
    "   # SVC(kernel=\"linear\", C=0.025),\n",
    "   # SVC(gamma=2, C=1),\n",
    "   # SVC(kernel=\"Matern\"),\n",
    "   # SVC(kernel=\"RationalQuadratic\"),\n",
    "   # SVC(kernel=\"ExpSineSquared\"),\n",
    "   # SVC(kernel=\"DotProduct\"),\n",
    "   # SVC(kernel=\"sigmoid\"),\n",
    "   # GaussianProcessClassifier(1.0 * RBF(1.0)),\n",
    "   # DecisionTreeClassifier(max_depth=5),\n",
    "   # DecisionTreeClassifier(max_depth=10),\n",
    "   # DecisionTreeClassifier(max_depth=15),\n",
    "   # RandomForestClassifier(max_depth=5),\n",
    "   # RandomForestClassifier(max_depth=10),\n",
    "   # RandomForestClassifier(max_depth=15),\n",
    "   # MLPClassifier(activation=\"relu\",solver=\"lbfgs\"),\n",
    "   # MLPClassifier(activation=\"tanh\",solver=\"lbfgs\"),\n",
    "   # MLPClassifier(activation=\"logistic\",solver=\"lbfgs\"),\n",
    "   # AdaBoostClassifier(),\n",
    "   # GaussianNB(),\n",
    "   # QuadraticDiscriminantAnalysis()]\n",
    "\n",
    "#for name,clf in zip(names,classifiers):\n",
    "#    clf.fit(X_train,Y_train)\n",
    "    #score = clf.score(X_test, Y_test)\n",
    "    #print(\"For model {}, using classifer {}, we got an accuracy of {}\".format(name,clf,score))"
   ]
  },
  {
   "cell_type": "markdown",
   "metadata": {},
   "source": [
    "   # Bagging Classifier"
   ]
  },
  {
   "cell_type": "code",
   "execution_count": 19,
   "metadata": {},
   "outputs": [],
   "source": [
    "from sklearn.ensemble import BaggingClassifier\n"
   ]
  },
  {
   "cell_type": "markdown",
   "metadata": {},
   "source": [
    "# Gradient Boosting Classifier"
   ]
  },
  {
   "cell_type": "code",
   "execution_count": null,
   "metadata": {},
   "outputs": [],
   "source": []
  },
  {
   "cell_type": "markdown",
   "metadata": {},
   "source": [
    "# GaussianNB"
   ]
  },
  {
   "cell_type": "code",
   "execution_count": 70,
   "metadata": {},
   "outputs": [
    {
     "name": "stdout",
     "output_type": "stream",
     "text": [
      "0.530769230769\n"
     ]
    }
   ],
   "source": [
    "from sklearn.naive_bayes import GaussianNB\n",
    "GNB = GaussianNB()\n",
    "GNB.fit(X_train,Y_train.values.ravel())\n",
    "print(GNB.score(X_test,Y_test.values.ravel()))"
   ]
  },
  {
   "cell_type": "markdown",
   "metadata": {},
   "source": [
    "# Linear Discriminant Analysis"
   ]
  },
  {
   "cell_type": "code",
   "execution_count": 71,
   "metadata": {},
   "outputs": [
    {
     "name": "stderr",
     "output_type": "stream",
     "text": [
      "C:\\anaconda3\\lib\\site-packages\\sklearn\\discriminant_analysis.py:388: UserWarning: Variables are collinear.\n",
      "  warnings.warn(\"Variables are collinear.\")\n"
     ]
    },
    {
     "data": {
      "text/plain": [
       "0.65641025641025641"
      ]
     },
     "execution_count": 71,
     "metadata": {},
     "output_type": "execute_result"
    }
   ],
   "source": [
    "from sklearn.discriminant_analysis import LinearDiscriminantAnalysis\n",
    "LDA1 = LinearDiscriminantAnalysis()\n",
    "LDA1.fit(X_train,Y_train.values.ravel())\n",
    "LDA1.score(X_test,Y_test.values.ravel())"
   ]
  },
  {
   "cell_type": "markdown",
   "metadata": {},
   "source": [
    "# Quadratic Discriminant Analysis"
   ]
  },
  {
   "cell_type": "code",
   "execution_count": 72,
   "metadata": {},
   "outputs": [
    {
     "name": "stderr",
     "output_type": "stream",
     "text": [
      "C:\\anaconda3\\lib\\site-packages\\sklearn\\discriminant_analysis.py:682: UserWarning: Variables are collinear\n",
      "  warnings.warn(\"Variables are collinear\")\n"
     ]
    },
    {
     "data": {
      "text/plain": [
       "0.58461538461538465"
      ]
     },
     "execution_count": 72,
     "metadata": {},
     "output_type": "execute_result"
    }
   ],
   "source": [
    "from sklearn.discriminant_analysis import QuadraticDiscriminantAnalysis\n",
    "QDA1 = QuadraticDiscriminantAnalysis()\n",
    "QDA1.fit(X_train,Y_train.values.ravel())\n",
    "QDA1.score(X_test,Y_test.values.ravel())"
   ]
  },
  {
   "cell_type": "markdown",
   "metadata": {},
   "source": [
    "# Gaussian Process Classifier"
   ]
  },
  {
   "cell_type": "code",
   "execution_count": 73,
   "metadata": {},
   "outputs": [
    {
     "name": "stdout",
     "output_type": "stream",
     "text": [
      "0.528205128205\n"
     ]
    }
   ],
   "source": [
    "from sklearn.gaussian_process import GaussianProcessClassifier\n",
    "GPC = GaussianProcessClassifier()\n",
    "GPC.fit(X_train, Y_train.values.ravel())\n",
    "print(GPC.score(X_test,Y_test.values.ravel()))"
   ]
  },
  {
   "cell_type": "markdown",
   "metadata": {},
   "source": [
    "# MLP Classifier"
   ]
  },
  {
   "cell_type": "code",
   "execution_count": 74,
   "metadata": {},
   "outputs": [
    {
     "name": "stdout",
     "output_type": "stream",
     "text": [
      "0.502570694087\n"
     ]
    }
   ],
   "source": [
    "from sklearn.neural_network import MLPClassifier\n",
    "MLPC1 = MLPClassifier(activation=\"relu\",solver=\"lbfgs\")\n",
    "MLPC1.fit(X_train,Y_train.values.ravel())\n",
    "print(MLPC1.score(X_train,Y_train.values.ravel()))"
   ]
  },
  {
   "cell_type": "code",
   "execution_count": 75,
   "metadata": {},
   "outputs": [
    {
     "name": "stdout",
     "output_type": "stream",
     "text": [
      "0.567480719794\n"
     ]
    }
   ],
   "source": [
    "MLPC2 = MLPClassifier(activation=\"tanh\",solver=\"lbfgs\")\n",
    "MLPC2.fit(X_train,Y_train.values.ravel())\n",
    "print(MLPC2.score(X_train,Y_train.values.ravel()))"
   ]
  },
  {
   "cell_type": "code",
   "execution_count": 76,
   "metadata": {},
   "outputs": [
    {
     "name": "stdout",
     "output_type": "stream",
     "text": [
      "0.573907455013\n"
     ]
    }
   ],
   "source": [
    "MLPC3 = MLPClassifier(activation=\"logistic\",solver=\"lbfgs\")\n",
    "MLPC3.fit(X_train,Y_train.values.ravel())\n",
    "print(MLPC3.score(X_train,Y_train.values.ravel()))"
   ]
  },
  {
   "cell_type": "markdown",
   "metadata": {},
   "source": [
    "# Decision Trees"
   ]
  },
  {
   "cell_type": "markdown",
   "metadata": {},
   "source": [
    "# Decision Tree with max depth 5 or 10 give ~62-64% accuracy"
   ]
  },
  {
   "cell_type": "code",
   "execution_count": 77,
   "metadata": {},
   "outputs": [
    {
     "name": "stdout",
     "output_type": "stream",
     "text": [
      "0.638461538462\n",
      "Grocery stores, 2009   0.36976444140670645\n",
      "Grocery stores/1,000 pop, 2009   0.1857477110304459\n",
      "Specialized food stores, 2009   0.020765633671691253\n",
      "Specialized food stores/1,000 pop, 2009   0.012691236340984683\n",
      "SNAP-authorized stores/1,000 pop, 2012   0.01646873669216576\n",
      "WIC-authorized stores, 2012   0.019986666329086824\n",
      "WIC-authorized stores/1,000 pop, 2012   0.10825253504710354\n",
      "Full-service restaurants, 2009   0.026347849588306573\n",
      "Farms with direct sales, 2007   0.01996414203091115\n",
      "Farmers' markets/1,000 pop, 2009   0.008539071368532698\n",
      "Farms with vegetables harvested for fresh market, 2007   0.0081486294003719\n",
      "Vegetable acres harvested for fresh market/1,000 pop, 2012   0.02115108576930355\n",
      "Orchard farms, 2007   0.009011253445746222\n",
      "Orchard acres/1,000 pop, 2007   0.023679162279325844\n",
      "Berry farms, 2012   0.006442175841917109\n",
      "Berry acres, 2012   0.03006169477890631\n",
      "CSA farms, 2007   0.01909835015712163\n",
      "Agritourism operations, 2012   0.04009360774730721\n",
      "Agritourism receipts, 2012   0.024894939361190707\n",
      "Adult diabetes rate, 2008   0.02889107771287465\n"
     ]
    }
   ],
   "source": [
    "from sklearn.tree import DecisionTreeClassifier\n",
    "dt1 = DecisionTreeClassifier(max_depth=5)\n",
    "dt1.fit(X_train,Y_train)\n",
    "print(dt1.score(X_test,Y_test))\n",
    "for a,b in zip(list(X_train),dt1.feature_importances_):\n",
    "    if b>0:\n",
    "        print(\"{}   {}\".format(a,b))"
   ]
  },
  {
   "cell_type": "code",
   "execution_count": 78,
   "metadata": {},
   "outputs": [
    {
     "name": "stdout",
     "output_type": "stream",
     "text": [
      "0.610256410256\n"
     ]
    }
   ],
   "source": [
    "from sklearn.tree import DecisionTreeClassifier\n",
    "dt2 = DecisionTreeClassifier(max_depth=10)\n",
    "dt2.fit(X_train,Y_train)\n",
    "print(dt2.score(X_test,Y_test))"
   ]
  },
  {
   "cell_type": "code",
   "execution_count": 79,
   "metadata": {},
   "outputs": [
    {
     "name": "stdout",
     "output_type": "stream",
     "text": [
      "0.561538461538\n"
     ]
    }
   ],
   "source": [
    "from sklearn.tree import DecisionTreeClassifier\n",
    "dt3 = DecisionTreeClassifier(max_depth=15)\n",
    "dt3.fit(X_train,Y_train)\n",
    "print(dt3.score(X_test,Y_test))"
   ]
  },
  {
   "cell_type": "code",
   "execution_count": 80,
   "metadata": {
    "scrolled": true
   },
   "outputs": [
    {
     "name": "stdout",
     "output_type": "stream",
     "text": [
      "0.566666666667\n"
     ]
    }
   ],
   "source": [
    "from sklearn.tree import DecisionTreeClassifier\n",
    "dt4 = DecisionTreeClassifier(max_depth=20)\n",
    "dt4.fit(X_train,Y_train)\n",
    "print(dt4.score(X_test,Y_test))"
   ]
  },
  {
   "cell_type": "markdown",
   "metadata": {},
   "source": [
    "# ADABoosting"
   ]
  },
  {
   "cell_type": "code",
   "execution_count": 81,
   "metadata": {},
   "outputs": [
    {
     "name": "stdout",
     "output_type": "stream",
     "text": [
      "0.612820512821\n"
     ]
    }
   ],
   "source": [
    "from sklearn.ensemble import AdaBoostClassifier\n",
    "ada_1 = AdaBoostClassifier(\n",
    "    base_estimator=dt2,\n",
    "    algorithm=\"SAMME.R\")\n",
    "ada_1.fit(X_train, Y_train.values.ravel())\n",
    "print(ada_1.score(X_test,Y_test.values.ravel()))"
   ]
  },
  {
   "cell_type": "markdown",
   "metadata": {},
   "source": [
    "# Random Forest Classifier"
   ]
  },
  {
   "cell_type": "markdown",
   "metadata": {},
   "source": [
    "# Random Forests with depth of 5, give ~64% accuracy."
   ]
  },
  {
   "cell_type": "code",
   "execution_count": 82,
   "metadata": {},
   "outputs": [
    {
     "name": "stdout",
     "output_type": "stream",
     "text": [
      "0.579487179487\n"
     ]
    }
   ],
   "source": [
    "from sklearn.ensemble import RandomForestClassifier\n",
    "RF1 = RandomForestClassifier(max_depth=5, random_state=0)\n",
    "RF1.fit(X_train,Y_train.values.ravel())\n",
    "print(RF1.score(X_test,Y_test.values.ravel()))"
   ]
  },
  {
   "cell_type": "code",
   "execution_count": 83,
   "metadata": {},
   "outputs": [
    {
     "name": "stdout",
     "output_type": "stream",
     "text": [
      "0.597435897436\n"
     ]
    }
   ],
   "source": [
    "RF2 = RandomForestClassifier(max_depth=10, random_state=0)\n",
    "RF2.fit(X_train,Y_train.values.ravel())\n",
    "print(RF2.score(X_test,Y_test.values.ravel()))"
   ]
  },
  {
   "cell_type": "code",
   "execution_count": 84,
   "metadata": {},
   "outputs": [
    {
     "name": "stdout",
     "output_type": "stream",
     "text": [
      "0.597435897436\n"
     ]
    }
   ],
   "source": [
    "RF3 = RandomForestClassifier(max_depth=15, random_state=0)\n",
    "RF3.fit(X_train,Y_train.values.ravel())\n",
    "print(RF3.score(X_test,Y_test.values.ravel()))"
   ]
  },
  {
   "cell_type": "markdown",
   "metadata": {},
   "source": [
    "# Voting Classifier"
   ]
  },
  {
   "cell_type": "code",
   "execution_count": 85,
   "metadata": {},
   "outputs": [
    {
     "name": "stderr",
     "output_type": "stream",
     "text": [
      "C:\\anaconda3\\lib\\site-packages\\sklearn\\discriminant_analysis.py:682: UserWarning: Variables are collinear\n",
      "  warnings.warn(\"Variables are collinear\")\n",
      "C:\\anaconda3\\lib\\site-packages\\sklearn\\discriminant_analysis.py:682: UserWarning: Variables are collinear\n",
      "  warnings.warn(\"Variables are collinear\")\n"
     ]
    },
    {
     "name": "stdout",
     "output_type": "stream",
     "text": [
      "0.610256410256\n"
     ]
    }
   ],
   "source": [
    "from sklearn.ensemble import VotingClassifier\n",
    "#dt1, rf1, dt2, rf2\n",
    "DT1 = DecisionTreeClassifier(max_depth=5)\n",
    "DT2 = DecisionTreeClassifier(max_depth=10)\n",
    "RF1 = RandomForestClassifier(max_depth=5, random_state=0)\n",
    "RF2 = RandomForestClassifier(max_depth=10, random_state=0)\n",
    "#VC1 = VotingClassifier(estimators=[('dt1',DT1),('rf1',RF1),('dt2',DT2),('rf2',RF2)], voting = 'hard')\n",
    "GNB = GaussianNB()\n",
    "GPC = GaussianProcessClassifier()\n",
    "LDA1 = QuadraticDiscriminantAnalysis()\n",
    "QDA1 = QuadraticDiscriminantAnalysis()\n",
    "ADA_1 = AdaBoostClassifier(base_estimator=DT2,algorithm=\"SAMME.R\")\n",
    "VC1 = VotingClassifier(estimators=[('dt1',DT1),('dt2',DT2),('rf1',RF1),('rf2',RF2),('gnb',GNB),('gpc',GPC),\\\n",
    "                                   ('lda1',LDA1),('qda1',QDA1),('ada_1',ADA_1)], voting = 'hard')\n",
    "VC1.fit(X_train,Y_train.values.ravel())\n",
    "print(VC1.score(X_test,Y_test.values.ravel()))\n"
   ]
  },
  {
   "cell_type": "code",
   "execution_count": 86,
   "metadata": {},
   "outputs": [
    {
     "name": "stdout",
     "output_type": "stream",
     "text": [
      "0.64358974359\n"
     ]
    }
   ],
   "source": [
    "DT1 = DecisionTreeClassifier(max_depth=5)\n",
    "DT2 = DecisionTreeClassifier(max_depth=10)\n",
    "RF1 = RandomForestClassifier(max_depth=5, random_state=0)\n",
    "RF2 = RandomForestClassifier(max_depth=10, random_state=0)\n",
    "#VC1 = VotingClassifier(estimators=[('dt1',DT1),('rf1',RF1),('dt2',DT2),('rf2',RF2)], voting = 'hard')\n",
    "#GNB = GaussianNB()\n",
    "#GPC = GaussianProcessClassifier()\n",
    "#LDA1 = QuadraticDiscriminantAnalysis()\n",
    "#QDA1 = QuadraticDiscriminantAnalysis()\n",
    "#ADA_1 = AdaBoostClassifier(base_estimator=DT2,algorithm=\"SAMME.R\")\n",
    "VC3 = VotingClassifier(estimators=[('dt1',DT1),('dt2',DT2),('rf1',RF1),('rf2',RF2)], voting = 'hard')\n",
    "VC3.fit(X_train,Y_train.values.ravel())\n",
    "print(VC3.score(X_test,Y_test.values.ravel()))"
   ]
  },
  {
   "cell_type": "code",
   "execution_count": 87,
   "metadata": {},
   "outputs": [
    {
     "name": "stdout",
     "output_type": "stream",
     "text": [
      "0.623076923077\n"
     ]
    }
   ],
   "source": [
    "DT1 = DecisionTreeClassifier(max_depth=5)\n",
    "DT2 = DecisionTreeClassifier(max_depth=10)\n",
    "RF1 = RandomForestClassifier(max_depth=5, random_state=0)\n",
    "RF2 = RandomForestClassifier(max_depth=10, random_state=0)\n",
    "RF3 = RandomForestClassifier(max_depth=15, random_state=0)\n",
    "DT4 = DecisionTreeClassifier(max_depth=20)\n",
    "DT3 = DecisionTreeClassifier(max_depth=15)\n",
    "VC4 = VotingClassifier(estimators=[('dt1',DT1),('dt2',DT2),('rf1',RF1),('rf2',RF2),('rf3',RF3),('dt3',DT3),('dt4',DT4)], voting = 'hard')\n",
    "VC4.fit(X_train,Y_train.values.ravel())\n",
    "print(VC4.score(X_test,Y_test.values.ravel()))"
   ]
  },
  {
   "cell_type": "code",
   "execution_count": 88,
   "metadata": {},
   "outputs": [
    {
     "name": "stderr",
     "output_type": "stream",
     "text": [
      "C:\\anaconda3\\lib\\site-packages\\sklearn\\discriminant_analysis.py:682: UserWarning: Variables are collinear\n",
      "  warnings.warn(\"Variables are collinear\")\n",
      "C:\\anaconda3\\lib\\site-packages\\sklearn\\discriminant_analysis.py:682: UserWarning: Variables are collinear\n",
      "  warnings.warn(\"Variables are collinear\")\n"
     ]
    },
    {
     "name": "stdout",
     "output_type": "stream",
     "text": [
      "0.646153846154\n"
     ]
    }
   ],
   "source": [
    "DT1 = DecisionTreeClassifier(max_depth=5)\n",
    "DT2 = DecisionTreeClassifier(max_depth=10)\n",
    "RF1 = RandomForestClassifier(max_depth=5, random_state=0)\n",
    "RF2 = RandomForestClassifier(max_depth=10, random_state=0)\n",
    "#VC1 = VotingClassifier(estimators=[('dt1',DT1),('rf1',RF1),('dt2',DT2),('rf2',RF2)], voting = 'hard')\n",
    "GNB = GaussianNB()\n",
    "GPC = GaussianProcessClassifier()\n",
    "LDA1 = QuadraticDiscriminantAnalysis()\n",
    "QDA1 = QuadraticDiscriminantAnalysis()\n",
    "ADA_1 = AdaBoostClassifier(base_estimator=DT2,algorithm=\"SAMME.R\")\n",
    "VC2 = VotingClassifier(estimators=[('dt1',DT1),('dt2',DT2),('rf1',RF1),('rf2',RF2),('gnb',GNB),('gpc',GPC),\\\n",
    "                                   ('lda1',LDA1),('qda1',QDA1),('ada_1',ADA_1)], voting = 'soft')\n",
    "VC2.fit(X_train,Y_train.values.ravel())\n",
    "print(VC2.score(X_test,Y_test.values.ravel()))\n"
   ]
  },
  {
   "cell_type": "markdown",
   "metadata": {},
   "source": [
    "# SVM1"
   ]
  },
  {
   "cell_type": "code",
   "execution_count": null,
   "metadata": {},
   "outputs": [],
   "source": [
    "from sklearn.svm import SVC\n",
    "from sklearn.preprocessing import StandardScaler\n",
    "scaler = StandardScaler()\n",
    "X_train1 = scaler.fit_transform(X_train)\n",
    "X_test1 = scaler.fit_transform(X_test)\n",
    "svm1 = SVC(kernel=\"linear\", C=0.025)\n",
    "svm1.fit(X_train1, Y_train.values.ravel())\n",
    "print(svm1.score(X_test1,Y_test.values.ravel()))\n",
    "svm1.predict_proba(X)"
   ]
  },
  {
   "cell_type": "code",
   "execution_count": null,
   "metadata": {},
   "outputs": [],
   "source": [
    "svm2 = svm.SVC(gamma=2, C=1),\n",
    "svm2.fit(X_train, Y_train)\n",
    "print(svm2.score(X_test,Y_test))\n",
    "svm2.predict_proba(X)"
   ]
  },
  {
   "cell_type": "code",
   "execution_count": null,
   "metadata": {},
   "outputs": [],
   "source": [
    "svm3 = svm.SVC(kernel=\"Matern\"),\n",
    "svm3.fit(X_train, Y_train)\n",
    "print(svm3.score(X_test,Y_test))\n",
    "svm3.predict_proba(X)"
   ]
  },
  {
   "cell_type": "code",
   "execution_count": null,
   "metadata": {},
   "outputs": [],
   "source": [
    "svm4 = svm.SVC(kernel=\"RationalQuadratic\"),\n",
    "svm4.fit(X_train, Y_train)\n",
    "print(svm4.score(X_test,Y_test))\n",
    "svm4.predict_proba(X)"
   ]
  },
  {
   "cell_type": "code",
   "execution_count": null,
   "metadata": {},
   "outputs": [],
   "source": [
    "svm5 = svm.SVC(kernel=\"ExpSineSquared\"),\n",
    "svm5.fit(X_train, Y_train)\n",
    "print(svm5.score(X_test,Y_test))\n",
    "svm5.predict_proba(X)"
   ]
  },
  {
   "cell_type": "code",
   "execution_count": null,
   "metadata": {},
   "outputs": [],
   "source": [
    "svm6 = svm.SVC(kernel=\"ExpSineSquared\"),\n",
    "svm6.fit(X_train, Y_train)\n",
    "print(svm6.score(X_test,Y_test))\n",
    "svm6.predict_proba(X)"
   ]
  },
  {
   "cell_type": "code",
   "execution_count": null,
   "metadata": {},
   "outputs": [],
   "source": [
    "svm7 = svm.SVC(kernel=\"ExpSineSquared\"),\n",
    "svm7.fit(X_train, Y_train)\n",
    "print(svm7.score(X_test,Y_test))\n",
    "svm7.predict_proba(X)"
   ]
  },
  {
   "cell_type": "code",
   "execution_count": null,
   "metadata": {},
   "outputs": [],
   "source": [
    "svm8 = svm.SVC(kernel=\"DotProduct\"),\n",
    "svm8.fit(X_train, Y_train)\n",
    "print(svm8.score(X_test,Y_test))\n",
    "svm8.predict_proba(X)"
   ]
  },
  {
   "cell_type": "code",
   "execution_count": null,
   "metadata": {},
   "outputs": [],
   "source": [
    "svm9 = svm.SVC(kernel=\"sigmoid\"),\n",
    "svm9.fit(X_train, Y_train)\n",
    "print(svm9.score(X_test,Y_test))\n",
    "svm9.predict_proba(X)"
   ]
  }
 ],
 "metadata": {
  "kernelspec": {
   "display_name": "Python 3",
   "language": "python",
   "name": "python3"
  },
  "language_info": {
   "codemirror_mode": {
    "name": "ipython",
    "version": 3
   },
   "file_extension": ".py",
   "mimetype": "text/x-python",
   "name": "python",
   "nbconvert_exporter": "python",
   "pygments_lexer": "ipython3",
   "version": "3.6.4"
  }
 },
 "nbformat": 4,
 "nbformat_minor": 2
}
