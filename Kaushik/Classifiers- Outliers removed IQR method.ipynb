{
 "cells": [
  {
   "cell_type": "code",
   "execution_count": 14,
   "metadata": {},
   "outputs": [],
   "source": [
    "import math\n",
    "\n",
    "from IPython import display\n",
    "from matplotlib import cm\n",
    "from matplotlib import gridspec\n",
    "from matplotlib import pyplot as plt\n",
    "import numpy as np\n",
    "import pandas as pd\n",
    "from sklearn import metrics\n",
    "#import tensorflow as tf\n",
    "#from tensorflow.python.data import Dataset\n",
    "\n",
    "#tf.logging.set_verbosity(tf.logging.ERROR)\n",
    "pd.options.display.max_rows = 10\n",
    "pd.options.display.float_format = '{:.1f}'.format\n",
    "\n",
    "import pandas as pd\n",
    "import sklearn as sklearn"
   ]
  },
  {
   "cell_type": "code",
   "execution_count": 19,
   "metadata": {},
   "outputs": [],
   "source": [
    "df = pd.read_excel(r\"C:\\ML Hackathon\\reduced_features_data2.xlsx\")"
   ]
  },
  {
   "cell_type": "code",
   "execution_count": 20,
   "metadata": {},
   "outputs": [
    {
     "name": "stdout",
     "output_type": "stream",
     "text": [
      "FIPS                                              0\n",
      "Population, low access to store, 2010             0\n",
      "Low income & low access to store, 2010            0\n",
      "Households, no car & low access to store, 2010    0\n",
      "Children, low access to store, 2010               0\n",
      "                                                 ..\n",
      "Population Estimate, 2011                         0\n",
      "Population Estimate, 2012                         0\n",
      "Population Estimate, 2013                         0\n",
      "TARGET                                            0\n",
      "Grocery stores, 2014                              0\n",
      "Length: 106, dtype: int64\n"
     ]
    }
   ],
   "source": [
    "print(df.isnull().sum())"
   ]
  },
  {
   "cell_type": "code",
   "execution_count": 22,
   "metadata": {},
   "outputs": [],
   "source": [
    "#edited specific a cell containing a numer classified as string in excel to numeric\n",
    "q1 = df[\"Grocery stores, 2014\"].quantile(0.25)\n",
    "q3 = df[\"Grocery stores, 2014\"].quantile(0.75)\n",
    "iqr = (df[\"Grocery stores, 2014\"] > q1) & (df[\"Grocery stores, 2014\"] < q3)\n",
    "df = df.loc[iqr]"
   ]
  },
  {
   "cell_type": "code",
   "execution_count": 23,
   "metadata": {},
   "outputs": [
    {
     "data": {
      "text/html": [
       "<div>\n",
       "<style scoped>\n",
       "    .dataframe tbody tr th:only-of-type {\n",
       "        vertical-align: middle;\n",
       "    }\n",
       "\n",
       "    .dataframe tbody tr th {\n",
       "        vertical-align: top;\n",
       "    }\n",
       "\n",
       "    .dataframe thead th {\n",
       "        text-align: right;\n",
       "    }\n",
       "</style>\n",
       "<table border=\"1\" class=\"dataframe\">\n",
       "  <thead>\n",
       "    <tr style=\"text-align: right;\">\n",
       "      <th></th>\n",
       "      <th>FIPS</th>\n",
       "      <th>Population, low access to store, 2010</th>\n",
       "      <th>Low income &amp; low access to store, 2010</th>\n",
       "      <th>Households, no car &amp; low access to store, 2010</th>\n",
       "      <th>Children, low access to store, 2010</th>\n",
       "      <th>Seniors, low access to store, 2010</th>\n",
       "      <th>Grocery stores, 2009</th>\n",
       "      <th>Grocery stores/1,000 pop, 2009</th>\n",
       "      <th>Supercenters &amp; club stores, 2009</th>\n",
       "      <th>Supercenters &amp; club stores/1,000 pop, 2009</th>\n",
       "      <th>...</th>\n",
       "      <th>Persistent-poverty counties, 2010</th>\n",
       "      <th>Persistent-child-poverty counties, 2010</th>\n",
       "      <th>Metro/nonmetro counties, 2010</th>\n",
       "      <th>Population-loss counties, 2010</th>\n",
       "      <th>2010 Census Population</th>\n",
       "      <th>Population Estimate, 2011</th>\n",
       "      <th>Population Estimate, 2012</th>\n",
       "      <th>Population Estimate, 2013</th>\n",
       "      <th>TARGET</th>\n",
       "      <th>Grocery stores, 2014</th>\n",
       "    </tr>\n",
       "  </thead>\n",
       "  <tbody>\n",
       "    <tr>\n",
       "      <th>0</th>\n",
       "      <td>39127</td>\n",
       "      <td>3713.6</td>\n",
       "      <td>1898.7</td>\n",
       "      <td>790.5</td>\n",
       "      <td>1094.1</td>\n",
       "      <td>456.2</td>\n",
       "      <td>8</td>\n",
       "      <td>0.2</td>\n",
       "      <td>0</td>\n",
       "      <td>0.0</td>\n",
       "      <td>...</td>\n",
       "      <td>0</td>\n",
       "      <td>0</td>\n",
       "      <td>0</td>\n",
       "      <td>1.0</td>\n",
       "      <td>36058</td>\n",
       "      <td>36207</td>\n",
       "      <td>35991</td>\n",
       "      <td>35977</td>\n",
       "      <td>0</td>\n",
       "      <td>8</td>\n",
       "    </tr>\n",
       "    <tr>\n",
       "      <th>6</th>\n",
       "      <td>1053</td>\n",
       "      <td>5188.7</td>\n",
       "      <td>2903.3</td>\n",
       "      <td>558.0</td>\n",
       "      <td>1285.8</td>\n",
       "      <td>803.1</td>\n",
       "      <td>8</td>\n",
       "      <td>0.2</td>\n",
       "      <td>0</td>\n",
       "      <td>0.0</td>\n",
       "      <td>...</td>\n",
       "      <td>1</td>\n",
       "      <td>1</td>\n",
       "      <td>0</td>\n",
       "      <td>0.0</td>\n",
       "      <td>38319</td>\n",
       "      <td>38227</td>\n",
       "      <td>38063</td>\n",
       "      <td>37877</td>\n",
       "      <td>10</td>\n",
       "      <td>4</td>\n",
       "    </tr>\n",
       "    <tr>\n",
       "      <th>10</th>\n",
       "      <td>19021</td>\n",
       "      <td>2738.8</td>\n",
       "      <td>789.3</td>\n",
       "      <td>185.6</td>\n",
       "      <td>675.2</td>\n",
       "      <td>485.6</td>\n",
       "      <td>4</td>\n",
       "      <td>0.2</td>\n",
       "      <td>1</td>\n",
       "      <td>0.0</td>\n",
       "      <td>...</td>\n",
       "      <td>0</td>\n",
       "      <td>0</td>\n",
       "      <td>0</td>\n",
       "      <td>0.0</td>\n",
       "      <td>20260</td>\n",
       "      <td>20244</td>\n",
       "      <td>20543</td>\n",
       "      <td>20552</td>\n",
       "      <td>0</td>\n",
       "      <td>4</td>\n",
       "    </tr>\n",
       "    <tr>\n",
       "      <th>15</th>\n",
       "      <td>24023</td>\n",
       "      <td>1294.4</td>\n",
       "      <td>577.0</td>\n",
       "      <td>608.7</td>\n",
       "      <td>274.4</td>\n",
       "      <td>243.2</td>\n",
       "      <td>5</td>\n",
       "      <td>0.2</td>\n",
       "      <td>1</td>\n",
       "      <td>0.0</td>\n",
       "      <td>...</td>\n",
       "      <td>0</td>\n",
       "      <td>0</td>\n",
       "      <td>1</td>\n",
       "      <td>0.0</td>\n",
       "      <td>30097</td>\n",
       "      <td>30101</td>\n",
       "      <td>29904</td>\n",
       "      <td>29952</td>\n",
       "      <td>0</td>\n",
       "      <td>6</td>\n",
       "    </tr>\n",
       "    <tr>\n",
       "      <th>16</th>\n",
       "      <td>32007</td>\n",
       "      <td>11097.1</td>\n",
       "      <td>2714.8</td>\n",
       "      <td>219.7</td>\n",
       "      <td>3237.8</td>\n",
       "      <td>1052.8</td>\n",
       "      <td>10</td>\n",
       "      <td>0.2</td>\n",
       "      <td>1</td>\n",
       "      <td>0.0</td>\n",
       "      <td>...</td>\n",
       "      <td>0</td>\n",
       "      <td>0</td>\n",
       "      <td>0</td>\n",
       "      <td>0.0</td>\n",
       "      <td>48818</td>\n",
       "      <td>49510</td>\n",
       "      <td>51070</td>\n",
       "      <td>52464</td>\n",
       "      <td>0</td>\n",
       "      <td>11</td>\n",
       "    </tr>\n",
       "    <tr>\n",
       "      <th>...</th>\n",
       "      <td>...</td>\n",
       "      <td>...</td>\n",
       "      <td>...</td>\n",
       "      <td>...</td>\n",
       "      <td>...</td>\n",
       "      <td>...</td>\n",
       "      <td>...</td>\n",
       "      <td>...</td>\n",
       "      <td>...</td>\n",
       "      <td>...</td>\n",
       "      <td>...</td>\n",
       "      <td>...</td>\n",
       "      <td>...</td>\n",
       "      <td>...</td>\n",
       "      <td>...</td>\n",
       "      <td>...</td>\n",
       "      <td>...</td>\n",
       "      <td>...</td>\n",
       "      <td>...</td>\n",
       "      <td>...</td>\n",
       "      <td>...</td>\n",
       "    </tr>\n",
       "    <tr>\n",
       "      <th>3122</th>\n",
       "      <td>38063</td>\n",
       "      <td>3126.0</td>\n",
       "      <td>879.5</td>\n",
       "      <td>49.8</td>\n",
       "      <td>560.0</td>\n",
       "      <td>858.0</td>\n",
       "      <td>4</td>\n",
       "      <td>1.3</td>\n",
       "      <td>0</td>\n",
       "      <td>0.0</td>\n",
       "      <td>...</td>\n",
       "      <td>0</td>\n",
       "      <td>1</td>\n",
       "      <td>0</td>\n",
       "      <td>0.0</td>\n",
       "      <td>3126</td>\n",
       "      <td>3067</td>\n",
       "      <td>3082</td>\n",
       "      <td>3077</td>\n",
       "      <td>0</td>\n",
       "      <td>5</td>\n",
       "    </tr>\n",
       "    <tr>\n",
       "      <th>3123</th>\n",
       "      <td>21027</td>\n",
       "      <td>1961.6</td>\n",
       "      <td>839.3</td>\n",
       "      <td>368.2</td>\n",
       "      <td>457.1</td>\n",
       "      <td>318.3</td>\n",
       "      <td>5</td>\n",
       "      <td>0.3</td>\n",
       "      <td>0</td>\n",
       "      <td>0.0</td>\n",
       "      <td>...</td>\n",
       "      <td>1</td>\n",
       "      <td>1</td>\n",
       "      <td>0</td>\n",
       "      <td>0.0</td>\n",
       "      <td>20059</td>\n",
       "      <td>20274</td>\n",
       "      <td>20095</td>\n",
       "      <td>20053</td>\n",
       "      <td>0</td>\n",
       "      <td>6</td>\n",
       "    </tr>\n",
       "    <tr>\n",
       "      <th>3136</th>\n",
       "      <td>37137</td>\n",
       "      <td>651.6</td>\n",
       "      <td>306.6</td>\n",
       "      <td>214.6</td>\n",
       "      <td>130.2</td>\n",
       "      <td>153.2</td>\n",
       "      <td>4</td>\n",
       "      <td>0.3</td>\n",
       "      <td>0</td>\n",
       "      <td>0.0</td>\n",
       "      <td>...</td>\n",
       "      <td>0</td>\n",
       "      <td>0</td>\n",
       "      <td>1</td>\n",
       "      <td>0.0</td>\n",
       "      <td>13144</td>\n",
       "      <td>13298</td>\n",
       "      <td>13041</td>\n",
       "      <td>12900</td>\n",
       "      <td>0</td>\n",
       "      <td>4</td>\n",
       "    </tr>\n",
       "    <tr>\n",
       "      <th>3137</th>\n",
       "      <td>16049</td>\n",
       "      <td>5584.0</td>\n",
       "      <td>2476.4</td>\n",
       "      <td>102.2</td>\n",
       "      <td>1032.2</td>\n",
       "      <td>1167.8</td>\n",
       "      <td>6</td>\n",
       "      <td>0.4</td>\n",
       "      <td>0</td>\n",
       "      <td>0.0</td>\n",
       "      <td>...</td>\n",
       "      <td>0</td>\n",
       "      <td>0</td>\n",
       "      <td>0</td>\n",
       "      <td>0.0</td>\n",
       "      <td>16267</td>\n",
       "      <td>16468</td>\n",
       "      <td>16407</td>\n",
       "      <td>16211</td>\n",
       "      <td>10</td>\n",
       "      <td>4</td>\n",
       "    </tr>\n",
       "    <tr>\n",
       "      <th>3139</th>\n",
       "      <td>20161</td>\n",
       "      <td>35861.6</td>\n",
       "      <td>15461.5</td>\n",
       "      <td>752.7</td>\n",
       "      <td>7442.0</td>\n",
       "      <td>2375.0</td>\n",
       "      <td>5</td>\n",
       "      <td>0.1</td>\n",
       "      <td>1</td>\n",
       "      <td>0.0</td>\n",
       "      <td>...</td>\n",
       "      <td>0</td>\n",
       "      <td>0</td>\n",
       "      <td>0</td>\n",
       "      <td>0.0</td>\n",
       "      <td>71115</td>\n",
       "      <td>73338</td>\n",
       "      <td>76273</td>\n",
       "      <td>75502</td>\n",
       "      <td>0</td>\n",
       "      <td>10</td>\n",
       "    </tr>\n",
       "  </tbody>\n",
       "</table>\n",
       "<p>1202 rows × 106 columns</p>\n",
       "</div>"
      ],
      "text/plain": [
       "       FIPS  Population, low access to store, 2010  \\\n",
       "0     39127                                 3713.6   \n",
       "6      1053                                 5188.7   \n",
       "10    19021                                 2738.8   \n",
       "15    24023                                 1294.4   \n",
       "16    32007                                11097.1   \n",
       "...     ...                                    ...   \n",
       "3122  38063                                 3126.0   \n",
       "3123  21027                                 1961.6   \n",
       "3136  37137                                  651.6   \n",
       "3137  16049                                 5584.0   \n",
       "3139  20161                                35861.6   \n",
       "\n",
       "      Low income & low access to store, 2010  \\\n",
       "0                                     1898.7   \n",
       "6                                     2903.3   \n",
       "10                                     789.3   \n",
       "15                                     577.0   \n",
       "16                                    2714.8   \n",
       "...                                      ...   \n",
       "3122                                   879.5   \n",
       "3123                                   839.3   \n",
       "3136                                   306.6   \n",
       "3137                                  2476.4   \n",
       "3139                                 15461.5   \n",
       "\n",
       "      Households, no car & low access to store, 2010  \\\n",
       "0                                              790.5   \n",
       "6                                              558.0   \n",
       "10                                             185.6   \n",
       "15                                             608.7   \n",
       "16                                             219.7   \n",
       "...                                              ...   \n",
       "3122                                            49.8   \n",
       "3123                                           368.2   \n",
       "3136                                           214.6   \n",
       "3137                                           102.2   \n",
       "3139                                           752.7   \n",
       "\n",
       "      Children, low access to store, 2010  Seniors, low access to store, 2010  \\\n",
       "0                                  1094.1                               456.2   \n",
       "6                                  1285.8                               803.1   \n",
       "10                                  675.2                               485.6   \n",
       "15                                  274.4                               243.2   \n",
       "16                                 3237.8                              1052.8   \n",
       "...                                   ...                                 ...   \n",
       "3122                                560.0                               858.0   \n",
       "3123                                457.1                               318.3   \n",
       "3136                                130.2                               153.2   \n",
       "3137                               1032.2                              1167.8   \n",
       "3139                               7442.0                              2375.0   \n",
       "\n",
       "      Grocery stores, 2009  Grocery stores/1,000 pop, 2009  \\\n",
       "0                        8                             0.2   \n",
       "6                        8                             0.2   \n",
       "10                       4                             0.2   \n",
       "15                       5                             0.2   \n",
       "16                      10                             0.2   \n",
       "...                    ...                             ...   \n",
       "3122                     4                             1.3   \n",
       "3123                     5                             0.3   \n",
       "3136                     4                             0.3   \n",
       "3137                     6                             0.4   \n",
       "3139                     5                             0.1   \n",
       "\n",
       "      Supercenters & club stores, 2009  \\\n",
       "0                                    0   \n",
       "6                                    0   \n",
       "10                                   1   \n",
       "15                                   1   \n",
       "16                                   1   \n",
       "...                                ...   \n",
       "3122                                 0   \n",
       "3123                                 0   \n",
       "3136                                 0   \n",
       "3137                                 0   \n",
       "3139                                 1   \n",
       "\n",
       "      Supercenters & club stores/1,000 pop, 2009          ...           \\\n",
       "0                                            0.0          ...            \n",
       "6                                            0.0          ...            \n",
       "10                                           0.0          ...            \n",
       "15                                           0.0          ...            \n",
       "16                                           0.0          ...            \n",
       "...                                          ...          ...            \n",
       "3122                                         0.0          ...            \n",
       "3123                                         0.0          ...            \n",
       "3136                                         0.0          ...            \n",
       "3137                                         0.0          ...            \n",
       "3139                                         0.0          ...            \n",
       "\n",
       "      Persistent-poverty counties, 2010  \\\n",
       "0                                     0   \n",
       "6                                     1   \n",
       "10                                    0   \n",
       "15                                    0   \n",
       "16                                    0   \n",
       "...                                 ...   \n",
       "3122                                  0   \n",
       "3123                                  1   \n",
       "3136                                  0   \n",
       "3137                                  0   \n",
       "3139                                  0   \n",
       "\n",
       "      Persistent-child-poverty counties, 2010  Metro/nonmetro counties, 2010  \\\n",
       "0                                           0                              0   \n",
       "6                                           1                              0   \n",
       "10                                          0                              0   \n",
       "15                                          0                              1   \n",
       "16                                          0                              0   \n",
       "...                                       ...                            ...   \n",
       "3122                                        1                              0   \n",
       "3123                                        1                              0   \n",
       "3136                                        0                              1   \n",
       "3137                                        0                              0   \n",
       "3139                                        0                              0   \n",
       "\n",
       "      Population-loss counties, 2010  2010 Census Population  \\\n",
       "0                                1.0                   36058   \n",
       "6                                0.0                   38319   \n",
       "10                               0.0                   20260   \n",
       "15                               0.0                   30097   \n",
       "16                               0.0                   48818   \n",
       "...                              ...                     ...   \n",
       "3122                             0.0                    3126   \n",
       "3123                             0.0                   20059   \n",
       "3136                             0.0                   13144   \n",
       "3137                             0.0                   16267   \n",
       "3139                             0.0                   71115   \n",
       "\n",
       "      Population Estimate, 2011  Population Estimate, 2012  \\\n",
       "0                         36207                      35991   \n",
       "6                         38227                      38063   \n",
       "10                        20244                      20543   \n",
       "15                        30101                      29904   \n",
       "16                        49510                      51070   \n",
       "...                         ...                        ...   \n",
       "3122                       3067                       3082   \n",
       "3123                      20274                      20095   \n",
       "3136                      13298                      13041   \n",
       "3137                      16468                      16407   \n",
       "3139                      73338                      76273   \n",
       "\n",
       "      Population Estimate, 2013  TARGET  Grocery stores, 2014  \n",
       "0                         35977       0                     8  \n",
       "6                         37877      10                     4  \n",
       "10                        20552       0                     4  \n",
       "15                        29952       0                     6  \n",
       "16                        52464       0                    11  \n",
       "...                         ...     ...                   ...  \n",
       "3122                       3077       0                     5  \n",
       "3123                      20053       0                     6  \n",
       "3136                      12900       0                     4  \n",
       "3137                      16211      10                     4  \n",
       "3139                      75502       0                    10  \n",
       "\n",
       "[1202 rows x 106 columns]"
      ]
     },
     "execution_count": 23,
     "metadata": {},
     "output_type": "execute_result"
    }
   ],
   "source": [
    "df"
   ]
  },
  {
   "cell_type": "code",
   "execution_count": 29,
   "metadata": {},
   "outputs": [
    {
     "name": "stdout",
     "output_type": "stream",
     "text": [
      "FIPS                                              0\n",
      "Population, low access to store, 2010             0\n",
      "Low income & low access to store, 2010            0\n",
      "Households, no car & low access to store, 2010    0\n",
      "Children, low access to store, 2010               0\n",
      "                                                 ..\n",
      "Population Estimate, 2011                         0\n",
      "Population Estimate, 2012                         0\n",
      "Population Estimate, 2013                         0\n",
      "TARGET                                            0\n",
      "Grocery stores, 2014                              0\n",
      "Length: 106, dtype: int64\n",
      "(1202, 106)\n"
     ]
    }
   ],
   "source": [
    "print(df.isnull().sum())\n",
    "print(df.shape)"
   ]
  },
  {
   "cell_type": "code",
   "execution_count": 34,
   "metadata": {},
   "outputs": [],
   "source": [
    "df.dropna(inplace=True)"
   ]
  },
  {
   "cell_type": "code",
   "execution_count": 35,
   "metadata": {},
   "outputs": [
    {
     "data": {
      "text/plain": [
       "(49, 103)"
      ]
     },
     "execution_count": 35,
     "metadata": {},
     "output_type": "execute_result"
    }
   ],
   "source": [
    "#RUN THESE # LINES AFTER REMOVING OUTLIERS\n",
    "Y = df[[\"TARGET\"]]\n",
    "X = df.drop(columns = [\"TARGET\",\"Grocery stores, 2014\"])\n",
    "X = X.iloc[:,1:]\n",
    "\n",
    "X.shape"
   ]
  },
  {
   "cell_type": "code",
   "execution_count": 36,
   "metadata": {},
   "outputs": [],
   "source": [
    "from sklearn.model_selection import train_test_split\n",
    "from sklearn.metrics import accuracy_score\n",
    "X_train, X_test, Y_train, Y_test = train_test_split(X, Y, test_size = 0.2, random_state = 1)"
   ]
  },
  {
   "cell_type": "markdown",
   "metadata": {},
   "source": [
    "# Extra Trees Classifier\n"
   ]
  },
  {
   "cell_type": "code",
   "execution_count": 37,
   "metadata": {},
   "outputs": [
    {
     "name": "stdout",
     "output_type": "stream",
     "text": [
      "Fitting ExtraTreesClassifier on faces data with 4 cores...\n",
      "done in 1.342s\n"
     ]
    }
   ],
   "source": [
    "from time import time\n",
    "from sklearn.ensemble import ExtraTreesClassifier\n",
    "# Number of cores to use to perform parallel fitting of the forest model\n",
    "n_jobs = 4\n",
    "print(\"Fitting ExtraTreesClassifier on faces data with %d cores...\" % n_jobs)\n",
    "t0 = time()\n",
    "forest = ExtraTreesClassifier(n_estimators=1000,\n",
    "                              n_jobs=n_jobs,\n",
    "                              random_state=0)\n",
    "forest.fit(X_train, Y_train.values.ravel())\n",
    "print(\"done in %0.3fs\" % (time() - t0))\n",
    "importances = forest.feature_importances_"
   ]
  },
  {
   "cell_type": "code",
   "execution_count": 68,
   "metadata": {},
   "outputs": [
    {
     "name": "stdout",
     "output_type": "stream",
     "text": [
      "Accuracy Score is: 0.6282051282051282\n",
      "[ 0.00995074  0.00986797  0.01194808  0.01020432  0.00996898  0.02626007\n",
      "  0.03606507  0.00981835  0.01105111  0.01160104  0.01159801  0.01015816\n",
      "  0.01124989  0.01196518  0.01146452  0.01223466  0.0111987   0.01075227\n",
      "  0.01217646  0.00970485  0.0112796   0.00950226  0.01078912  0.00870433\n",
      "  0.00889845  0.0090011   0.00926727  0.0107223   0.01032506  0.00837213\n",
      "  0.00733217  0.00731915  0.          0.00967633  0.00926948  0.00942945\n",
      "  0.00987228  0.00402033  0.0089201   0.01102689  0.00915904  0.0092984\n",
      "  0.00929761  0.00919326  0.00909544  0.01049665  0.01094653  0.00884417\n",
      "  0.0102172   0.00907778  0.00893488  0.00866561  0.00897899  0.00879925\n",
      "  0.00895585  0.00919758  0.00942408  0.00875104  0.00939403  0.0086546\n",
      "  0.00880623  0.00904157  0.00913989  0.00898853  0.00870678  0.00964713\n",
      "  0.00966365  0.0094609   0.00928909  0.00853767  0.0088312   0.00914789\n",
      "  0.00902976  0.00891598  0.00899869  0.00756583  0.00866574  0.00379807\n",
      "  0.00579622  0.00379643  0.00596858  0.01107911  0.01004823  0.01046257\n",
      "  0.01124459  0.00949047  0.00983202  0.          0.00924506  0.01186168\n",
      "  0.01306921  0.01095418  0.01140224  0.00908895  0.01025919  0.00428879\n",
      "  0.0067275   0.0076554   0.00694109  0.01148962  0.01130375  0.01174924\n",
      "  0.01166299]\n",
      "[[ 0.455  0.545]\n",
      " [ 0.     1.   ]\n",
      " [ 0.     1.   ]\n",
      " ..., \n",
      " [ 0.696  0.304]\n",
      " [ 1.     0.   ]\n",
      " [ 1.     0.   ]]\n"
     ]
    }
   ],
   "source": [
    "print(\"Accuracy Score is: {}\".format(forest.score(X_test,Y_test)))\n",
    "print(importances)\n",
    "#print(ExtraTreesClassifier.score(X_test,Y_test, sample_weight = None))\n",
    "print(forest.predict_proba(X))"
   ]
  },
  {
   "cell_type": "code",
   "execution_count": 38,
   "metadata": {},
   "outputs": [
    {
     "data": {
      "text/plain": [
       "array([ 0,  0, 10,  0, 10,  0,  0, 10,  0,  0, 10, 10, 10,  0, 10, 10, 10,\n",
       "        0, 10,  0, 10,  0, 10,  0, 10, 10,  0,  0, 10, 10,  0, 10,  0,  0,\n",
       "       10,  0,  0,  0, 10], dtype=int64)"
      ]
     },
     "execution_count": 38,
     "metadata": {},
     "output_type": "execute_result"
    }
   ],
   "source": [
    "#Y_train = Y_train.as_matrix()\n",
    "#X_train = X_train.as_matrix()\n",
    "Y_train.values.ravel()"
   ]
  },
  {
   "cell_type": "code",
   "execution_count": null,
   "metadata": {},
   "outputs": [
    {
     "name": "stderr",
     "output_type": "stream",
     "text": [
      "C:\\anaconda3\\lib\\site-packages\\ipykernel_launcher.py:43: DataConversionWarning: A column-vector y was passed when a 1d array was expected. Please change the shape of y to (n_samples, ), for example using ravel().\n",
      "C:\\anaconda3\\lib\\site-packages\\sklearn\\utils\\validation.py:578: DataConversionWarning: A column-vector y was passed when a 1d array was expected. Please change the shape of y to (n_samples, ), for example using ravel().\n",
      "  y = column_or_1d(y, warn=True)\n"
     ]
    }
   ],
   "source": [
    "#http://scikit-learn.org/stable/auto_examples/classification/plot_classifier_comparison.html#sphx-glr-auto-examples-classification-plot-classifier-comparison-py\n",
    "#import matplotlib.pyplot as plt\n",
    "#from matplotlib.colors import ListedColormap\n",
    "#from sklearn.preprocessing import StandardScaler\n",
    "#from sklearn.neural_network import MLPClassifier\n",
    "#from sklearn.neighbors import KNeighborsClassifier\n",
    "#from sklearn.svm import SVC\n",
    "#from sklearn.gaussian_process import GaussianProcessClassifier\n",
    "#from sklearn.gaussian_process.kernels import RBF, Matern, RationalQuadratic,ExpSineSquared,DotProduct\n",
    "#from sklearn.tree import DecisionTreeClassifier\n",
    "#from sklearn.ensemble import RandomForestClassifier, AdaBoostClassifier\n",
    "#from sklearn.naive_bayes import GaussianNB\n",
    "#from sklearn.discriminant_analysis import QuadraticDiscriminantAnalysis\n",
    "\n",
    "#names = [\"Nearest Neighbors1\", \"Nearest Neighbors2\", \"Nearest Neighbors3\", \"Linear SVM\", \"RBF SVM\", \"Matern SVM\",\\\n",
    "#         \"Rational Quadratic SVM\", \"ExpSineSquared SVM\", \"DotProduct SVM\", \"Sigmoid SVM\",\"Gaussian Process\",\\\n",
    "#         \"Decision Tree1\", \"Decision Tree2\", \"Decision Tree3\", \"Random Forest1\", \"Random Forest2\", \"Random Forest3\",\\\n",
    "#         \"Neural Net 1\", \"Neural Net 2\", \"Neural Net 3\",\"AdaBoost\",\\\n",
    "#         \"Naive Bayes\", \"QDA\"]\n",
    "\n",
    "#classifiers = [\n",
    "   # KNeighborsClassifier(3),\n",
    "   # KNeighborsClassifier(5),\n",
    "   # KNeighborsClassifier(8),\n",
    "   # SVC(kernel=\"linear\", C=0.025),\n",
    "   # SVC(gamma=2, C=1),\n",
    "   # SVC(kernel=\"Matern\"),\n",
    "   # SVC(kernel=\"RationalQuadratic\"),\n",
    "   # SVC(kernel=\"ExpSineSquared\"),\n",
    "   # SVC(kernel=\"DotProduct\"),\n",
    "   # SVC(kernel=\"sigmoid\"),\n",
    "   # GaussianProcessClassifier(1.0 * RBF(1.0)),\n",
    "   # DecisionTreeClassifier(max_depth=5),\n",
    "   # DecisionTreeClassifier(max_depth=10),\n",
    "   # DecisionTreeClassifier(max_depth=15),\n",
    "   # RandomForestClassifier(max_depth=5),\n",
    "   # RandomForestClassifier(max_depth=10),\n",
    "   # RandomForestClassifier(max_depth=15),\n",
    "   # MLPClassifier(activation=\"relu\",solver=\"lbfgs\"),\n",
    "   # MLPClassifier(activation=\"tanh\",solver=\"lbfgs\"),\n",
    "   # MLPClassifier(activation=\"logistic\",solver=\"lbfgs\"),\n",
    "   # AdaBoostClassifier(),\n",
    "   # GaussianNB(),\n",
    "   # QuadraticDiscriminantAnalysis()]\n",
    "\n",
    "#for name,clf in zip(names,classifiers):\n",
    "#    clf.fit(X_train,Y_train)\n",
    "    #score = clf.score(X_test, Y_test)\n",
    "    #print(\"For model {}, using classifer {}, we got an accuracy of {}\".format(name,clf,score))"
   ]
  },
  {
   "cell_type": "markdown",
   "metadata": {},
   "source": [
    "   # Bagging Classifier"
   ]
  },
  {
   "cell_type": "code",
   "execution_count": 19,
   "metadata": {},
   "outputs": [],
   "source": [
    "from sklearn.ensemble import BaggingClassifier\n"
   ]
  },
  {
   "cell_type": "markdown",
   "metadata": {},
   "source": [
    "# Gradient Boosting Classifier"
   ]
  },
  {
   "cell_type": "code",
   "execution_count": null,
   "metadata": {},
   "outputs": [],
   "source": []
  },
  {
   "cell_type": "code",
   "execution_count": 59,
   "metadata": {},
   "outputs": [],
   "source": [
    "df = pd.read_excel(r\"C:\\ML Hackathon\\reduced_features_data3.xlsx\")\n",
    "Y1 = df[[\"TARGET\"]]\n",
    "X1 = df.drop(columns = [\"TARGET\"])\n",
    "X1 = X1.iloc[:,1:]"
   ]
  },
  {
   "cell_type": "markdown",
   "metadata": {},
   "source": [
    "# GaussianNB"
   ]
  },
  {
   "cell_type": "code",
   "execution_count": 60,
   "metadata": {},
   "outputs": [
    {
     "name": "stdout",
     "output_type": "stream",
     "text": [
      "0.4\n",
      "0.138084632517\n"
     ]
    }
   ],
   "source": [
    "from sklearn.naive_bayes import GaussianNB\n",
    "GNB = GaussianNB()\n",
    "GNB.fit(X_train,Y_train.values.ravel())\n",
    "print(GNB.score(X_test,Y_test.values.ravel()))\n",
    "print(GNB.score(X1,Y1.values.ravel()))"
   ]
  },
  {
   "cell_type": "markdown",
   "metadata": {},
   "source": [
    "# Linear Discriminant Analysis"
   ]
  },
  {
   "cell_type": "code",
   "execution_count": 64,
   "metadata": {},
   "outputs": [
    {
     "name": "stdout",
     "output_type": "stream",
     "text": [
      "0.5\n",
      "0.333121221763\n"
     ]
    },
    {
     "name": "stderr",
     "output_type": "stream",
     "text": [
      "C:\\anaconda3\\lib\\site-packages\\sklearn\\discriminant_analysis.py:388: UserWarning: Variables are collinear.\n",
      "  warnings.warn(\"Variables are collinear.\")\n"
     ]
    }
   ],
   "source": [
    "from sklearn.discriminant_analysis import LinearDiscriminantAnalysis\n",
    "LDA1 = LinearDiscriminantAnalysis()\n",
    "LDA1.fit(X_train,Y_train.values.ravel())\n",
    "print(LDA1.score(X_test,Y_test.values.ravel()))\n",
    "print(LDA1.score(X1,Y1.values.ravel()))"
   ]
  },
  {
   "cell_type": "markdown",
   "metadata": {},
   "source": [
    "# Quadratic Discriminant Analysis"
   ]
  },
  {
   "cell_type": "code",
   "execution_count": 65,
   "metadata": {},
   "outputs": [
    {
     "name": "stdout",
     "output_type": "stream",
     "text": [
      "0.6\n",
      "0.23798918231\n"
     ]
    },
    {
     "name": "stderr",
     "output_type": "stream",
     "text": [
      "C:\\anaconda3\\lib\\site-packages\\sklearn\\discriminant_analysis.py:682: UserWarning: Variables are collinear\n",
      "  warnings.warn(\"Variables are collinear\")\n"
     ]
    }
   ],
   "source": [
    "from sklearn.discriminant_analysis import QuadraticDiscriminantAnalysis\n",
    "QDA1 = QuadraticDiscriminantAnalysis()\n",
    "QDA1.fit(X_train,Y_train.values.ravel())\n",
    "print(QDA1.score(X_test,Y_test.values.ravel()))\n",
    "print(QDA1.score(X1,Y1.values.ravel()))"
   ]
  },
  {
   "cell_type": "markdown",
   "metadata": {},
   "source": [
    "# Gaussian Process Classifier"
   ]
  },
  {
   "cell_type": "code",
   "execution_count": 66,
   "metadata": {},
   "outputs": [
    {
     "name": "stdout",
     "output_type": "stream",
     "text": [
      "0.6\n",
      "0.593382118995\n"
     ]
    }
   ],
   "source": [
    "from sklearn.gaussian_process import GaussianProcessClassifier\n",
    "GPC = GaussianProcessClassifier()\n",
    "GPC.fit(X_train, Y_train.values.ravel())\n",
    "print(GPC.score(X_test,Y_test.values.ravel()))\n",
    "print(GPC.score(X1,Y1.values.ravel()))"
   ]
  },
  {
   "cell_type": "markdown",
   "metadata": {},
   "source": [
    "# MLP Classifier"
   ]
  },
  {
   "cell_type": "code",
   "execution_count": 67,
   "metadata": {},
   "outputs": [
    {
     "name": "stdout",
     "output_type": "stream",
     "text": [
      "0.487179487179\n",
      "0.02163538021\n"
     ]
    }
   ],
   "source": [
    "from sklearn.neural_network import MLPClassifier\n",
    "MLPC1 = MLPClassifier(activation=\"relu\",solver=\"lbfgs\")\n",
    "MLPC1.fit(X_train,Y_train.values.ravel())\n",
    "print(MLPC1.score(X_train,Y_train.values.ravel()))\n",
    "print(MLPC1.score(X1,Y1.values.ravel()))"
   ]
  },
  {
   "cell_type": "code",
   "execution_count": 68,
   "metadata": {},
   "outputs": [
    {
     "name": "stdout",
     "output_type": "stream",
     "text": [
      "1.0\n",
      "0.393573019408\n"
     ]
    }
   ],
   "source": [
    "MLPC2 = MLPClassifier(activation=\"tanh\",solver=\"lbfgs\")\n",
    "MLPC2.fit(X_train,Y_train.values.ravel())\n",
    "print(MLPC2.score(X_train,Y_train.values.ravel()))\n",
    "print(MLPC2.score(X1,Y1.values.ravel()))"
   ]
  },
  {
   "cell_type": "code",
   "execution_count": 69,
   "metadata": {},
   "outputs": [
    {
     "name": "stdout",
     "output_type": "stream",
     "text": [
      "0.923076923077\n",
      "0.313713013045\n"
     ]
    }
   ],
   "source": [
    "MLPC3 = MLPClassifier(activation=\"logistic\",solver=\"lbfgs\")\n",
    "MLPC3.fit(X_train,Y_train.values.ravel())\n",
    "print(MLPC3.score(X_train,Y_train.values.ravel()))\n",
    "print(MLPC3.score(X1,Y1.values.ravel()))"
   ]
  },
  {
   "cell_type": "markdown",
   "metadata": {},
   "source": [
    "# Decision Trees"
   ]
  },
  {
   "cell_type": "markdown",
   "metadata": {},
   "source": [
    "# Decision Tree with max depth 5 or 10 give ~62-64% accuracy"
   ]
  },
  {
   "cell_type": "code",
   "execution_count": 70,
   "metadata": {},
   "outputs": [
    {
     "name": "stdout",
     "output_type": "stream",
     "text": [
      "0.5\n",
      "0.439389118676\n",
      "Seniors, low access to store, 2010   0.09530075187969925\n",
      "WIC-authorized stores, 2012   0.2901315789473685\n",
      "WIC redemptions per capita, 2012   0.09407894736842105\n",
      "Berry acres, 2012   0.3738721804511277\n",
      "Recreation & fitness facilities, 2009   0.14661654135338345\n"
     ]
    }
   ],
   "source": [
    "from sklearn.tree import DecisionTreeClassifier\n",
    "dt1 = DecisionTreeClassifier(max_depth=5)\n",
    "dt1.fit(X_train,Y_train)\n",
    "print(dt1.score(X_test,Y_test))\n",
    "print(dt1.score(X1,Y1))\n",
    "for a,b in zip(list(X_train),dt1.feature_importances_):\n",
    "    if b>0:\n",
    "        print(\"{}   {}\".format(a,b))"
   ]
  },
  {
   "cell_type": "code",
   "execution_count": 71,
   "metadata": {},
   "outputs": [
    {
     "name": "stdout",
     "output_type": "stream",
     "text": [
      "0.5\n",
      "0.336939230035\n"
     ]
    }
   ],
   "source": [
    "from sklearn.tree import DecisionTreeClassifier\n",
    "dt2 = DecisionTreeClassifier(max_depth=10)\n",
    "dt2.fit(X_train,Y_train)\n",
    "print(dt2.score(X_test,Y_test))\n",
    "print(dt2.score(X1,Y1))"
   ]
  },
  {
   "cell_type": "code",
   "execution_count": 72,
   "metadata": {},
   "outputs": [
    {
     "name": "stdout",
     "output_type": "stream",
     "text": [
      "0.6\n",
      "0.262169901368\n"
     ]
    }
   ],
   "source": [
    "from sklearn.tree import DecisionTreeClassifier\n",
    "dt3 = DecisionTreeClassifier(max_depth=15)\n",
    "dt3.fit(X_train,Y_train)\n",
    "print(dt3.score(X_test,Y_test))\n",
    "print(dt3.score(X1,Y1))"
   ]
  },
  {
   "cell_type": "code",
   "execution_count": 73,
   "metadata": {
    "scrolled": true
   },
   "outputs": [
    {
     "name": "stdout",
     "output_type": "stream",
     "text": [
      "0.5\n",
      "0.282532612154\n"
     ]
    }
   ],
   "source": [
    "from sklearn.tree import DecisionTreeClassifier\n",
    "dt4 = DecisionTreeClassifier(max_depth=20)\n",
    "dt4.fit(X_train,Y_train)\n",
    "print(dt4.score(X_test,Y_test))\n",
    "print(dt4.score(X1,Y1))"
   ]
  },
  {
   "cell_type": "markdown",
   "metadata": {},
   "source": [
    "# ADABoosting"
   ]
  },
  {
   "cell_type": "code",
   "execution_count": 75,
   "metadata": {},
   "outputs": [
    {
     "name": "stdout",
     "output_type": "stream",
     "text": [
      "0.6\n",
      "0.298759147311\n"
     ]
    }
   ],
   "source": [
    "from sklearn.ensemble import AdaBoostClassifier\n",
    "ada_1 = AdaBoostClassifier(\n",
    "    base_estimator=dt2,\n",
    "    algorithm=\"SAMME.R\")\n",
    "ada_1.fit(X_train, Y_train.values.ravel())\n",
    "print(ada_1.score(X_test,Y_test.values.ravel()))\n",
    "print(ada_1.score(X1,Y1.values.ravel()))"
   ]
  },
  {
   "cell_type": "markdown",
   "metadata": {},
   "source": [
    "# Random Forest Classifier"
   ]
  },
  {
   "cell_type": "markdown",
   "metadata": {},
   "source": [
    "# Random Forests with depth of 5, give ~64% accuracy."
   ]
  },
  {
   "cell_type": "code",
   "execution_count": 76,
   "metadata": {},
   "outputs": [
    {
     "name": "stdout",
     "output_type": "stream",
     "text": [
      "0.6\n",
      "0.4327076042\n"
     ]
    }
   ],
   "source": [
    "from sklearn.ensemble import RandomForestClassifier\n",
    "RF1 = RandomForestClassifier(max_depth=5, random_state=0)\n",
    "RF1.fit(X_train,Y_train.values.ravel())\n",
    "print(RF1.score(X_test,Y_test.values.ravel()))\n",
    "print(RF1.score(X1,Y1.values.ravel()))"
   ]
  },
  {
   "cell_type": "code",
   "execution_count": 77,
   "metadata": {},
   "outputs": [
    {
     "name": "stdout",
     "output_type": "stream",
     "text": [
      "0.6\n",
      "0.462933503023\n"
     ]
    }
   ],
   "source": [
    "RF2 = RandomForestClassifier(max_depth=10, random_state=0)\n",
    "RF2.fit(X_train,Y_train.values.ravel())\n",
    "print(RF2.score(X_test,Y_test.values.ravel()))\n",
    "print(RF2.score(X1,Y1.values.ravel()))"
   ]
  },
  {
   "cell_type": "code",
   "execution_count": 78,
   "metadata": {},
   "outputs": [
    {
     "name": "stdout",
     "output_type": "stream",
     "text": [
      "0.6\n",
      "0.462933503023\n"
     ]
    }
   ],
   "source": [
    "RF3 = RandomForestClassifier(max_depth=15, random_state=0)\n",
    "RF3.fit(X_train,Y_train.values.ravel())\n",
    "print(RF3.score(X_test,Y_test.values.ravel()))\n",
    "print(RF3.score(X1,Y1.values.ravel()))"
   ]
  },
  {
   "cell_type": "markdown",
   "metadata": {},
   "source": [
    "# Voting Classifier"
   ]
  },
  {
   "cell_type": "code",
   "execution_count": 79,
   "metadata": {},
   "outputs": [
    {
     "name": "stdout",
     "output_type": "stream",
     "text": [
      "0.7\n",
      "0.383391664015\n"
     ]
    },
    {
     "name": "stderr",
     "output_type": "stream",
     "text": [
      "C:\\anaconda3\\lib\\site-packages\\sklearn\\discriminant_analysis.py:682: UserWarning: Variables are collinear\n",
      "  warnings.warn(\"Variables are collinear\")\n",
      "C:\\anaconda3\\lib\\site-packages\\sklearn\\discriminant_analysis.py:682: UserWarning: Variables are collinear\n",
      "  warnings.warn(\"Variables are collinear\")\n"
     ]
    }
   ],
   "source": [
    "from sklearn.ensemble import VotingClassifier\n",
    "#dt1, rf1, dt2, rf2\n",
    "DT1 = DecisionTreeClassifier(max_depth=5)\n",
    "DT2 = DecisionTreeClassifier(max_depth=10)\n",
    "RF1 = RandomForestClassifier(max_depth=5, random_state=0)\n",
    "RF2 = RandomForestClassifier(max_depth=10, random_state=0)\n",
    "#VC1 = VotingClassifier(estimators=[('dt1',DT1),('rf1',RF1),('dt2',DT2),('rf2',RF2)], voting = 'hard')\n",
    "GNB = GaussianNB()\n",
    "GPC = GaussianProcessClassifier()\n",
    "LDA1 = QuadraticDiscriminantAnalysis()\n",
    "QDA1 = QuadraticDiscriminantAnalysis()\n",
    "ADA_1 = AdaBoostClassifier(base_estimator=DT2,algorithm=\"SAMME.R\")\n",
    "VC1 = VotingClassifier(estimators=[('dt1',DT1),('dt2',DT2),('rf1',RF1),('rf2',RF2),('gnb',GNB),('gpc',GPC),\\\n",
    "                                   ('lda1',LDA1),('qda1',QDA1),('ada_1',ADA_1)], voting = 'hard')\n",
    "VC1.fit(X_train,Y_train.values.ravel())\n",
    "print(VC1.score(X_test,Y_test.values.ravel()))\n",
    "print(VC1.score(X1,Y1.values.ravel()))\n"
   ]
  },
  {
   "cell_type": "code",
   "execution_count": 81,
   "metadata": {},
   "outputs": [
    {
     "name": "stdout",
     "output_type": "stream",
     "text": [
      "0.6\n",
      "0.453070314986\n"
     ]
    }
   ],
   "source": [
    "DT1 = DecisionTreeClassifier(max_depth=5)\n",
    "DT2 = DecisionTreeClassifier(max_depth=10)\n",
    "RF1 = RandomForestClassifier(max_depth=5, random_state=0)\n",
    "RF2 = RandomForestClassifier(max_depth=10, random_state=0)\n",
    "#VC1 = VotingClassifier(estimators=[('dt1',DT1),('rf1',RF1),('dt2',DT2),('rf2',RF2)], voting = 'hard')\n",
    "#GNB = GaussianNB()\n",
    "#GPC = GaussianProcessClassifier()\n",
    "#LDA1 = QuadraticDiscriminantAnalysis()\n",
    "#QDA1 = QuadraticDiscriminantAnalysis()\n",
    "#ADA_1 = AdaBoostClassifier(base_estimator=DT2,algorithm=\"SAMME.R\")\n",
    "VC3 = VotingClassifier(estimators=[('dt1',DT1),('dt2',DT2),('rf1',RF1),('rf2',RF2)], voting = 'hard')\n",
    "VC3.fit(X_train,Y_train.values.ravel())\n",
    "print(VC3.score(X_test,Y_test.values.ravel()))\n",
    "print(VC3.score(X1,Y1.values.ravel()))"
   ]
  },
  {
   "cell_type": "code",
   "execution_count": 82,
   "metadata": {},
   "outputs": [
    {
     "name": "stdout",
     "output_type": "stream",
     "text": [
      "0.8\n",
      "0.414890232262\n"
     ]
    }
   ],
   "source": [
    "DT1 = DecisionTreeClassifier(max_depth=5)\n",
    "DT2 = DecisionTreeClassifier(max_depth=10)\n",
    "RF1 = RandomForestClassifier(max_depth=5, random_state=0)\n",
    "RF2 = RandomForestClassifier(max_depth=10, random_state=0)\n",
    "RF3 = RandomForestClassifier(max_depth=15, random_state=0)\n",
    "DT4 = DecisionTreeClassifier(max_depth=20)\n",
    "DT3 = DecisionTreeClassifier(max_depth=15)\n",
    "VC4 = VotingClassifier(estimators=[('dt1',DT1),('dt2',DT2),('rf1',RF1),('rf2',RF2),('rf3',RF3),('dt3',DT3),('dt4',DT4)], voting = 'hard')\n",
    "VC4.fit(X_train,Y_train.values.ravel())\n",
    "print(VC4.score(X_test,Y_test.values.ravel()))\n",
    "print(VC4.score(X1,Y1.values.ravel()))"
   ]
  },
  {
   "cell_type": "code",
   "execution_count": 83,
   "metadata": {},
   "outputs": [
    {
     "name": "stdout",
     "output_type": "stream",
     "text": [
      "0.7\n",
      "0.283168946866\n"
     ]
    },
    {
     "name": "stderr",
     "output_type": "stream",
     "text": [
      "C:\\anaconda3\\lib\\site-packages\\sklearn\\discriminant_analysis.py:682: UserWarning: Variables are collinear\n",
      "  warnings.warn(\"Variables are collinear\")\n",
      "C:\\anaconda3\\lib\\site-packages\\sklearn\\discriminant_analysis.py:682: UserWarning: Variables are collinear\n",
      "  warnings.warn(\"Variables are collinear\")\n"
     ]
    }
   ],
   "source": [
    "DT1 = DecisionTreeClassifier(max_depth=5)\n",
    "DT2 = DecisionTreeClassifier(max_depth=10)\n",
    "RF1 = RandomForestClassifier(max_depth=5, random_state=0)\n",
    "RF2 = RandomForestClassifier(max_depth=10, random_state=0)\n",
    "#VC1 = VotingClassifier(estimators=[('dt1',DT1),('rf1',RF1),('dt2',DT2),('rf2',RF2)], voting = 'hard')\n",
    "GNB = GaussianNB()\n",
    "GPC = GaussianProcessClassifier()\n",
    "LDA1 = QuadraticDiscriminantAnalysis()\n",
    "QDA1 = QuadraticDiscriminantAnalysis()\n",
    "ADA_1 = AdaBoostClassifier(base_estimator=DT2,algorithm=\"SAMME.R\")\n",
    "VC2 = VotingClassifier(estimators=[('dt1',DT1),('dt2',DT2),('rf1',RF1),('rf2',RF2),('gnb',GNB),('gpc',GPC),\\\n",
    "                                   ('lda1',LDA1),('qda1',QDA1),('ada_1',ADA_1)], voting = 'soft')\n",
    "VC2.fit(X_train,Y_train.values.ravel())\n",
    "print(VC2.score(X_test,Y_test.values.ravel()))\n",
    "print(VC2.score(X1,Y1.values.ravel()))"
   ]
  },
  {
   "cell_type": "markdown",
   "metadata": {},
   "source": [
    "# SVM1"
   ]
  },
  {
   "cell_type": "code",
   "execution_count": null,
   "metadata": {},
   "outputs": [],
   "source": [
    "from sklearn.svm import SVC\n",
    "from sklearn.preprocessing import StandardScaler\n",
    "scaler = StandardScaler()\n",
    "X_train1 = scaler.fit_transform(X_train)\n",
    "X_test1 = scaler.fit_transform(X_test)\n",
    "svm1 = SVC(kernel=\"linear\", C=0.025)\n",
    "svm1.fit(X_train1, Y_train.values.ravel())\n",
    "print(svm1.score(X_test1,Y_test.values.ravel()))\n",
    "svm1.predict_proba(X)"
   ]
  },
  {
   "cell_type": "code",
   "execution_count": null,
   "metadata": {},
   "outputs": [],
   "source": [
    "svm2 = svm.SVC(gamma=2, C=1),\n",
    "svm2.fit(X_train, Y_train)\n",
    "print(svm2.score(X_test,Y_test))\n",
    "svm2.predict_proba(X)"
   ]
  },
  {
   "cell_type": "code",
   "execution_count": null,
   "metadata": {},
   "outputs": [],
   "source": [
    "svm3 = svm.SVC(kernel=\"Matern\"),\n",
    "svm3.fit(X_train, Y_train)\n",
    "print(svm3.score(X_test,Y_test))\n",
    "svm3.predict_proba(X)"
   ]
  },
  {
   "cell_type": "code",
   "execution_count": null,
   "metadata": {},
   "outputs": [],
   "source": [
    "svm4 = svm.SVC(kernel=\"RationalQuadratic\"),\n",
    "svm4.fit(X_train, Y_train)\n",
    "print(svm4.score(X_test,Y_test))\n",
    "svm4.predict_proba(X)"
   ]
  },
  {
   "cell_type": "code",
   "execution_count": null,
   "metadata": {},
   "outputs": [],
   "source": [
    "svm5 = svm.SVC(kernel=\"ExpSineSquared\"),\n",
    "svm5.fit(X_train, Y_train)\n",
    "print(svm5.score(X_test,Y_test))\n",
    "svm5.predict_proba(X)"
   ]
  },
  {
   "cell_type": "code",
   "execution_count": null,
   "metadata": {},
   "outputs": [],
   "source": [
    "svm6 = svm.SVC(kernel=\"ExpSineSquared\"),\n",
    "svm6.fit(X_train, Y_train)\n",
    "print(svm6.score(X_test,Y_test))\n",
    "svm6.predict_proba(X)"
   ]
  },
  {
   "cell_type": "code",
   "execution_count": null,
   "metadata": {},
   "outputs": [],
   "source": [
    "svm7 = svm.SVC(kernel=\"ExpSineSquared\"),\n",
    "svm7.fit(X_train, Y_train)\n",
    "print(svm7.score(X_test,Y_test))\n",
    "svm7.predict_proba(X)"
   ]
  },
  {
   "cell_type": "code",
   "execution_count": null,
   "metadata": {},
   "outputs": [],
   "source": [
    "svm8 = svm.SVC(kernel=\"DotProduct\"),\n",
    "svm8.fit(X_train, Y_train)\n",
    "print(svm8.score(X_test,Y_test))\n",
    "svm8.predict_proba(X)"
   ]
  },
  {
   "cell_type": "code",
   "execution_count": null,
   "metadata": {},
   "outputs": [],
   "source": [
    "svm9 = svm.SVC(kernel=\"sigmoid\"),\n",
    "svm9.fit(X_train, Y_train)\n",
    "print(svm9.score(X_test,Y_test))\n",
    "svm9.predict_proba(X)"
   ]
  }
 ],
 "metadata": {
  "kernelspec": {
   "display_name": "Python 3",
   "language": "python",
   "name": "python3"
  },
  "language_info": {
   "codemirror_mode": {
    "name": "ipython",
    "version": 3
   },
   "file_extension": ".py",
   "mimetype": "text/x-python",
   "name": "python",
   "nbconvert_exporter": "python",
   "pygments_lexer": "ipython3",
   "version": "3.6.4"
  }
 },
 "nbformat": 4,
 "nbformat_minor": 2
}
