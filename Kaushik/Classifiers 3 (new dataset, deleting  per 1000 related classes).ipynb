{
 "cells": [
  {
   "cell_type": "code",
   "execution_count": 1,
   "metadata": {},
   "outputs": [],
   "source": [
    "import math\n",
    "\n",
    "from IPython import display\n",
    "from matplotlib import cm\n",
    "from matplotlib import gridspec\n",
    "from matplotlib import pyplot as plt\n",
    "import numpy as np\n",
    "import pandas as pd\n",
    "from sklearn import metrics\n",
    "#import tensorflow as tf\n",
    "#from tensorflow.python.data import Dataset\n",
    "\n",
    "#tf.logging.set_verbosity(tf.logging.ERROR)\n",
    "pd.options.display.max_rows = 10\n",
    "pd.options.display.float_format = '{:.1f}'.format\n",
    "\n",
    "import pandas as pd\n",
    "import sklearn as sklearn"
   ]
  },
  {
   "cell_type": "code",
   "execution_count": 2,
   "metadata": {},
   "outputs": [],
   "source": [
    "raw_data = pd.read_excel(r\"C:\\ML Hackathon\\Consolidated dataset piece V2.xlsx\",sheet_name=0)\n",
    "columns_to_include = pd.read_excel(r\"C:\\ML Hackathon\\New Feature selection.xlsx\")\n",
    "swapna_columns = columns_to_include[columns_to_include['Selected/not']==\"Selected\"].Variables.tolist()"
   ]
  },
  {
   "cell_type": "code",
   "execution_count": 3,
   "metadata": {},
   "outputs": [
    {
     "data": {
      "text/plain": [
       "['FIPS',\n",
       " 'Population, low access to store, 2010',\n",
       " 'Grocery stores, 2009',\n",
       " 'Supercenters & club stores, 2009',\n",
       " 'Supercenters & club stores/1,000 pop, 2009',\n",
       " 'Convenience stores, 2009',\n",
       " 'Specialized food stores, 2009',\n",
       " 'SNAP-authorized stores, 2012',\n",
       " 'WIC-authorized stores, 2008',\n",
       " 'WIC-authorized stores, 2012',\n",
       " 'Restaurants, full service and Fast Food, 2009',\n",
       " 'Expenditures per capita, fast food, 2007*',\n",
       " 'Expenditures per capita, fast food, 2012*',\n",
       " 'Expenditures per capita, restaurants, 2007*',\n",
       " 'Expenditures per capita, restaurants, 2012*',\n",
       " 'SNAP redemptions/SNAP-authorized stores, 2012',\n",
       " 'SNAP benefits per capita, 2010',\n",
       " 'SNAP online application, 2009*',\n",
       " 'SNAP Combined Application Project , 2009*',\n",
       " 'SNAP Broad-based Categorical Eligibility, 2009*',\n",
       " 'SNAP simplified reporting, 2009*',\n",
       " 'WIC redemptions per capita, 2008',\n",
       " 'WIC redemptions per capita, 2012',\n",
       " 'WIC redemptions/WIC-authorized stores, 2008',\n",
       " 'WIC redemptions/WIC-authorized stores, 2012',\n",
       " 'FDPIR Sites, 2012',\n",
       " 'Price of low-fat milk/national average, 2010**',\n",
       " 'Price of sodas/national average, 2010**',\n",
       " 'Price of low-fat milk/price of sodas, 2010**',\n",
       " 'Farms with direct sales, 2007',\n",
       " 'Farms with direct sales, 2012',\n",
       " 'Direct farm sales, 2007',\n",
       " 'Direct farm sales, 2012',\n",
       " 'Direct farm sales per capita, 2007',\n",
       " 'Direct farm sales per capita, 2012',\n",
       " \"Farmers' markets, 2009\",\n",
       " \"Farmers' markets/1,000 pop, 2009\",\n",
       " 'Vegetable acres harvested, 2007',\n",
       " 'Vegetable acres harvested, 2012',\n",
       " 'Farms with vegetables harvested for fresh market, 2007',\n",
       " 'Farms with vegetables harvested for fresh market, 2012',\n",
       " 'Vegetable acres harvested for fresh market, 2007',\n",
       " 'Vegetable acres harvested for fresh market, 2012',\n",
       " 'Orchard farms, 2007',\n",
       " 'Orchard farms, 2012',\n",
       " 'Orchard acres, 2007',\n",
       " 'Orchard acres, 2012',\n",
       " 'Berry farms, 2007',\n",
       " 'Berry farms, 2012',\n",
       " 'Berry acres, 2007',\n",
       " 'Berry acres, 2012',\n",
       " 'Small slaughterhouse facilities, 2007',\n",
       " 'Small slaughterhouse facilities, 2012',\n",
       " 'Greenhouse vegetable and fresh herb farms, 2007',\n",
       " 'Greenhouse vegetable and fresh herb farms, 2012',\n",
       " 'Greenhouse veg and fresh herb sq feet, 2007',\n",
       " 'Greenhouse veg and fresh herb sq feet, 2012',\n",
       " 'Greenhouse veg and fresh herb sq feet/1,000 pop, 2007',\n",
       " 'Greenhouse veg and fresh herb sq feet/1,000 pop, 2012',\n",
       " 'CSA farms, 2007',\n",
       " 'CSA farms, 2012',\n",
       " 'Agritourism operations, 2007',\n",
       " 'Agritourism operations, 2012',\n",
       " 'Agritourism receipts, 2007',\n",
       " 'Agritourism receipts, 2012',\n",
       " 'Farm to school program, 2009',\n",
       " 'Farm to school program, 2013',\n",
       " 'Adult diabetes rate, 2008',\n",
       " 'Adult diabetes rate, 2013',\n",
       " 'Adult obesity rate, 2008',\n",
       " 'Adult obesity rate, 2013',\n",
       " 'Recreation & fitness facilities, 2009',\n",
       " 'Persistent-poverty counties, 2010',\n",
       " 'Persistent-child-poverty counties, 2010',\n",
       " 'Metro/nonmetro counties, 2010',\n",
       " 'Population-loss counties, 2010',\n",
       " '2010 Census Population',\n",
       " 'Population Estimate, 2011',\n",
       " 'Population Estimate, 2012',\n",
       " 'Population Estimate, 2013',\n",
       " 'TARGET']"
      ]
     },
     "execution_count": 3,
     "metadata": {},
     "output_type": "execute_result"
    }
   ],
   "source": [
    "my_columns =list(pd.read_excel(r\"C:\\ML Hackathon\\reduced_features_data4.xlsx\"))\n",
    "my_columns"
   ]
  },
  {
   "cell_type": "code",
   "execution_count": 4,
   "metadata": {},
   "outputs": [
    {
     "data": {
      "text/plain": [
       "{'% American Indian or Alaska Native, 2010',\n",
       " '% Asian, 2010',\n",
       " '% Black, 2010',\n",
       " '% Hawaiian or Pacific Islander, 2010',\n",
       " '% Hispanic, 2010',\n",
       " '% Population 65 years or older, 2010',\n",
       " '% Population under age 18, 2010',\n",
       " '% White, 2010',\n",
       " 'FIPS',\n",
       " 'Per Capita income 2009'}"
      ]
     },
     "execution_count": 4,
     "metadata": {},
     "output_type": "execute_result"
    }
   ],
   "source": [
    "in_first = set(my_columns)\n",
    "in_second = set(swapna_columns)\n",
    "\n",
    "in_second_but_not_in_first = in_second - in_first\n",
    "#final = list(columns_to_include2) + list(in_second_but_not_in_first)\n",
    "in_second_but_not_in_first.remove('State')\n",
    "in_second_but_not_in_first.remove('Grocery stores (% change), 2009-14')\n",
    "in_second_but_not_in_first.remove('Low income & low access to store, 2010')\n",
    "in_second_but_not_in_first.remove('Households, no car & low access to store, 2010')\n",
    "in_second_but_not_in_first.remove('Fast-food restaurants, 2009')\n",
    "in_second_but_not_in_first.remove('Full-service restaurants, 2009')\n",
    "in_second_but_not_in_first.remove('Vegetable farms, 2007')\n",
    "list(in_second_but_not_in_first)\n",
    "in_second_but_not_in_first.add(\"FIPS\")\n",
    "in_second_but_not_in_first"
   ]
  },
  {
   "cell_type": "code",
   "execution_count": 5,
   "metadata": {},
   "outputs": [],
   "source": [
    "df = pd.read_excel(r\"C:\\ML Hackathon\\reduced_features_data3.xlsx\")\n",
    "df2 = pd.read_excel(r\"C:\\ML Hackathon\\Consolidated dataset piece V2.xlsx\")\n",
    "df2 = df2[list(in_second_but_not_in_first)]"
   ]
  },
  {
   "cell_type": "code",
   "execution_count": 6,
   "metadata": {},
   "outputs": [
    {
     "data": {
      "text/html": [
       "<div>\n",
       "<style scoped>\n",
       "    .dataframe tbody tr th:only-of-type {\n",
       "        vertical-align: middle;\n",
       "    }\n",
       "\n",
       "    .dataframe tbody tr th {\n",
       "        vertical-align: top;\n",
       "    }\n",
       "\n",
       "    .dataframe thead th {\n",
       "        text-align: right;\n",
       "    }\n",
       "</style>\n",
       "<table border=\"1\" class=\"dataframe\">\n",
       "  <thead>\n",
       "    <tr style=\"text-align: right;\">\n",
       "      <th></th>\n",
       "      <th>FIPS</th>\n",
       "      <th>Population, low access to store, 2010</th>\n",
       "      <th>Low income &amp; low access to store, 2010</th>\n",
       "      <th>Households, no car &amp; low access to store, 2010</th>\n",
       "      <th>Children, low access to store, 2010</th>\n",
       "      <th>Seniors, low access to store, 2010</th>\n",
       "      <th>Grocery stores, 2009</th>\n",
       "      <th>Grocery stores/1,000 pop, 2009</th>\n",
       "      <th>Supercenters &amp; club stores, 2009</th>\n",
       "      <th>Supercenters &amp; club stores/1,000 pop, 2009</th>\n",
       "      <th>...</th>\n",
       "      <th>TARGET</th>\n",
       "      <th>% Asian, 2010</th>\n",
       "      <th>% Population 65 years or older, 2010</th>\n",
       "      <th>% Hispanic, 2010</th>\n",
       "      <th>% Hawaiian or Pacific Islander, 2010</th>\n",
       "      <th>% Population under age 18, 2010</th>\n",
       "      <th>% American Indian or Alaska Native, 2010</th>\n",
       "      <th>% White, 2010</th>\n",
       "      <th>% Black, 2010</th>\n",
       "      <th>Per Capita income 2009</th>\n",
       "    </tr>\n",
       "  </thead>\n",
       "  <tbody>\n",
       "    <tr>\n",
       "      <th>0</th>\n",
       "      <td>39127</td>\n",
       "      <td>3713.6</td>\n",
       "      <td>1898.7</td>\n",
       "      <td>790.5</td>\n",
       "      <td>1094.1</td>\n",
       "      <td>456.2</td>\n",
       "      <td>8</td>\n",
       "      <td>0.2</td>\n",
       "      <td>0</td>\n",
       "      <td>0.0</td>\n",
       "      <td>...</td>\n",
       "      <td>0</td>\n",
       "      <td>0.2</td>\n",
       "      <td>14.8</td>\n",
       "      <td>4.3</td>\n",
       "      <td>0.0</td>\n",
       "      <td>25.2</td>\n",
       "      <td>0.3</td>\n",
       "      <td>93.5</td>\n",
       "      <td>0.8</td>\n",
       "      <td>26798</td>\n",
       "    </tr>\n",
       "    <tr>\n",
       "      <th>1</th>\n",
       "      <td>12035</td>\n",
       "      <td>33564.7</td>\n",
       "      <td>9805.7</td>\n",
       "      <td>861.3</td>\n",
       "      <td>6984.0</td>\n",
       "      <td>8236.2</td>\n",
       "      <td>14</td>\n",
       "      <td>0.1</td>\n",
       "      <td>1</td>\n",
       "      <td>0.0</td>\n",
       "      <td>...</td>\n",
       "      <td>0</td>\n",
       "      <td>2.7</td>\n",
       "      <td>14.4</td>\n",
       "      <td>4.7</td>\n",
       "      <td>0.1</td>\n",
       "      <td>21.6</td>\n",
       "      <td>0.8</td>\n",
       "      <td>66.2</td>\n",
       "      <td>22.7</td>\n",
       "      <td>32376</td>\n",
       "    </tr>\n",
       "    <tr>\n",
       "      <th>2</th>\n",
       "      <td>16023</td>\n",
       "      <td>605.2</td>\n",
       "      <td>267.3</td>\n",
       "      <td>6.7</td>\n",
       "      <td>199.2</td>\n",
       "      <td>74.5</td>\n",
       "      <td>1</td>\n",
       "      <td>0.4</td>\n",
       "      <td>0</td>\n",
       "      <td>0.0</td>\n",
       "      <td>...</td>\n",
       "      <td>0</td>\n",
       "      <td>0.5</td>\n",
       "      <td>16.7</td>\n",
       "      <td>3.7</td>\n",
       "      <td>0.1</td>\n",
       "      <td>25.6</td>\n",
       "      <td>1.5</td>\n",
       "      <td>92.1</td>\n",
       "      <td>0.3</td>\n",
       "      <td>30367</td>\n",
       "    </tr>\n",
       "    <tr>\n",
       "      <th>3</th>\n",
       "      <td>12081</td>\n",
       "      <td>74391.9</td>\n",
       "      <td>18524.6</td>\n",
       "      <td>1306.1</td>\n",
       "      <td>12245.0</td>\n",
       "      <td>21417.0</td>\n",
       "      <td>60</td>\n",
       "      <td>0.2</td>\n",
       "      <td>7</td>\n",
       "      <td>0.0</td>\n",
       "      <td>...</td>\n",
       "      <td>1</td>\n",
       "      <td>0.2</td>\n",
       "      <td>15.8</td>\n",
       "      <td>4.7</td>\n",
       "      <td>0.0</td>\n",
       "      <td>21.8</td>\n",
       "      <td>0.4</td>\n",
       "      <td>55.0</td>\n",
       "      <td>38.6</td>\n",
       "      <td>35666</td>\n",
       "    </tr>\n",
       "    <tr>\n",
       "      <th>4</th>\n",
       "      <td>22067</td>\n",
       "      <td>6896.4</td>\n",
       "      <td>3895.5</td>\n",
       "      <td>687.0</td>\n",
       "      <td>1724.0</td>\n",
       "      <td>1035.6</td>\n",
       "      <td>4</td>\n",
       "      <td>0.1</td>\n",
       "      <td>1</td>\n",
       "      <td>0.0</td>\n",
       "      <td>...</td>\n",
       "      <td>1</td>\n",
       "      <td>0.2</td>\n",
       "      <td>11.9</td>\n",
       "      <td>1.6</td>\n",
       "      <td>0.0</td>\n",
       "      <td>25.0</td>\n",
       "      <td>0.2</td>\n",
       "      <td>36.4</td>\n",
       "      <td>60.8</td>\n",
       "      <td>30072</td>\n",
       "    </tr>\n",
       "    <tr>\n",
       "      <th>...</th>\n",
       "      <td>...</td>\n",
       "      <td>...</td>\n",
       "      <td>...</td>\n",
       "      <td>...</td>\n",
       "      <td>...</td>\n",
       "      <td>...</td>\n",
       "      <td>...</td>\n",
       "      <td>...</td>\n",
       "      <td>...</td>\n",
       "      <td>...</td>\n",
       "      <td>...</td>\n",
       "      <td>...</td>\n",
       "      <td>...</td>\n",
       "      <td>...</td>\n",
       "      <td>...</td>\n",
       "      <td>...</td>\n",
       "      <td>...</td>\n",
       "      <td>...</td>\n",
       "      <td>...</td>\n",
       "      <td>...</td>\n",
       "      <td>...</td>\n",
       "    </tr>\n",
       "    <tr>\n",
       "      <th>3138</th>\n",
       "      <td>12127</td>\n",
       "      <td>150118.3</td>\n",
       "      <td>46275.0</td>\n",
       "      <td>4667.7</td>\n",
       "      <td>28107.3</td>\n",
       "      <td>31981.6</td>\n",
       "      <td>74</td>\n",
       "      <td>0.1</td>\n",
       "      <td>8</td>\n",
       "      <td>0.0</td>\n",
       "      <td>...</td>\n",
       "      <td>1</td>\n",
       "      <td>0.2</td>\n",
       "      <td>10.0</td>\n",
       "      <td>4.8</td>\n",
       "      <td>0.0</td>\n",
       "      <td>19.4</td>\n",
       "      <td>0.3</td>\n",
       "      <td>71.6</td>\n",
       "      <td>21.8</td>\n",
       "      <td>32115</td>\n",
       "    </tr>\n",
       "    <tr>\n",
       "      <th>3139</th>\n",
       "      <td>20161</td>\n",
       "      <td>35861.6</td>\n",
       "      <td>15461.5</td>\n",
       "      <td>752.7</td>\n",
       "      <td>7442.0</td>\n",
       "      <td>2375.0</td>\n",
       "      <td>5</td>\n",
       "      <td>0.1</td>\n",
       "      <td>1</td>\n",
       "      <td>0.0</td>\n",
       "      <td>...</td>\n",
       "      <td>0</td>\n",
       "      <td>0.4</td>\n",
       "      <td>17.9</td>\n",
       "      <td>10.1</td>\n",
       "      <td>0.0</td>\n",
       "      <td>23.9</td>\n",
       "      <td>0.5</td>\n",
       "      <td>86.1</td>\n",
       "      <td>1.1</td>\n",
       "      <td>34340</td>\n",
       "    </tr>\n",
       "    <tr>\n",
       "      <th>3140</th>\n",
       "      <td>39105</td>\n",
       "      <td>4990.5</td>\n",
       "      <td>2405.2</td>\n",
       "      <td>515.4</td>\n",
       "      <td>1148.9</td>\n",
       "      <td>828.9</td>\n",
       "      <td>3</td>\n",
       "      <td>0.1</td>\n",
       "      <td>0</td>\n",
       "      <td>0.0</td>\n",
       "      <td>...</td>\n",
       "      <td>1</td>\n",
       "      <td>1.0</td>\n",
       "      <td>13.1</td>\n",
       "      <td>1.6</td>\n",
       "      <td>0.0</td>\n",
       "      <td>25.4</td>\n",
       "      <td>0.1</td>\n",
       "      <td>95.0</td>\n",
       "      <td>1.2</td>\n",
       "      <td>26396</td>\n",
       "    </tr>\n",
       "    <tr>\n",
       "      <th>3141</th>\n",
       "      <td>39113</td>\n",
       "      <td>158183.2</td>\n",
       "      <td>48711.6</td>\n",
       "      <td>5848.6</td>\n",
       "      <td>38068.7</td>\n",
       "      <td>25256.9</td>\n",
       "      <td>80</td>\n",
       "      <td>0.1</td>\n",
       "      <td>10</td>\n",
       "      <td>0.0</td>\n",
       "      <td>...</td>\n",
       "      <td>0</td>\n",
       "      <td>0.1</td>\n",
       "      <td>19.4</td>\n",
       "      <td>0.4</td>\n",
       "      <td>0.0</td>\n",
       "      <td>21.5</td>\n",
       "      <td>0.1</td>\n",
       "      <td>97.8</td>\n",
       "      <td>0.4</td>\n",
       "      <td>35211</td>\n",
       "    </tr>\n",
       "    <tr>\n",
       "      <th>3142</th>\n",
       "      <td>38055</td>\n",
       "      <td>4944.0</td>\n",
       "      <td>1291.1</td>\n",
       "      <td>67.2</td>\n",
       "      <td>992.9</td>\n",
       "      <td>1053.1</td>\n",
       "      <td>2</td>\n",
       "      <td>0.2</td>\n",
       "      <td>0</td>\n",
       "      <td>0.0</td>\n",
       "      <td>...</td>\n",
       "      <td>0</td>\n",
       "      <td>0.3</td>\n",
       "      <td>14.2</td>\n",
       "      <td>2.2</td>\n",
       "      <td>0.0</td>\n",
       "      <td>26.6</td>\n",
       "      <td>21.2</td>\n",
       "      <td>74.6</td>\n",
       "      <td>0.1</td>\n",
       "      <td>46052</td>\n",
       "    </tr>\n",
       "  </tbody>\n",
       "</table>\n",
       "<p>3143 rows × 114 columns</p>\n",
       "</div>"
      ],
      "text/plain": [
       "       FIPS  Population, low access to store, 2010  \\\n",
       "0     39127                                 3713.6   \n",
       "1     12035                                33564.7   \n",
       "2     16023                                  605.2   \n",
       "3     12081                                74391.9   \n",
       "4     22067                                 6896.4   \n",
       "...     ...                                    ...   \n",
       "3138  12127                               150118.3   \n",
       "3139  20161                                35861.6   \n",
       "3140  39105                                 4990.5   \n",
       "3141  39113                               158183.2   \n",
       "3142  38055                                 4944.0   \n",
       "\n",
       "      Low income & low access to store, 2010  \\\n",
       "0                                     1898.7   \n",
       "1                                     9805.7   \n",
       "2                                      267.3   \n",
       "3                                    18524.6   \n",
       "4                                     3895.5   \n",
       "...                                      ...   \n",
       "3138                                 46275.0   \n",
       "3139                                 15461.5   \n",
       "3140                                  2405.2   \n",
       "3141                                 48711.6   \n",
       "3142                                  1291.1   \n",
       "\n",
       "      Households, no car & low access to store, 2010  \\\n",
       "0                                              790.5   \n",
       "1                                              861.3   \n",
       "2                                                6.7   \n",
       "3                                             1306.1   \n",
       "4                                              687.0   \n",
       "...                                              ...   \n",
       "3138                                          4667.7   \n",
       "3139                                           752.7   \n",
       "3140                                           515.4   \n",
       "3141                                          5848.6   \n",
       "3142                                            67.2   \n",
       "\n",
       "      Children, low access to store, 2010  Seniors, low access to store, 2010  \\\n",
       "0                                  1094.1                               456.2   \n",
       "1                                  6984.0                              8236.2   \n",
       "2                                   199.2                                74.5   \n",
       "3                                 12245.0                             21417.0   \n",
       "4                                  1724.0                              1035.6   \n",
       "...                                   ...                                 ...   \n",
       "3138                              28107.3                             31981.6   \n",
       "3139                               7442.0                              2375.0   \n",
       "3140                               1148.9                               828.9   \n",
       "3141                              38068.7                             25256.9   \n",
       "3142                                992.9                              1053.1   \n",
       "\n",
       "      Grocery stores, 2009  Grocery stores/1,000 pop, 2009  \\\n",
       "0                        8                             0.2   \n",
       "1                       14                             0.1   \n",
       "2                        1                             0.4   \n",
       "3                       60                             0.2   \n",
       "4                        4                             0.1   \n",
       "...                    ...                             ...   \n",
       "3138                    74                             0.1   \n",
       "3139                     5                             0.1   \n",
       "3140                     3                             0.1   \n",
       "3141                    80                             0.1   \n",
       "3142                     2                             0.2   \n",
       "\n",
       "      Supercenters & club stores, 2009  \\\n",
       "0                                    0   \n",
       "1                                    1   \n",
       "2                                    0   \n",
       "3                                    7   \n",
       "4                                    1   \n",
       "...                                ...   \n",
       "3138                                 8   \n",
       "3139                                 1   \n",
       "3140                                 0   \n",
       "3141                                10   \n",
       "3142                                 0   \n",
       "\n",
       "      Supercenters & club stores/1,000 pop, 2009           ...            \\\n",
       "0                                            0.0           ...             \n",
       "1                                            0.0           ...             \n",
       "2                                            0.0           ...             \n",
       "3                                            0.0           ...             \n",
       "4                                            0.0           ...             \n",
       "...                                          ...           ...             \n",
       "3138                                         0.0           ...             \n",
       "3139                                         0.0           ...             \n",
       "3140                                         0.0           ...             \n",
       "3141                                         0.0           ...             \n",
       "3142                                         0.0           ...             \n",
       "\n",
       "      TARGET  % Asian, 2010  % Population 65 years or older, 2010  \\\n",
       "0          0            0.2                                  14.8   \n",
       "1          0            2.7                                  14.4   \n",
       "2          0            0.5                                  16.7   \n",
       "3          1            0.2                                  15.8   \n",
       "4          1            0.2                                  11.9   \n",
       "...      ...            ...                                   ...   \n",
       "3138       1            0.2                                  10.0   \n",
       "3139       0            0.4                                  17.9   \n",
       "3140       1            1.0                                  13.1   \n",
       "3141       0            0.1                                  19.4   \n",
       "3142       0            0.3                                  14.2   \n",
       "\n",
       "      % Hispanic, 2010  % Hawaiian or Pacific Islander, 2010  \\\n",
       "0                  4.3                                   0.0   \n",
       "1                  4.7                                   0.1   \n",
       "2                  3.7                                   0.1   \n",
       "3                  4.7                                   0.0   \n",
       "4                  1.6                                   0.0   \n",
       "...                ...                                   ...   \n",
       "3138               4.8                                   0.0   \n",
       "3139              10.1                                   0.0   \n",
       "3140               1.6                                   0.0   \n",
       "3141               0.4                                   0.0   \n",
       "3142               2.2                                   0.0   \n",
       "\n",
       "      % Population under age 18, 2010  \\\n",
       "0                                25.2   \n",
       "1                                21.6   \n",
       "2                                25.6   \n",
       "3                                21.8   \n",
       "4                                25.0   \n",
       "...                               ...   \n",
       "3138                             19.4   \n",
       "3139                             23.9   \n",
       "3140                             25.4   \n",
       "3141                             21.5   \n",
       "3142                             26.6   \n",
       "\n",
       "      % American Indian or Alaska Native, 2010  % White, 2010  % Black, 2010  \\\n",
       "0                                          0.3           93.5            0.8   \n",
       "1                                          0.8           66.2           22.7   \n",
       "2                                          1.5           92.1            0.3   \n",
       "3                                          0.4           55.0           38.6   \n",
       "4                                          0.2           36.4           60.8   \n",
       "...                                        ...            ...            ...   \n",
       "3138                                       0.3           71.6           21.8   \n",
       "3139                                       0.5           86.1            1.1   \n",
       "3140                                       0.1           95.0            1.2   \n",
       "3141                                       0.1           97.8            0.4   \n",
       "3142                                      21.2           74.6            0.1   \n",
       "\n",
       "      Per Capita income 2009  \n",
       "0                      26798  \n",
       "1                      32376  \n",
       "2                      30367  \n",
       "3                      35666  \n",
       "4                      30072  \n",
       "...                      ...  \n",
       "3138                   32115  \n",
       "3139                   34340  \n",
       "3140                   26396  \n",
       "3141                   35211  \n",
       "3142                   46052  \n",
       "\n",
       "[3143 rows x 114 columns]"
      ]
     },
     "execution_count": 6,
     "metadata": {},
     "output_type": "execute_result"
    }
   ],
   "source": [
    "dfx = pd.merge(df,df2,on=\"FIPS\")\n",
    "writer = pd.ExcelWriter(r'C:\\ML Hackathon\\exp.xlsx', engine='xlsxwriter')\n",
    "dfx.to_excel(writer, sheet_name='Sheet1')\n",
    "writer.save()\n",
    "dfx"
   ]
  },
  {
   "cell_type": "code",
   "execution_count": 7,
   "metadata": {},
   "outputs": [
    {
     "name": "stdout",
     "output_type": "stream",
     "text": [
      "List of dropped columns for being /1000:\n",
      "Grocery stores/1,000 pop, 2009\n",
      "Supercenters & club stores/1,000 pop, 2009\n",
      "Convenience stores/1,000 pop, 2009\n",
      "Specialized food stores/1,000 pop, 2009\n",
      "SNAP-authorized stores/1,000 pop, 2012\n",
      "WIC-authorized stores/1,000 pop, 2008\n",
      "WIC-authorized stores/1,000 pop, 2012\n",
      "Fast-food restaurants/1,000 pop, 2009\n",
      "Full-service restaurants/1,000 pop, 2009\n",
      "Farmers' markets/1,000 pop, 2009\n",
      "Vegetable acres harvested/1,000 pop, 2007\n",
      "Vegetable acres harvested/1,000 pop, 2012\n",
      "Vegetable acres harvested for fresh market/1,000 pop, 2007\n",
      "Vegetable acres harvested for fresh market/1,000 pop, 2012\n",
      "Orchard acres/1,000 pop, 2007\n",
      "Orchard acres/1,000 pop, 2012\n",
      "Berry acres/1,000 pop, 2007\n",
      "Berry acres/1,000 pop, 2012\n",
      "Greenhouse veg and fresh herb sq feet/1,000 pop, 2007\n",
      "Greenhouse veg and fresh herb sq feet/1,000 pop, 2012\n",
      "Recreation & fitness facilities/1,000 pop, 2009\n",
      "\n",
      "\n"
     ]
    }
   ],
   "source": [
    "#df = pd.read_excel(r\"C:\\ML Hackathon\\Consolidated dataset piece.xlsx\")\n",
    "#df = df.drop(columns = [\"State\",\"County\"])\n",
    "\n",
    "#df_x = pd.read_excel(r\"C:\\ML Hackathon\\Data_Download_with_defined_target.xls\", sheet_name = \"STORES\")\n",
    "#df_x = df_x[[\"FIPS\",\"TARGET\"]]\n",
    "#df = pd.merge(df,df_x,on=\"FIPS\")\n",
    "\n",
    "#df2 = df\n",
    "#df3 = df[df.columns.drop(list(df.filter(regex='2014')))]\n",
    "#df3 = df3[df3.columns.drop(list(df3.filter(regex='2015')))]\n",
    "df = dfx\n",
    "df3 = df[df.columns.drop(list(df.filter(regex='1,000')))]\n",
    "print(\"List of dropped columns for being /1000:\")\n",
    "for c in df.columns:\n",
    "    if c not in df3.columns:\n",
    "        print(c, end=\"\\n\")\n",
    "print(\"\\n\")"
   ]
  },
  {
   "cell_type": "code",
   "execution_count": 8,
   "metadata": {},
   "outputs": [
    {
     "data": {
      "text/plain": [
       "['FIPS',\n",
       " 'Population, low access to store, 2010',\n",
       " 'Low income & low access to store, 2010',\n",
       " 'Households, no car & low access to store, 2010',\n",
       " 'Children, low access to store, 2010',\n",
       " 'Seniors, low access to store, 2010',\n",
       " 'Grocery stores, 2009',\n",
       " 'Supercenters & club stores, 2009',\n",
       " 'Convenience stores, 2009',\n",
       " 'Specialized food stores, 2009',\n",
       " 'SNAP-authorized stores, 2012',\n",
       " 'WIC-authorized stores, 2008',\n",
       " 'WIC-authorized stores, 2012',\n",
       " 'Fast-food restaurants, 2009',\n",
       " 'Full-service restaurants, 2009',\n",
       " 'Expenditures per capita, fast food, 2007*',\n",
       " 'Expenditures per capita, fast food, 2012*',\n",
       " 'Expenditures per capita, restaurants, 2007*',\n",
       " 'Expenditures per capita, restaurants, 2012*',\n",
       " 'SNAP redemptions/SNAP-authorized stores, 2012',\n",
       " 'SNAP benefits per capita, 2010',\n",
       " 'SNAP online application, 2009*',\n",
       " 'SNAP Combined Application Project , 2009*',\n",
       " 'SNAP Broad-based Categorical Eligibility, 2009*',\n",
       " 'SNAP simplified reporting, 2009*',\n",
       " 'WIC redemptions per capita, 2008',\n",
       " 'WIC redemptions per capita, 2012',\n",
       " 'WIC redemptions/WIC-authorized stores, 2008',\n",
       " 'WIC redemptions/WIC-authorized stores, 2012',\n",
       " 'FDPIR Sites, 2012',\n",
       " 'Price of low-fat milk/national average, 2010**',\n",
       " 'Price of sodas/national average, 2010**',\n",
       " 'Price of low-fat milk/price of sodas, 2010**',\n",
       " 'Farms with direct sales, 2007',\n",
       " 'Farms with direct sales, 2012',\n",
       " 'Direct farm sales, 2007',\n",
       " 'Direct farm sales, 2012',\n",
       " 'Direct farm sales per capita, 2007',\n",
       " 'Direct farm sales per capita, 2012',\n",
       " \"Farmers' markets, 2009\",\n",
       " 'Vegetable farms, 2007',\n",
       " 'Vegetable farms, 2012',\n",
       " 'Vegetable acres harvested, 2007',\n",
       " 'Vegetable acres harvested, 2012',\n",
       " 'Farms with vegetables harvested for fresh market, 2007',\n",
       " 'Farms with vegetables harvested for fresh market, 2012',\n",
       " 'Vegetable acres harvested for fresh market, 2007',\n",
       " 'Vegetable acres harvested for fresh market, 2012',\n",
       " 'Orchard farms, 2007',\n",
       " 'Orchard farms, 2012',\n",
       " 'Orchard acres, 2007',\n",
       " 'Orchard acres, 2012',\n",
       " 'Berry farms, 2007',\n",
       " 'Berry farms, 2012',\n",
       " 'Berry acres, 2007',\n",
       " 'Berry acres, 2012',\n",
       " 'Small slaughterhouse facilities, 2007',\n",
       " 'Small slaughterhouse facilities, 2012',\n",
       " 'Greenhouse vegetable and fresh herb farms, 2007',\n",
       " 'Greenhouse vegetable and fresh herb farms, 2012',\n",
       " 'Greenhouse veg and fresh herb sq feet, 2007',\n",
       " 'Greenhouse veg and fresh herb sq feet, 2012',\n",
       " 'CSA farms, 2007',\n",
       " 'CSA farms, 2012',\n",
       " 'Agritourism operations, 2007',\n",
       " 'Agritourism operations, 2012',\n",
       " 'Agritourism receipts, 2007',\n",
       " 'Agritourism receipts, 2012',\n",
       " 'Farm to school program, 2009',\n",
       " 'Farm to school program, 2013',\n",
       " 'Adult diabetes rate, 2008',\n",
       " 'Adult diabetes rate, 2013',\n",
       " 'Adult obesity rate, 2008',\n",
       " 'Adult obesity rate, 2013',\n",
       " 'Recreation & fitness facilities, 2009',\n",
       " 'Persistent-poverty counties, 2010',\n",
       " 'Persistent-child-poverty counties, 2010',\n",
       " 'Metro/nonmetro counties, 2010',\n",
       " 'Population-loss counties, 2010',\n",
       " '2010 Census Population',\n",
       " 'Population Estimate, 2011',\n",
       " 'Population Estimate, 2012',\n",
       " 'Population Estimate, 2013',\n",
       " 'TARGET',\n",
       " '% Asian, 2010',\n",
       " '% Population 65 years or older, 2010',\n",
       " '% Hispanic, 2010',\n",
       " '% Hawaiian or Pacific Islander, 2010',\n",
       " '% Population under age 18, 2010',\n",
       " '% American Indian or Alaska Native, 2010',\n",
       " '% White, 2010',\n",
       " '% Black, 2010',\n",
       " 'Per Capita income 2009']"
      ]
     },
     "execution_count": 8,
     "metadata": {},
     "output_type": "execute_result"
    }
   ],
   "source": [
    "list(df3)\n",
    "#df = df3[[column for column in final]]"
   ]
  },
  {
   "cell_type": "code",
   "execution_count": 10,
   "metadata": {},
   "outputs": [
    {
     "data": {
      "text/html": [
       "<div>\n",
       "<style scoped>\n",
       "    .dataframe tbody tr th:only-of-type {\n",
       "        vertical-align: middle;\n",
       "    }\n",
       "\n",
       "    .dataframe tbody tr th {\n",
       "        vertical-align: top;\n",
       "    }\n",
       "\n",
       "    .dataframe thead th {\n",
       "        text-align: right;\n",
       "    }\n",
       "</style>\n",
       "<table border=\"1\" class=\"dataframe\">\n",
       "  <thead>\n",
       "    <tr style=\"text-align: right;\">\n",
       "      <th></th>\n",
       "      <th>FIPS</th>\n",
       "      <th>Population, low access to store, 2010</th>\n",
       "      <th>Low income &amp; low access to store, 2010</th>\n",
       "      <th>Households, no car &amp; low access to store, 2010</th>\n",
       "      <th>Children, low access to store, 2010</th>\n",
       "      <th>Seniors, low access to store, 2010</th>\n",
       "      <th>Grocery stores, 2009</th>\n",
       "      <th>Supercenters &amp; club stores, 2009</th>\n",
       "      <th>Convenience stores, 2009</th>\n",
       "      <th>Specialized food stores, 2009</th>\n",
       "      <th>...</th>\n",
       "      <th>Population Estimate, 2013</th>\n",
       "      <th>% Asian, 2010</th>\n",
       "      <th>% Population 65 years or older, 2010</th>\n",
       "      <th>% Hispanic, 2010</th>\n",
       "      <th>% Hawaiian or Pacific Islander, 2010</th>\n",
       "      <th>% Population under age 18, 2010</th>\n",
       "      <th>% American Indian or Alaska Native, 2010</th>\n",
       "      <th>% White, 2010</th>\n",
       "      <th>% Black, 2010</th>\n",
       "      <th>Per Capita income 2009</th>\n",
       "    </tr>\n",
       "  </thead>\n",
       "  <tbody>\n",
       "    <tr>\n",
       "      <th>0</th>\n",
       "      <td>39127</td>\n",
       "      <td>3713.6</td>\n",
       "      <td>1898.7</td>\n",
       "      <td>790.5</td>\n",
       "      <td>1094.1</td>\n",
       "      <td>456.2</td>\n",
       "      <td>8</td>\n",
       "      <td>0</td>\n",
       "      <td>15</td>\n",
       "      <td>0</td>\n",
       "      <td>...</td>\n",
       "      <td>35977</td>\n",
       "      <td>0.2</td>\n",
       "      <td>14.8</td>\n",
       "      <td>4.3</td>\n",
       "      <td>0.0</td>\n",
       "      <td>25.2</td>\n",
       "      <td>0.3</td>\n",
       "      <td>93.5</td>\n",
       "      <td>0.8</td>\n",
       "      <td>26798</td>\n",
       "    </tr>\n",
       "    <tr>\n",
       "      <th>1</th>\n",
       "      <td>12035</td>\n",
       "      <td>33564.7</td>\n",
       "      <td>9805.7</td>\n",
       "      <td>861.3</td>\n",
       "      <td>6984.0</td>\n",
       "      <td>8236.2</td>\n",
       "      <td>14</td>\n",
       "      <td>1</td>\n",
       "      <td>26</td>\n",
       "      <td>3</td>\n",
       "      <td>...</td>\n",
       "      <td>100013</td>\n",
       "      <td>2.7</td>\n",
       "      <td>14.4</td>\n",
       "      <td>4.7</td>\n",
       "      <td>0.1</td>\n",
       "      <td>21.6</td>\n",
       "      <td>0.8</td>\n",
       "      <td>66.2</td>\n",
       "      <td>22.7</td>\n",
       "      <td>32376</td>\n",
       "    </tr>\n",
       "    <tr>\n",
       "      <th>2</th>\n",
       "      <td>16023</td>\n",
       "      <td>605.2</td>\n",
       "      <td>267.3</td>\n",
       "      <td>6.7</td>\n",
       "      <td>199.2</td>\n",
       "      <td>74.5</td>\n",
       "      <td>1</td>\n",
       "      <td>0</td>\n",
       "      <td>5</td>\n",
       "      <td>0</td>\n",
       "      <td>...</td>\n",
       "      <td>2626</td>\n",
       "      <td>0.5</td>\n",
       "      <td>16.7</td>\n",
       "      <td>3.7</td>\n",
       "      <td>0.1</td>\n",
       "      <td>25.6</td>\n",
       "      <td>1.5</td>\n",
       "      <td>92.1</td>\n",
       "      <td>0.3</td>\n",
       "      <td>30367</td>\n",
       "    </tr>\n",
       "    <tr>\n",
       "      <th>3</th>\n",
       "      <td>12081</td>\n",
       "      <td>74391.9</td>\n",
       "      <td>18524.6</td>\n",
       "      <td>1306.1</td>\n",
       "      <td>12245.0</td>\n",
       "      <td>21417.0</td>\n",
       "      <td>60</td>\n",
       "      <td>7</td>\n",
       "      <td>120</td>\n",
       "      <td>14</td>\n",
       "      <td>...</td>\n",
       "      <td>342246</td>\n",
       "      <td>0.2</td>\n",
       "      <td>15.8</td>\n",
       "      <td>4.7</td>\n",
       "      <td>0.0</td>\n",
       "      <td>21.8</td>\n",
       "      <td>0.4</td>\n",
       "      <td>55.0</td>\n",
       "      <td>38.6</td>\n",
       "      <td>35666</td>\n",
       "    </tr>\n",
       "    <tr>\n",
       "      <th>4</th>\n",
       "      <td>22067</td>\n",
       "      <td>6896.4</td>\n",
       "      <td>3895.5</td>\n",
       "      <td>687.0</td>\n",
       "      <td>1724.0</td>\n",
       "      <td>1035.6</td>\n",
       "      <td>4</td>\n",
       "      <td>1</td>\n",
       "      <td>19</td>\n",
       "      <td>1</td>\n",
       "      <td>...</td>\n",
       "      <td>27012</td>\n",
       "      <td>0.2</td>\n",
       "      <td>11.9</td>\n",
       "      <td>1.6</td>\n",
       "      <td>0.0</td>\n",
       "      <td>25.0</td>\n",
       "      <td>0.2</td>\n",
       "      <td>36.4</td>\n",
       "      <td>60.8</td>\n",
       "      <td>30072</td>\n",
       "    </tr>\n",
       "    <tr>\n",
       "      <th>...</th>\n",
       "      <td>...</td>\n",
       "      <td>...</td>\n",
       "      <td>...</td>\n",
       "      <td>...</td>\n",
       "      <td>...</td>\n",
       "      <td>...</td>\n",
       "      <td>...</td>\n",
       "      <td>...</td>\n",
       "      <td>...</td>\n",
       "      <td>...</td>\n",
       "      <td>...</td>\n",
       "      <td>...</td>\n",
       "      <td>...</td>\n",
       "      <td>...</td>\n",
       "      <td>...</td>\n",
       "      <td>...</td>\n",
       "      <td>...</td>\n",
       "      <td>...</td>\n",
       "      <td>...</td>\n",
       "      <td>...</td>\n",
       "      <td>...</td>\n",
       "    </tr>\n",
       "    <tr>\n",
       "      <th>3138</th>\n",
       "      <td>12127</td>\n",
       "      <td>150118.3</td>\n",
       "      <td>46275.0</td>\n",
       "      <td>4667.7</td>\n",
       "      <td>28107.3</td>\n",
       "      <td>31981.6</td>\n",
       "      <td>74</td>\n",
       "      <td>8</td>\n",
       "      <td>251</td>\n",
       "      <td>29</td>\n",
       "      <td>...</td>\n",
       "      <td>501282</td>\n",
       "      <td>0.2</td>\n",
       "      <td>10.0</td>\n",
       "      <td>4.8</td>\n",
       "      <td>0.0</td>\n",
       "      <td>19.4</td>\n",
       "      <td>0.3</td>\n",
       "      <td>71.6</td>\n",
       "      <td>21.8</td>\n",
       "      <td>32115</td>\n",
       "    </tr>\n",
       "    <tr>\n",
       "      <th>3139</th>\n",
       "      <td>20161</td>\n",
       "      <td>35861.6</td>\n",
       "      <td>15461.5</td>\n",
       "      <td>752.7</td>\n",
       "      <td>7442.0</td>\n",
       "      <td>2375.0</td>\n",
       "      <td>5</td>\n",
       "      <td>1</td>\n",
       "      <td>26</td>\n",
       "      <td>4</td>\n",
       "      <td>...</td>\n",
       "      <td>75502</td>\n",
       "      <td>0.4</td>\n",
       "      <td>17.9</td>\n",
       "      <td>10.1</td>\n",
       "      <td>0.0</td>\n",
       "      <td>23.9</td>\n",
       "      <td>0.5</td>\n",
       "      <td>86.1</td>\n",
       "      <td>1.1</td>\n",
       "      <td>34340</td>\n",
       "    </tr>\n",
       "    <tr>\n",
       "      <th>3140</th>\n",
       "      <td>39105</td>\n",
       "      <td>4990.5</td>\n",
       "      <td>2405.2</td>\n",
       "      <td>515.4</td>\n",
       "      <td>1148.9</td>\n",
       "      <td>828.9</td>\n",
       "      <td>3</td>\n",
       "      <td>0</td>\n",
       "      <td>15</td>\n",
       "      <td>0</td>\n",
       "      <td>...</td>\n",
       "      <td>23467</td>\n",
       "      <td>1.0</td>\n",
       "      <td>13.1</td>\n",
       "      <td>1.6</td>\n",
       "      <td>0.0</td>\n",
       "      <td>25.4</td>\n",
       "      <td>0.1</td>\n",
       "      <td>95.0</td>\n",
       "      <td>1.2</td>\n",
       "      <td>26396</td>\n",
       "    </tr>\n",
       "    <tr>\n",
       "      <th>3141</th>\n",
       "      <td>39113</td>\n",
       "      <td>158183.2</td>\n",
       "      <td>48711.6</td>\n",
       "      <td>5848.6</td>\n",
       "      <td>38068.7</td>\n",
       "      <td>25256.9</td>\n",
       "      <td>80</td>\n",
       "      <td>10</td>\n",
       "      <td>218</td>\n",
       "      <td>35</td>\n",
       "      <td>...</td>\n",
       "      <td>534126</td>\n",
       "      <td>0.1</td>\n",
       "      <td>19.4</td>\n",
       "      <td>0.4</td>\n",
       "      <td>0.0</td>\n",
       "      <td>21.5</td>\n",
       "      <td>0.1</td>\n",
       "      <td>97.8</td>\n",
       "      <td>0.4</td>\n",
       "      <td>35211</td>\n",
       "    </tr>\n",
       "    <tr>\n",
       "      <th>3142</th>\n",
       "      <td>38055</td>\n",
       "      <td>4944.0</td>\n",
       "      <td>1291.1</td>\n",
       "      <td>67.2</td>\n",
       "      <td>992.9</td>\n",
       "      <td>1053.1</td>\n",
       "      <td>2</td>\n",
       "      <td>0</td>\n",
       "      <td>9</td>\n",
       "      <td>0</td>\n",
       "      <td>...</td>\n",
       "      <td>9474</td>\n",
       "      <td>0.3</td>\n",
       "      <td>14.2</td>\n",
       "      <td>2.2</td>\n",
       "      <td>0.0</td>\n",
       "      <td>26.6</td>\n",
       "      <td>21.2</td>\n",
       "      <td>74.6</td>\n",
       "      <td>0.1</td>\n",
       "      <td>46052</td>\n",
       "    </tr>\n",
       "  </tbody>\n",
       "</table>\n",
       "<p>3143 rows × 92 columns</p>\n",
       "</div>"
      ],
      "text/plain": [
       "       FIPS  Population, low access to store, 2010  \\\n",
       "0     39127                                 3713.6   \n",
       "1     12035                                33564.7   \n",
       "2     16023                                  605.2   \n",
       "3     12081                                74391.9   \n",
       "4     22067                                 6896.4   \n",
       "...     ...                                    ...   \n",
       "3138  12127                               150118.3   \n",
       "3139  20161                                35861.6   \n",
       "3140  39105                                 4990.5   \n",
       "3141  39113                               158183.2   \n",
       "3142  38055                                 4944.0   \n",
       "\n",
       "      Low income & low access to store, 2010  \\\n",
       "0                                     1898.7   \n",
       "1                                     9805.7   \n",
       "2                                      267.3   \n",
       "3                                    18524.6   \n",
       "4                                     3895.5   \n",
       "...                                      ...   \n",
       "3138                                 46275.0   \n",
       "3139                                 15461.5   \n",
       "3140                                  2405.2   \n",
       "3141                                 48711.6   \n",
       "3142                                  1291.1   \n",
       "\n",
       "      Households, no car & low access to store, 2010  \\\n",
       "0                                              790.5   \n",
       "1                                              861.3   \n",
       "2                                                6.7   \n",
       "3                                             1306.1   \n",
       "4                                              687.0   \n",
       "...                                              ...   \n",
       "3138                                          4667.7   \n",
       "3139                                           752.7   \n",
       "3140                                           515.4   \n",
       "3141                                          5848.6   \n",
       "3142                                            67.2   \n",
       "\n",
       "      Children, low access to store, 2010  Seniors, low access to store, 2010  \\\n",
       "0                                  1094.1                               456.2   \n",
       "1                                  6984.0                              8236.2   \n",
       "2                                   199.2                                74.5   \n",
       "3                                 12245.0                             21417.0   \n",
       "4                                  1724.0                              1035.6   \n",
       "...                                   ...                                 ...   \n",
       "3138                              28107.3                             31981.6   \n",
       "3139                               7442.0                              2375.0   \n",
       "3140                               1148.9                               828.9   \n",
       "3141                              38068.7                             25256.9   \n",
       "3142                                992.9                              1053.1   \n",
       "\n",
       "      Grocery stores, 2009  Supercenters & club stores, 2009  \\\n",
       "0                        8                                 0   \n",
       "1                       14                                 1   \n",
       "2                        1                                 0   \n",
       "3                       60                                 7   \n",
       "4                        4                                 1   \n",
       "...                    ...                               ...   \n",
       "3138                    74                                 8   \n",
       "3139                     5                                 1   \n",
       "3140                     3                                 0   \n",
       "3141                    80                                10   \n",
       "3142                     2                                 0   \n",
       "\n",
       "      Convenience stores, 2009  Specialized food stores, 2009  \\\n",
       "0                           15                              0   \n",
       "1                           26                              3   \n",
       "2                            5                              0   \n",
       "3                          120                             14   \n",
       "4                           19                              1   \n",
       "...                        ...                            ...   \n",
       "3138                       251                             29   \n",
       "3139                        26                              4   \n",
       "3140                        15                              0   \n",
       "3141                       218                             35   \n",
       "3142                         9                              0   \n",
       "\n",
       "               ...            Population Estimate, 2013  % Asian, 2010  \\\n",
       "0              ...                                35977            0.2   \n",
       "1              ...                               100013            2.7   \n",
       "2              ...                                 2626            0.5   \n",
       "3              ...                               342246            0.2   \n",
       "4              ...                                27012            0.2   \n",
       "...            ...                                  ...            ...   \n",
       "3138           ...                               501282            0.2   \n",
       "3139           ...                                75502            0.4   \n",
       "3140           ...                                23467            1.0   \n",
       "3141           ...                               534126            0.1   \n",
       "3142           ...                                 9474            0.3   \n",
       "\n",
       "      % Population 65 years or older, 2010  % Hispanic, 2010  \\\n",
       "0                                     14.8               4.3   \n",
       "1                                     14.4               4.7   \n",
       "2                                     16.7               3.7   \n",
       "3                                     15.8               4.7   \n",
       "4                                     11.9               1.6   \n",
       "...                                    ...               ...   \n",
       "3138                                  10.0               4.8   \n",
       "3139                                  17.9              10.1   \n",
       "3140                                  13.1               1.6   \n",
       "3141                                  19.4               0.4   \n",
       "3142                                  14.2               2.2   \n",
       "\n",
       "      % Hawaiian or Pacific Islander, 2010  % Population under age 18, 2010  \\\n",
       "0                                      0.0                             25.2   \n",
       "1                                      0.1                             21.6   \n",
       "2                                      0.1                             25.6   \n",
       "3                                      0.0                             21.8   \n",
       "4                                      0.0                             25.0   \n",
       "...                                    ...                              ...   \n",
       "3138                                   0.0                             19.4   \n",
       "3139                                   0.0                             23.9   \n",
       "3140                                   0.0                             25.4   \n",
       "3141                                   0.0                             21.5   \n",
       "3142                                   0.0                             26.6   \n",
       "\n",
       "      % American Indian or Alaska Native, 2010  % White, 2010  % Black, 2010  \\\n",
       "0                                          0.3           93.5            0.8   \n",
       "1                                          0.8           66.2           22.7   \n",
       "2                                          1.5           92.1            0.3   \n",
       "3                                          0.4           55.0           38.6   \n",
       "4                                          0.2           36.4           60.8   \n",
       "...                                        ...            ...            ...   \n",
       "3138                                       0.3           71.6           21.8   \n",
       "3139                                       0.5           86.1            1.1   \n",
       "3140                                       0.1           95.0            1.2   \n",
       "3141                                       0.1           97.8            0.4   \n",
       "3142                                      21.2           74.6            0.1   \n",
       "\n",
       "      Per Capita income 2009  \n",
       "0                      26798  \n",
       "1                      32376  \n",
       "2                      30367  \n",
       "3                      35666  \n",
       "4                      30072  \n",
       "...                      ...  \n",
       "3138                   32115  \n",
       "3139                   34340  \n",
       "3140                   26396  \n",
       "3141                   35211  \n",
       "3142                   46052  \n",
       "\n",
       "[3143 rows x 92 columns]"
      ]
     },
     "execution_count": 10,
     "metadata": {},
     "output_type": "execute_result"
    }
   ],
   "source": [
    "df = df3\n",
    "Y = df[[\"TARGET\"]]\n",
    "X = df.drop(columns = [\"TARGET\"])\n",
    "X"
   ]
  },
  {
   "cell_type": "code",
   "execution_count": 11,
   "metadata": {},
   "outputs": [
    {
     "data": {
      "text/plain": [
       "(3143, 92)"
      ]
     },
     "execution_count": 11,
     "metadata": {},
     "output_type": "execute_result"
    }
   ],
   "source": [
    "X.shape"
   ]
  },
  {
   "cell_type": "code",
   "execution_count": 12,
   "metadata": {},
   "outputs": [],
   "source": [
    "from sklearn.model_selection import train_test_split\n",
    "from sklearn.metrics import accuracy_score\n",
    "X_train, X_test, Y_train, Y_test = train_test_split(X, Y, test_size = 0.2, random_state = 1)"
   ]
  },
  {
   "cell_type": "markdown",
   "metadata": {},
   "source": [
    "# Extra Trees Classifier\n"
   ]
  },
  {
   "cell_type": "code",
   "execution_count": 13,
   "metadata": {},
   "outputs": [
    {
     "name": "stdout",
     "output_type": "stream",
     "text": [
      "Fitting ExtraTreesClassifier on faces data with 4 cores...\n",
      "done in 3.053s\n"
     ]
    }
   ],
   "source": [
    "from time import time\n",
    "from sklearn.ensemble import ExtraTreesClassifier\n",
    "# Number of cores to use to perform parallel fitting of the forest model\n",
    "n_jobs = 4\n",
    "print(\"Fitting ExtraTreesClassifier on faces data with %d cores...\" % n_jobs)\n",
    "t0 = time()\n",
    "forest = ExtraTreesClassifier(n_estimators=1000,\n",
    "                              n_jobs=n_jobs,\n",
    "                              random_state=0)\n",
    "forest.fit(X_train, Y_train.values.ravel())\n",
    "print(\"done in %0.3fs\" % (time() - t0))\n",
    "importances = forest.feature_importances_"
   ]
  },
  {
   "cell_type": "code",
   "execution_count": 14,
   "metadata": {},
   "outputs": [
    {
     "name": "stdout",
     "output_type": "stream",
     "text": [
      "Accuracy Score is: 1.0\n",
      "[ 0.0114938   0.01177439  0.01173412  0.01360274  0.01161717  0.01219404\n",
      "  0.02931903  0.01011362  0.01258485  0.01180996  0.01296407  0.01403983\n",
      "  0.01253062  0.01078879  0.01074561  0.01006302  0.00982476  0.00950843\n",
      "  0.00913449  0.01259379  0.01297428  0.00763038  0.00632366  0.00703769\n",
      "  0.00155794  0.01132746  0.01096851  0.01121664  0.01087717  0.00448876\n",
      "  0.01035658  0.01139881  0.01061572  0.01102168  0.011034    0.01108475\n",
      "  0.01120513  0.0121341   0.0118593   0.01089225  0.01042265  0.01028571\n",
      "  0.01012808  0.01028055  0.01067788  0.01042224  0.01018655  0.01020448\n",
      "  0.01065323  0.01067304  0.01003439  0.01033135  0.01097015  0.01085476\n",
      "  0.01017264  0.01041078  0.01036042  0.01011447  0.00971875  0.01019023\n",
      "  0.00524628  0.00774147  0.01202228  0.01158636  0.01216311  0.01174911\n",
      "  0.01134929  0.01116899  0.00375016  0.01002505  0.01316095  0.01379967\n",
      "  0.01318259  0.0132137   0.01034524  0.00389972  0.0064049   0.00856283\n",
      "  0.00655721  0.0120137   0.0121489   0.01214342  0.01215075  0.01186838\n",
      "  0.01272407  0.01196123  0.01271223  0.01369694  0.01235671  0.01182123\n",
      "  0.01304542  0.01389381]\n",
      "[[ 1.     0.   ]\n",
      " [ 1.     0.   ]\n",
      " [ 1.     0.   ]\n",
      " ..., \n",
      " [ 0.472  0.528]\n",
      " [ 1.     0.   ]\n",
      " [ 0.522  0.478]]\n"
     ]
    }
   ],
   "source": [
    "print(\"Accuracy Score is: {}\".format(forest.score(X_train,Y_train)))\n",
    "print(importances)\n",
    "#print(ExtraTreesClassifier.score(X_test,Y_test, sample_weight = None))\n",
    "print(forest.predict_proba(X))"
   ]
  },
  {
   "cell_type": "code",
   "execution_count": 15,
   "metadata": {},
   "outputs": [
    {
     "data": {
      "text/plain": [
       "array([0, 0, 1, ..., 1, 0, 1], dtype=int64)"
      ]
     },
     "execution_count": 15,
     "metadata": {},
     "output_type": "execute_result"
    }
   ],
   "source": [
    "#Y_train = Y_train.as_matrix()\n",
    "#X_train = X_train.as_matrix()\n",
    "Y_train.values.ravel()"
   ]
  },
  {
   "cell_type": "code",
   "execution_count": null,
   "metadata": {},
   "outputs": [
    {
     "name": "stderr",
     "output_type": "stream",
     "text": [
      "C:\\anaconda3\\lib\\site-packages\\ipykernel_launcher.py:43: DataConversionWarning: A column-vector y was passed when a 1d array was expected. Please change the shape of y to (n_samples, ), for example using ravel().\n",
      "C:\\anaconda3\\lib\\site-packages\\sklearn\\utils\\validation.py:578: DataConversionWarning: A column-vector y was passed when a 1d array was expected. Please change the shape of y to (n_samples, ), for example using ravel().\n",
      "  y = column_or_1d(y, warn=True)\n"
     ]
    }
   ],
   "source": [
    "#http://scikit-learn.org/stable/auto_examples/classification/plot_classifier_comparison.html#sphx-glr-auto-examples-classification-plot-classifier-comparison-py\n",
    "#import matplotlib.pyplot as plt\n",
    "#from matplotlib.colors import ListedColormap\n",
    "#from sklearn.preprocessing import StandardScaler\n",
    "#from sklearn.neural_network import MLPClassifier\n",
    "#from sklearn.neighbors import KNeighborsClassifier\n",
    "#from sklearn.svm import SVC\n",
    "#from sklearn.gaussian_process import GaussianProcessClassifier\n",
    "#from sklearn.gaussian_process.kernels import RBF, Matern, RationalQuadratic,ExpSineSquared,DotProduct\n",
    "#from sklearn.tree import DecisionTreeClassifier\n",
    "#from sklearn.ensemble import RandomForestClassifier, AdaBoostClassifier\n",
    "#from sklearn.naive_bayes import GaussianNB\n",
    "#from sklearn.discriminant_analysis import QuadraticDiscriminantAnalysis\n",
    "\n",
    "#names = [\"Nearest Neighbors1\", \"Nearest Neighbors2\", \"Nearest Neighbors3\", \"Linear SVM\", \"RBF SVM\", \"Matern SVM\",\\\n",
    "#         \"Rational Quadratic SVM\", \"ExpSineSquared SVM\", \"DotProduct SVM\", \"Sigmoid SVM\",\"Gaussian Process\",\\\n",
    "#         \"Decision Tree1\", \"Decision Tree2\", \"Decision Tree3\", \"Random Forest1\", \"Random Forest2\", \"Random Forest3\",\\\n",
    "#         \"Neural Net 1\", \"Neural Net 2\", \"Neural Net 3\",\"AdaBoost\",\\\n",
    "#         \"Naive Bayes\", \"QDA\"]\n",
    "\n",
    "#classifiers = [\n",
    "   # KNeighborsClassifier(3),\n",
    "   # KNeighborsClassifier(5),\n",
    "   # KNeighborsClassifier(8),\n",
    "   # SVC(kernel=\"linear\", C=0.025),\n",
    "   # SVC(gamma=2, C=1),\n",
    "   # SVC(kernel=\"Matern\"),\n",
    "   # SVC(kernel=\"RationalQuadratic\"),\n",
    "   # SVC(kernel=\"ExpSineSquared\"),\n",
    "   # SVC(kernel=\"DotProduct\"),\n",
    "   # SVC(kernel=\"sigmoid\"),\n",
    "   # GaussianProcessClassifier(1.0 * RBF(1.0)),\n",
    "   # DecisionTreeClassifier(max_depth=5),\n",
    "   # DecisionTreeClassifier(max_depth=10),\n",
    "   # DecisionTreeClassifier(max_depth=15),\n",
    "   # RandomForestClassifier(max_depth=5),\n",
    "   # RandomForestClassifier(max_depth=10),\n",
    "   # RandomForestClassifier(max_depth=15),\n",
    "   # MLPClassifier(activation=\"relu\",solver=\"lbfgs\"),\n",
    "   # MLPClassifier(activation=\"tanh\",solver=\"lbfgs\"),\n",
    "   # MLPClassifier(activation=\"logistic\",solver=\"lbfgs\"),\n",
    "   # AdaBoostClassifier(),\n",
    "   # GaussianNB(),\n",
    "   # QuadraticDiscriminantAnalysis()]\n",
    "\n",
    "#for name,clf in zip(names,classifiers):\n",
    "#    clf.fit(X_train,Y_train)\n",
    "    #score = clf.score(X_test, Y_test)\n",
    "    #print(\"For model {}, using classifer {}, we got an accuracy of {}\".format(name,clf,score))"
   ]
  },
  {
   "cell_type": "markdown",
   "metadata": {},
   "source": [
    "   # Bagging Classifier"
   ]
  },
  {
   "cell_type": "code",
   "execution_count": 19,
   "metadata": {},
   "outputs": [],
   "source": [
    "from sklearn.ensemble import BaggingClassifier\n"
   ]
  },
  {
   "cell_type": "markdown",
   "metadata": {},
   "source": [
    "# Gradient Boosting Classifier"
   ]
  },
  {
   "cell_type": "code",
   "execution_count": null,
   "metadata": {},
   "outputs": [],
   "source": []
  },
  {
   "cell_type": "markdown",
   "metadata": {},
   "source": [
    "# GaussianNB"
   ]
  },
  {
   "cell_type": "code",
   "execution_count": 18,
   "metadata": {},
   "outputs": [
    {
     "name": "stdout",
     "output_type": "stream",
     "text": [
      "0.473767885533\n"
     ]
    }
   ],
   "source": [
    "from sklearn.naive_bayes import GaussianNB\n",
    "GNB = GaussianNB()\n",
    "GNB.fit(X_train,Y_train.values.ravel())\n",
    "print(GNB.score(X_test,Y_test.values.ravel()))"
   ]
  },
  {
   "cell_type": "markdown",
   "metadata": {},
   "source": [
    "# Linear Discriminant Analysis"
   ]
  },
  {
   "cell_type": "code",
   "execution_count": 20,
   "metadata": {},
   "outputs": [
    {
     "data": {
      "text/plain": [
       "0.57710651828298887"
      ]
     },
     "execution_count": 20,
     "metadata": {},
     "output_type": "execute_result"
    }
   ],
   "source": [
    "from sklearn.discriminant_analysis import LinearDiscriminantAnalysis\n",
    "LDA1 = LinearDiscriminantAnalysis()\n",
    "LDA1.fit(X_train,Y_train.values.ravel())\n",
    "LDA1.score(X_test,Y_test.values.ravel())"
   ]
  },
  {
   "cell_type": "markdown",
   "metadata": {},
   "source": [
    "# Quadratic Discriminant Analysis"
   ]
  },
  {
   "cell_type": "code",
   "execution_count": 22,
   "metadata": {},
   "outputs": [
    {
     "data": {
      "text/plain": [
       "0.50079491255961839"
      ]
     },
     "execution_count": 22,
     "metadata": {},
     "output_type": "execute_result"
    }
   ],
   "source": [
    "from sklearn.discriminant_analysis import QuadraticDiscriminantAnalysis\n",
    "QDA1 = QuadraticDiscriminantAnalysis()\n",
    "QDA1.fit(X_train,Y_train.values.ravel())\n",
    "QDA1.score(X_test,Y_test.values.ravel())"
   ]
  },
  {
   "cell_type": "markdown",
   "metadata": {},
   "source": [
    "# Gaussian Process Classifier"
   ]
  },
  {
   "cell_type": "code",
   "execution_count": 24,
   "metadata": {},
   "outputs": [
    {
     "name": "stdout",
     "output_type": "stream",
     "text": [
      "0.572337042925\n"
     ]
    }
   ],
   "source": [
    "from sklearn.gaussian_process import GaussianProcessClassifier\n",
    "GPC = GaussianProcessClassifier()\n",
    "GPC.fit(X_train, Y_train.values.ravel())\n",
    "print(GPC.score(X_test,Y_test.values.ravel()))"
   ]
  },
  {
   "cell_type": "markdown",
   "metadata": {},
   "source": [
    "# MLP Classifier"
   ]
  },
  {
   "cell_type": "code",
   "execution_count": 31,
   "metadata": {},
   "outputs": [
    {
     "name": "stdout",
     "output_type": "stream",
     "text": [
      "0.594669848846\n"
     ]
    }
   ],
   "source": [
    "from sklearn.neural_network import MLPClassifier\n",
    "MLPC1 = MLPClassifier(activation=\"relu\",solver=\"lbfgs\")\n",
    "MLPC1.fit(X_train,Y_train.values.ravel())\n",
    "print(MLPC1.score(X_train,Y_train.values.ravel()))"
   ]
  },
  {
   "cell_type": "code",
   "execution_count": 32,
   "metadata": {},
   "outputs": [
    {
     "name": "stdout",
     "output_type": "stream",
     "text": [
      "0.587112171838\n"
     ]
    }
   ],
   "source": [
    "MLPC2 = MLPClassifier(activation=\"tanh\",solver=\"lbfgs\")\n",
    "MLPC2.fit(X_train,Y_train.values.ravel())\n",
    "print(MLPC2.score(X_train,Y_train.values.ravel()))"
   ]
  },
  {
   "cell_type": "code",
   "execution_count": 33,
   "metadata": {},
   "outputs": [
    {
     "name": "stdout",
     "output_type": "stream",
     "text": [
      "0.594272076372\n"
     ]
    }
   ],
   "source": [
    "MLPC3 = MLPClassifier(activation=\"logistic\",solver=\"lbfgs\")\n",
    "MLPC3.fit(X_train,Y_train.values.ravel())\n",
    "print(MLPC3.score(X_train,Y_train.values.ravel()))"
   ]
  },
  {
   "cell_type": "markdown",
   "metadata": {},
   "source": [
    "# Decision Trees"
   ]
  },
  {
   "cell_type": "markdown",
   "metadata": {},
   "source": [
    "# Decision Tree with max depth 5 or 10 give ~62-64% accuracy"
   ]
  },
  {
   "cell_type": "code",
   "execution_count": 36,
   "metadata": {},
   "outputs": [
    {
     "name": "stdout",
     "output_type": "stream",
     "text": [
      "0.655007949126\n"
     ]
    }
   ],
   "source": [
    "from sklearn.tree import DecisionTreeClassifier\n",
    "dt1 = DecisionTreeClassifier(max_depth=5)\n",
    "dt1.fit(X_train,Y_train)\n",
    "print(dt1.score(X_test,Y_test))\n",
    "#for a,b in zip(list(X_train),dt1.feature_importances_):\n",
    "#    if b>0:\n",
    "#        print(\"{}   {}\".format(a,b))"
   ]
  },
  {
   "cell_type": "code",
   "execution_count": 39,
   "metadata": {},
   "outputs": [
    {
     "name": "stdout",
     "output_type": "stream",
     "text": [
      "0.616852146264\n"
     ]
    }
   ],
   "source": [
    "from sklearn.tree import DecisionTreeClassifier\n",
    "dt2 = DecisionTreeClassifier(max_depth=10)\n",
    "dt2.fit(X_train,Y_train)\n",
    "print(dt2.score(X_test,Y_test))"
   ]
  },
  {
   "cell_type": "code",
   "execution_count": 42,
   "metadata": {},
   "outputs": [
    {
     "name": "stdout",
     "output_type": "stream",
     "text": [
      "0.613672496025\n"
     ]
    }
   ],
   "source": [
    "from sklearn.tree import DecisionTreeClassifier\n",
    "dt3 = DecisionTreeClassifier(max_depth=15)\n",
    "dt3.fit(X_train,Y_train)\n",
    "print(dt3.score(X_test,Y_test))"
   ]
  },
  {
   "cell_type": "code",
   "execution_count": 44,
   "metadata": {
    "scrolled": true
   },
   "outputs": [
    {
     "name": "stdout",
     "output_type": "stream",
     "text": [
      "0.600953895072\n"
     ]
    }
   ],
   "source": [
    "from sklearn.tree import DecisionTreeClassifier\n",
    "dt4 = DecisionTreeClassifier(max_depth=20)\n",
    "dt4.fit(X_train,Y_train)\n",
    "print(dt4.score(X_test,Y_test))"
   ]
  },
  {
   "cell_type": "markdown",
   "metadata": {},
   "source": [
    "# ADABoosting"
   ]
  },
  {
   "cell_type": "code",
   "execution_count": 46,
   "metadata": {},
   "outputs": [
    {
     "name": "stdout",
     "output_type": "stream",
     "text": [
      "0.581875993641\n"
     ]
    }
   ],
   "source": [
    "from sklearn.ensemble import AdaBoostClassifier\n",
    "ada_1 = AdaBoostClassifier(\n",
    "    base_estimator=dt2,\n",
    "    algorithm=\"SAMME.R\")\n",
    "ada_1.fit(X_train, Y_train.values.ravel())\n",
    "print(ada_1.score(X_test,Y_test.values.ravel()))"
   ]
  },
  {
   "cell_type": "markdown",
   "metadata": {},
   "source": [
    "# Random Forest Classifier"
   ]
  },
  {
   "cell_type": "markdown",
   "metadata": {},
   "source": [
    "# Random Forests with depth of 5, give ~64% accuracy."
   ]
  },
  {
   "cell_type": "code",
   "execution_count": 50,
   "metadata": {},
   "outputs": [
    {
     "name": "stdout",
     "output_type": "stream",
     "text": [
      "0.623211446741\n"
     ]
    }
   ],
   "source": [
    "from sklearn.ensemble import RandomForestClassifier\n",
    "RF1 = RandomForestClassifier(max_depth=5, random_state=0)\n",
    "RF1.fit(X_train,Y_train.values.ravel())\n",
    "print(RF1.score(X_test,Y_test.values.ravel()))"
   ]
  },
  {
   "cell_type": "code",
   "execution_count": 51,
   "metadata": {},
   "outputs": [
    {
     "name": "stdout",
     "output_type": "stream",
     "text": [
      "0.632750397456\n"
     ]
    }
   ],
   "source": [
    "RF2 = RandomForestClassifier(max_depth=10, random_state=0)\n",
    "RF2.fit(X_train,Y_train.values.ravel())\n",
    "print(RF2.score(X_test,Y_test.values.ravel()))"
   ]
  },
  {
   "cell_type": "code",
   "execution_count": 52,
   "metadata": {},
   "outputs": [
    {
     "name": "stdout",
     "output_type": "stream",
     "text": [
      "0.613672496025\n"
     ]
    }
   ],
   "source": [
    "RF3 = RandomForestClassifier(max_depth=15, random_state=0)\n",
    "RF3.fit(X_train,Y_train.values.ravel())\n",
    "print(RF3.score(X_test,Y_test.values.ravel()))"
   ]
  },
  {
   "cell_type": "markdown",
   "metadata": {},
   "source": [
    "# Voting Classifier"
   ]
  },
  {
   "cell_type": "code",
   "execution_count": 53,
   "metadata": {},
   "outputs": [
    {
     "name": "stdout",
     "output_type": "stream",
     "text": [
      "0.647058823529\n"
     ]
    }
   ],
   "source": [
    "from sklearn.ensemble import VotingClassifier\n",
    "#dt1, rf1, dt2, rf2\n",
    "DT1 = DecisionTreeClassifier(max_depth=5)\n",
    "DT2 = DecisionTreeClassifier(max_depth=10)\n",
    "RF1 = RandomForestClassifier(max_depth=5, random_state=0)\n",
    "RF2 = RandomForestClassifier(max_depth=10, random_state=0)\n",
    "#VC1 = VotingClassifier(estimators=[('dt1',DT1),('rf1',RF1),('dt2',DT2),('rf2',RF2)], voting = 'hard')\n",
    "GNB = GaussianNB()\n",
    "GPC = GaussianProcessClassifier()\n",
    "LDA1 = QuadraticDiscriminantAnalysis()\n",
    "QDA1 = QuadraticDiscriminantAnalysis()\n",
    "ADA_1 = AdaBoostClassifier(base_estimator=DT2,algorithm=\"SAMME.R\")\n",
    "VC1 = VotingClassifier(estimators=[('dt1',DT1),('dt2',DT2),('rf1',RF1),('rf2',RF2),('gnb',GNB),('gpc',GPC),\\\n",
    "                                   ('lda1',LDA1),('qda1',QDA1),('ada_1',ADA_1)], voting = 'hard')\n",
    "VC1.fit(X_train,Y_train.values.ravel())\n",
    "print(VC1.score(X_test,Y_test.values.ravel()))\n"
   ]
  },
  {
   "cell_type": "code",
   "execution_count": 55,
   "metadata": {},
   "outputs": [
    {
     "name": "stdout",
     "output_type": "stream",
     "text": [
      "0.64546899841\n"
     ]
    }
   ],
   "source": [
    "DT1 = DecisionTreeClassifier(max_depth=5)\n",
    "DT2 = DecisionTreeClassifier(max_depth=10)\n",
    "RF1 = RandomForestClassifier(max_depth=5, random_state=0)\n",
    "RF2 = RandomForestClassifier(max_depth=10, random_state=0)\n",
    "#VC1 = VotingClassifier(estimators=[('dt1',DT1),('rf1',RF1),('dt2',DT2),('rf2',RF2)], voting = 'hard')\n",
    "#GNB = GaussianNB()\n",
    "#GPC = GaussianProcessClassifier()\n",
    "#LDA1 = QuadraticDiscriminantAnalysis()\n",
    "#QDA1 = QuadraticDiscriminantAnalysis()\n",
    "#ADA_1 = AdaBoostClassifier(base_estimator=DT2,algorithm=\"SAMME.R\")\n",
    "VC3 = VotingClassifier(estimators=[('dt1',DT1),('dt2',DT2),('rf1',RF1),('rf2',RF2)], voting = 'hard')\n",
    "VC3.fit(X_train,Y_train.values.ravel())\n",
    "print(VC3.score(X_test,Y_test.values.ravel()))"
   ]
  },
  {
   "cell_type": "code",
   "execution_count": 56,
   "metadata": {},
   "outputs": [
    {
     "name": "stdout",
     "output_type": "stream",
     "text": [
      "0.651828298887\n"
     ]
    }
   ],
   "source": [
    "DT1 = DecisionTreeClassifier(max_depth=5)\n",
    "DT2 = DecisionTreeClassifier(max_depth=10)\n",
    "RF1 = RandomForestClassifier(max_depth=5, random_state=0)\n",
    "RF2 = RandomForestClassifier(max_depth=10, random_state=0)\n",
    "RF3 = RandomForestClassifier(max_depth=15, random_state=0)\n",
    "DT4 = DecisionTreeClassifier(max_depth=20)\n",
    "DT3 = DecisionTreeClassifier(max_depth=15)\n",
    "VC4 = VotingClassifier(estimators=[('dt1',DT1),('dt2',DT2),('rf1',RF1),('rf2',RF2),('rf3',RF3),('dt3',DT3),('dt4',DT4)], voting = 'hard')\n",
    "VC4.fit(X_train,Y_train.values.ravel())\n",
    "print(VC4.score(X_test,Y_test.values.ravel()))"
   ]
  },
  {
   "cell_type": "code",
   "execution_count": 57,
   "metadata": {},
   "outputs": [
    {
     "name": "stdout",
     "output_type": "stream",
     "text": [
      "0.594594594595\n"
     ]
    }
   ],
   "source": [
    "DT1 = DecisionTreeClassifier(max_depth=5)\n",
    "DT2 = DecisionTreeClassifier(max_depth=10)\n",
    "RF1 = RandomForestClassifier(max_depth=5, random_state=0)\n",
    "RF2 = RandomForestClassifier(max_depth=10, random_state=0)\n",
    "#VC1 = VotingClassifier(estimators=[('dt1',DT1),('rf1',RF1),('dt2',DT2),('rf2',RF2)], voting = 'hard')\n",
    "GNB = GaussianNB()\n",
    "GPC = GaussianProcessClassifier()\n",
    "LDA1 = QuadraticDiscriminantAnalysis()\n",
    "QDA1 = QuadraticDiscriminantAnalysis()\n",
    "ADA_1 = AdaBoostClassifier(base_estimator=DT2,algorithm=\"SAMME.R\")\n",
    "VC2 = VotingClassifier(estimators=[('dt1',DT1),('dt2',DT2),('rf1',RF1),('rf2',RF2),('gnb',GNB),('gpc',GPC),\\\n",
    "                                   ('lda1',LDA1),('qda1',QDA1),('ada_1',ADA_1)], voting = 'soft')\n",
    "VC2.fit(X_train,Y_train.values.ravel())\n",
    "print(VC2.score(X_test,Y_test.values.ravel()))\n"
   ]
  },
  {
   "cell_type": "markdown",
   "metadata": {},
   "source": [
    "# SVM1"
   ]
  },
  {
   "cell_type": "code",
   "execution_count": null,
   "metadata": {},
   "outputs": [],
   "source": [
    "from sklearn.svm import SVC\n",
    "from sklearn.preprocessing import StandardScaler\n",
    "scaler = StandardScaler()\n",
    "X_train1 = scaler.fit_transform(X_train)\n",
    "X_test1 = scaler.fit_transform(X_test)\n",
    "svm1 = SVC(kernel=\"linear\", C=0.025)\n",
    "svm1.fit(X_train1, Y_train.values.ravel())\n",
    "print(svm1.score(X_test1,Y_test.values.ravel()))\n",
    "svm1.predict_proba(X)"
   ]
  },
  {
   "cell_type": "code",
   "execution_count": null,
   "metadata": {},
   "outputs": [],
   "source": [
    "svm2 = svm.SVC(gamma=2, C=1),\n",
    "svm2.fit(X_train, Y_train)\n",
    "print(svm2.score(X_test,Y_test))\n",
    "svm2.predict_proba(X)"
   ]
  },
  {
   "cell_type": "code",
   "execution_count": null,
   "metadata": {},
   "outputs": [],
   "source": [
    "svm3 = svm.SVC(kernel=\"Matern\"),\n",
    "svm3.fit(X_train, Y_train)\n",
    "print(svm3.score(X_test,Y_test))\n",
    "svm3.predict_proba(X)"
   ]
  },
  {
   "cell_type": "code",
   "execution_count": null,
   "metadata": {},
   "outputs": [],
   "source": [
    "svm4 = svm.SVC(kernel=\"RationalQuadratic\"),\n",
    "svm4.fit(X_train, Y_train)\n",
    "print(svm4.score(X_test,Y_test))\n",
    "svm4.predict_proba(X)"
   ]
  },
  {
   "cell_type": "code",
   "execution_count": null,
   "metadata": {},
   "outputs": [],
   "source": [
    "svm5 = svm.SVC(kernel=\"ExpSineSquared\"),\n",
    "svm5.fit(X_train, Y_train)\n",
    "print(svm5.score(X_test,Y_test))\n",
    "svm5.predict_proba(X)"
   ]
  },
  {
   "cell_type": "code",
   "execution_count": null,
   "metadata": {},
   "outputs": [],
   "source": [
    "svm6 = svm.SVC(kernel=\"ExpSineSquared\"),\n",
    "svm6.fit(X_train, Y_train)\n",
    "print(svm6.score(X_test,Y_test))\n",
    "svm6.predict_proba(X)"
   ]
  },
  {
   "cell_type": "code",
   "execution_count": null,
   "metadata": {},
   "outputs": [],
   "source": [
    "svm7 = svm.SVC(kernel=\"ExpSineSquared\"),\n",
    "svm7.fit(X_train, Y_train)\n",
    "print(svm7.score(X_test,Y_test))\n",
    "svm7.predict_proba(X)"
   ]
  },
  {
   "cell_type": "code",
   "execution_count": null,
   "metadata": {},
   "outputs": [],
   "source": [
    "svm8 = svm.SVC(kernel=\"DotProduct\"),\n",
    "svm8.fit(X_train, Y_train)\n",
    "print(svm8.score(X_test,Y_test))\n",
    "svm8.predict_proba(X)"
   ]
  },
  {
   "cell_type": "code",
   "execution_count": null,
   "metadata": {},
   "outputs": [],
   "source": [
    "svm9 = svm.SVC(kernel=\"sigmoid\"),\n",
    "svm9.fit(X_train, Y_train)\n",
    "print(svm9.score(X_test,Y_test))\n",
    "svm9.predict_proba(X)"
   ]
  }
 ],
 "metadata": {
  "kernelspec": {
   "display_name": "Python 3",
   "language": "python",
   "name": "python3"
  },
  "language_info": {
   "codemirror_mode": {
    "name": "ipython",
    "version": 3
   },
   "file_extension": ".py",
   "mimetype": "text/x-python",
   "name": "python",
   "nbconvert_exporter": "python",
   "pygments_lexer": "ipython3",
   "version": "3.6.4"
  }
 },
 "nbformat": 4,
 "nbformat_minor": 2
}
