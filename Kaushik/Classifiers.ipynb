{
 "cells": [
  {
   "cell_type": "code",
   "execution_count": 3,
   "metadata": {},
   "outputs": [],
   "source": [
    "import math\n",
    "\n",
    "from IPython import display\n",
    "from matplotlib import cm\n",
    "from matplotlib import gridspec\n",
    "from matplotlib import pyplot as plt\n",
    "import numpy as np\n",
    "import pandas as pd\n",
    "from sklearn import metrics\n",
    "#import tensorflow as tf\n",
    "#from tensorflow.python.data import Dataset\n",
    "\n",
    "#tf.logging.set_verbosity(tf.logging.ERROR)\n",
    "pd.options.display.max_rows = 10\n",
    "pd.options.display.float_format = '{:.1f}'.format\n",
    "\n",
    "import pandas as pd\n",
    "import sklearn as sklearn"
   ]
  },
  {
   "cell_type": "code",
   "execution_count": 5,
   "metadata": {},
   "outputs": [
    {
     "data": {
      "text/html": [
       "<div>\n",
       "<style scoped>\n",
       "    .dataframe tbody tr th:only-of-type {\n",
       "        vertical-align: middle;\n",
       "    }\n",
       "\n",
       "    .dataframe tbody tr th {\n",
       "        vertical-align: top;\n",
       "    }\n",
       "\n",
       "    .dataframe thead th {\n",
       "        text-align: right;\n",
       "    }\n",
       "</style>\n",
       "<table border=\"1\" class=\"dataframe\">\n",
       "  <thead>\n",
       "    <tr style=\"text-align: right;\">\n",
       "      <th></th>\n",
       "      <th>Population, low access to store, 2010</th>\n",
       "      <th>Low income &amp; low access to store, 2010</th>\n",
       "      <th>Households, no car &amp; low access to store, 2010</th>\n",
       "      <th>Children, low access to store, 2010</th>\n",
       "      <th>Seniors, low access to store, 2010</th>\n",
       "      <th>Grocery stores, 2009</th>\n",
       "      <th>Grocery stores/1,000 pop, 2009</th>\n",
       "      <th>Supercenters &amp; club stores, 2009</th>\n",
       "      <th>Supercenters &amp; club stores/1,000 pop, 2009</th>\n",
       "      <th>Convenience stores, 2009</th>\n",
       "      <th>...</th>\n",
       "      <th>Recreation &amp; fitness facilities, 2009</th>\n",
       "      <th>Recreation &amp; fitness facilities/1,000 pop, 2009</th>\n",
       "      <th>Persistent-poverty counties, 2010</th>\n",
       "      <th>Persistent-child-poverty counties, 2010</th>\n",
       "      <th>Metro/nonmetro counties, 2010</th>\n",
       "      <th>Population-loss counties, 2010</th>\n",
       "      <th>2010 Census Population</th>\n",
       "      <th>Population Estimate, 2011</th>\n",
       "      <th>Population Estimate, 2012</th>\n",
       "      <th>Population Estimate, 2013</th>\n",
       "    </tr>\n",
       "  </thead>\n",
       "  <tbody>\n",
       "    <tr>\n",
       "      <th>0</th>\n",
       "      <td>3713.6</td>\n",
       "      <td>1898.7</td>\n",
       "      <td>790.5</td>\n",
       "      <td>1094.1</td>\n",
       "      <td>456.2</td>\n",
       "      <td>8</td>\n",
       "      <td>0.2</td>\n",
       "      <td>0</td>\n",
       "      <td>0.0</td>\n",
       "      <td>15</td>\n",
       "      <td>...</td>\n",
       "      <td>2</td>\n",
       "      <td>0.1</td>\n",
       "      <td>0</td>\n",
       "      <td>0</td>\n",
       "      <td>0</td>\n",
       "      <td>1</td>\n",
       "      <td>36058</td>\n",
       "      <td>36207</td>\n",
       "      <td>35991</td>\n",
       "      <td>35977</td>\n",
       "    </tr>\n",
       "    <tr>\n",
       "      <th>1</th>\n",
       "      <td>33564.7</td>\n",
       "      <td>9805.7</td>\n",
       "      <td>861.3</td>\n",
       "      <td>6984.0</td>\n",
       "      <td>8236.2</td>\n",
       "      <td>14</td>\n",
       "      <td>0.1</td>\n",
       "      <td>1</td>\n",
       "      <td>0.0</td>\n",
       "      <td>26</td>\n",
       "      <td>...</td>\n",
       "      <td>22</td>\n",
       "      <td>0.1</td>\n",
       "      <td>0</td>\n",
       "      <td>1</td>\n",
       "      <td>1</td>\n",
       "      <td>0</td>\n",
       "      <td>95696</td>\n",
       "      <td>97412</td>\n",
       "      <td>98605</td>\n",
       "      <td>100013</td>\n",
       "    </tr>\n",
       "    <tr>\n",
       "      <th>2</th>\n",
       "      <td>605.2</td>\n",
       "      <td>267.3</td>\n",
       "      <td>6.7</td>\n",
       "      <td>199.2</td>\n",
       "      <td>74.5</td>\n",
       "      <td>1</td>\n",
       "      <td>0.4</td>\n",
       "      <td>0</td>\n",
       "      <td>0.0</td>\n",
       "      <td>5</td>\n",
       "      <td>...</td>\n",
       "      <td>3</td>\n",
       "      <td>0.3</td>\n",
       "      <td>0</td>\n",
       "      <td>0</td>\n",
       "      <td>0</td>\n",
       "      <td>0</td>\n",
       "      <td>2891</td>\n",
       "      <td>2805</td>\n",
       "      <td>2722</td>\n",
       "      <td>2626</td>\n",
       "    </tr>\n",
       "    <tr>\n",
       "      <th>3</th>\n",
       "      <td>74391.9</td>\n",
       "      <td>18524.6</td>\n",
       "      <td>1306.1</td>\n",
       "      <td>12245.0</td>\n",
       "      <td>21417.0</td>\n",
       "      <td>60</td>\n",
       "      <td>0.2</td>\n",
       "      <td>7</td>\n",
       "      <td>0.0</td>\n",
       "      <td>120</td>\n",
       "      <td>...</td>\n",
       "      <td>4</td>\n",
       "      <td>0.2</td>\n",
       "      <td>1</td>\n",
       "      <td>1</td>\n",
       "      <td>0</td>\n",
       "      <td>0</td>\n",
       "      <td>322833</td>\n",
       "      <td>327373</td>\n",
       "      <td>334096</td>\n",
       "      <td>342246</td>\n",
       "    </tr>\n",
       "    <tr>\n",
       "      <th>4</th>\n",
       "      <td>6896.4</td>\n",
       "      <td>3895.5</td>\n",
       "      <td>687.0</td>\n",
       "      <td>1724.0</td>\n",
       "      <td>1035.6</td>\n",
       "      <td>4</td>\n",
       "      <td>0.1</td>\n",
       "      <td>1</td>\n",
       "      <td>0.0</td>\n",
       "      <td>19</td>\n",
       "      <td>...</td>\n",
       "      <td>0</td>\n",
       "      <td>0.0</td>\n",
       "      <td>1</td>\n",
       "      <td>1</td>\n",
       "      <td>0</td>\n",
       "      <td>0</td>\n",
       "      <td>27979</td>\n",
       "      <td>27502</td>\n",
       "      <td>27454</td>\n",
       "      <td>27012</td>\n",
       "    </tr>\n",
       "    <tr>\n",
       "      <th>...</th>\n",
       "      <td>...</td>\n",
       "      <td>...</td>\n",
       "      <td>...</td>\n",
       "      <td>...</td>\n",
       "      <td>...</td>\n",
       "      <td>...</td>\n",
       "      <td>...</td>\n",
       "      <td>...</td>\n",
       "      <td>...</td>\n",
       "      <td>...</td>\n",
       "      <td>...</td>\n",
       "      <td>...</td>\n",
       "      <td>...</td>\n",
       "      <td>...</td>\n",
       "      <td>...</td>\n",
       "      <td>...</td>\n",
       "      <td>...</td>\n",
       "      <td>...</td>\n",
       "      <td>...</td>\n",
       "      <td>...</td>\n",
       "      <td>...</td>\n",
       "    </tr>\n",
       "    <tr>\n",
       "      <th>3138</th>\n",
       "      <td>150118.3</td>\n",
       "      <td>46275.0</td>\n",
       "      <td>4667.7</td>\n",
       "      <td>28107.3</td>\n",
       "      <td>31981.6</td>\n",
       "      <td>74</td>\n",
       "      <td>0.1</td>\n",
       "      <td>8</td>\n",
       "      <td>0.0</td>\n",
       "      <td>251</td>\n",
       "      <td>...</td>\n",
       "      <td>0</td>\n",
       "      <td>0.0</td>\n",
       "      <td>0</td>\n",
       "      <td>0</td>\n",
       "      <td>0</td>\n",
       "      <td>0</td>\n",
       "      <td>494593</td>\n",
       "      <td>494523</td>\n",
       "      <td>497279</td>\n",
       "      <td>501282</td>\n",
       "    </tr>\n",
       "    <tr>\n",
       "      <th>3139</th>\n",
       "      <td>35861.6</td>\n",
       "      <td>15461.5</td>\n",
       "      <td>752.7</td>\n",
       "      <td>7442.0</td>\n",
       "      <td>2375.0</td>\n",
       "      <td>5</td>\n",
       "      <td>0.1</td>\n",
       "      <td>1</td>\n",
       "      <td>0.0</td>\n",
       "      <td>26</td>\n",
       "      <td>...</td>\n",
       "      <td>0</td>\n",
       "      <td>0.0</td>\n",
       "      <td>0</td>\n",
       "      <td>0</td>\n",
       "      <td>0</td>\n",
       "      <td>0</td>\n",
       "      <td>71115</td>\n",
       "      <td>73338</td>\n",
       "      <td>76273</td>\n",
       "      <td>75502</td>\n",
       "    </tr>\n",
       "    <tr>\n",
       "      <th>3140</th>\n",
       "      <td>4990.5</td>\n",
       "      <td>2405.2</td>\n",
       "      <td>515.4</td>\n",
       "      <td>1148.9</td>\n",
       "      <td>828.9</td>\n",
       "      <td>3</td>\n",
       "      <td>0.1</td>\n",
       "      <td>0</td>\n",
       "      <td>0.0</td>\n",
       "      <td>15</td>\n",
       "      <td>...</td>\n",
       "      <td>16</td>\n",
       "      <td>0.1</td>\n",
       "      <td>0</td>\n",
       "      <td>0</td>\n",
       "      <td>1</td>\n",
       "      <td>0</td>\n",
       "      <td>23770</td>\n",
       "      <td>23699</td>\n",
       "      <td>23602</td>\n",
       "      <td>23467</td>\n",
       "    </tr>\n",
       "    <tr>\n",
       "      <th>3141</th>\n",
       "      <td>158183.2</td>\n",
       "      <td>48711.6</td>\n",
       "      <td>5848.6</td>\n",
       "      <td>38068.7</td>\n",
       "      <td>25256.9</td>\n",
       "      <td>80</td>\n",
       "      <td>0.1</td>\n",
       "      <td>10</td>\n",
       "      <td>0.0</td>\n",
       "      <td>218</td>\n",
       "      <td>...</td>\n",
       "      <td>2</td>\n",
       "      <td>0.1</td>\n",
       "      <td>0</td>\n",
       "      <td>0</td>\n",
       "      <td>0</td>\n",
       "      <td>1</td>\n",
       "      <td>535153</td>\n",
       "      <td>534882</td>\n",
       "      <td>534692</td>\n",
       "      <td>534126</td>\n",
       "    </tr>\n",
       "    <tr>\n",
       "      <th>3142</th>\n",
       "      <td>4944.0</td>\n",
       "      <td>1291.1</td>\n",
       "      <td>67.2</td>\n",
       "      <td>992.9</td>\n",
       "      <td>1053.1</td>\n",
       "      <td>2</td>\n",
       "      <td>0.2</td>\n",
       "      <td>0</td>\n",
       "      <td>0.0</td>\n",
       "      <td>9</td>\n",
       "      <td>...</td>\n",
       "      <td>0</td>\n",
       "      <td>0.0</td>\n",
       "      <td>0</td>\n",
       "      <td>0</td>\n",
       "      <td>0</td>\n",
       "      <td>0</td>\n",
       "      <td>8962</td>\n",
       "      <td>9086</td>\n",
       "      <td>9384</td>\n",
       "      <td>9474</td>\n",
       "    </tr>\n",
       "  </tbody>\n",
       "</table>\n",
       "<p>3143 rows × 103 columns</p>\n",
       "</div>"
      ],
      "text/plain": [
       "      Population, low access to store, 2010  \\\n",
       "0                                    3713.6   \n",
       "1                                   33564.7   \n",
       "2                                     605.2   \n",
       "3                                   74391.9   \n",
       "4                                    6896.4   \n",
       "...                                     ...   \n",
       "3138                               150118.3   \n",
       "3139                                35861.6   \n",
       "3140                                 4990.5   \n",
       "3141                               158183.2   \n",
       "3142                                 4944.0   \n",
       "\n",
       "      Low income & low access to store, 2010  \\\n",
       "0                                     1898.7   \n",
       "1                                     9805.7   \n",
       "2                                      267.3   \n",
       "3                                    18524.6   \n",
       "4                                     3895.5   \n",
       "...                                      ...   \n",
       "3138                                 46275.0   \n",
       "3139                                 15461.5   \n",
       "3140                                  2405.2   \n",
       "3141                                 48711.6   \n",
       "3142                                  1291.1   \n",
       "\n",
       "      Households, no car & low access to store, 2010  \\\n",
       "0                                              790.5   \n",
       "1                                              861.3   \n",
       "2                                                6.7   \n",
       "3                                             1306.1   \n",
       "4                                              687.0   \n",
       "...                                              ...   \n",
       "3138                                          4667.7   \n",
       "3139                                           752.7   \n",
       "3140                                           515.4   \n",
       "3141                                          5848.6   \n",
       "3142                                            67.2   \n",
       "\n",
       "      Children, low access to store, 2010  Seniors, low access to store, 2010  \\\n",
       "0                                  1094.1                               456.2   \n",
       "1                                  6984.0                              8236.2   \n",
       "2                                   199.2                                74.5   \n",
       "3                                 12245.0                             21417.0   \n",
       "4                                  1724.0                              1035.6   \n",
       "...                                   ...                                 ...   \n",
       "3138                              28107.3                             31981.6   \n",
       "3139                               7442.0                              2375.0   \n",
       "3140                               1148.9                               828.9   \n",
       "3141                              38068.7                             25256.9   \n",
       "3142                                992.9                              1053.1   \n",
       "\n",
       "      Grocery stores, 2009  Grocery stores/1,000 pop, 2009  \\\n",
       "0                        8                             0.2   \n",
       "1                       14                             0.1   \n",
       "2                        1                             0.4   \n",
       "3                       60                             0.2   \n",
       "4                        4                             0.1   \n",
       "...                    ...                             ...   \n",
       "3138                    74                             0.1   \n",
       "3139                     5                             0.1   \n",
       "3140                     3                             0.1   \n",
       "3141                    80                             0.1   \n",
       "3142                     2                             0.2   \n",
       "\n",
       "      Supercenters & club stores, 2009  \\\n",
       "0                                    0   \n",
       "1                                    1   \n",
       "2                                    0   \n",
       "3                                    7   \n",
       "4                                    1   \n",
       "...                                ...   \n",
       "3138                                 8   \n",
       "3139                                 1   \n",
       "3140                                 0   \n",
       "3141                                10   \n",
       "3142                                 0   \n",
       "\n",
       "      Supercenters & club stores/1,000 pop, 2009  Convenience stores, 2009  \\\n",
       "0                                            0.0                        15   \n",
       "1                                            0.0                        26   \n",
       "2                                            0.0                         5   \n",
       "3                                            0.0                       120   \n",
       "4                                            0.0                        19   \n",
       "...                                          ...                       ...   \n",
       "3138                                         0.0                       251   \n",
       "3139                                         0.0                        26   \n",
       "3140                                         0.0                        15   \n",
       "3141                                         0.0                       218   \n",
       "3142                                         0.0                         9   \n",
       "\n",
       "                ...              Recreation & fitness facilities, 2009  \\\n",
       "0               ...                                                  2   \n",
       "1               ...                                                 22   \n",
       "2               ...                                                  3   \n",
       "3               ...                                                  4   \n",
       "4               ...                                                  0   \n",
       "...             ...                                                ...   \n",
       "3138            ...                                                  0   \n",
       "3139            ...                                                  0   \n",
       "3140            ...                                                 16   \n",
       "3141            ...                                                  2   \n",
       "3142            ...                                                  0   \n",
       "\n",
       "      Recreation & fitness facilities/1,000 pop, 2009  \\\n",
       "0                                                 0.1   \n",
       "1                                                 0.1   \n",
       "2                                                 0.3   \n",
       "3                                                 0.2   \n",
       "4                                                 0.0   \n",
       "...                                               ...   \n",
       "3138                                              0.0   \n",
       "3139                                              0.0   \n",
       "3140                                              0.1   \n",
       "3141                                              0.1   \n",
       "3142                                              0.0   \n",
       "\n",
       "      Persistent-poverty counties, 2010  \\\n",
       "0                                     0   \n",
       "1                                     0   \n",
       "2                                     0   \n",
       "3                                     1   \n",
       "4                                     1   \n",
       "...                                 ...   \n",
       "3138                                  0   \n",
       "3139                                  0   \n",
       "3140                                  0   \n",
       "3141                                  0   \n",
       "3142                                  0   \n",
       "\n",
       "      Persistent-child-poverty counties, 2010  Metro/nonmetro counties, 2010  \\\n",
       "0                                           0                              0   \n",
       "1                                           1                              1   \n",
       "2                                           0                              0   \n",
       "3                                           1                              0   \n",
       "4                                           1                              0   \n",
       "...                                       ...                            ...   \n",
       "3138                                        0                              0   \n",
       "3139                                        0                              0   \n",
       "3140                                        0                              1   \n",
       "3141                                        0                              0   \n",
       "3142                                        0                              0   \n",
       "\n",
       "      Population-loss counties, 2010  2010 Census Population  \\\n",
       "0                                  1                   36058   \n",
       "1                                  0                   95696   \n",
       "2                                  0                    2891   \n",
       "3                                  0                  322833   \n",
       "4                                  0                   27979   \n",
       "...                              ...                     ...   \n",
       "3138                               0                  494593   \n",
       "3139                               0                   71115   \n",
       "3140                               0                   23770   \n",
       "3141                               1                  535153   \n",
       "3142                               0                    8962   \n",
       "\n",
       "      Population Estimate, 2011  Population Estimate, 2012  \\\n",
       "0                         36207                      35991   \n",
       "1                         97412                      98605   \n",
       "2                          2805                       2722   \n",
       "3                        327373                     334096   \n",
       "4                         27502                      27454   \n",
       "...                         ...                        ...   \n",
       "3138                     494523                     497279   \n",
       "3139                      73338                      76273   \n",
       "3140                      23699                      23602   \n",
       "3141                     534882                     534692   \n",
       "3142                       9086                       9384   \n",
       "\n",
       "      Population Estimate, 2013  \n",
       "0                         35977  \n",
       "1                        100013  \n",
       "2                          2626  \n",
       "3                        342246  \n",
       "4                         27012  \n",
       "...                         ...  \n",
       "3138                     501282  \n",
       "3139                      75502  \n",
       "3140                      23467  \n",
       "3141                     534126  \n",
       "3142                       9474  \n",
       "\n",
       "[3143 rows x 103 columns]"
      ]
     },
     "execution_count": 5,
     "metadata": {},
     "output_type": "execute_result"
    }
   ],
   "source": [
    "#edited specific a cell containing a numer classified as string in excel to numeric\n",
    "df = pd.read_excel(r\"C:\\ML Hackathon\\reduced_features_data3.xlsx\")\n",
    "Y = df[[\"TARGET\"]]\n",
    "X = df.drop(columns = [\"TARGET\"])\n",
    "X = X.iloc[:,1:]\n",
    "X"
   ]
  },
  {
   "cell_type": "code",
   "execution_count": 6,
   "metadata": {},
   "outputs": [
    {
     "data": {
      "text/plain": [
       "(3143, 103)"
      ]
     },
     "execution_count": 6,
     "metadata": {},
     "output_type": "execute_result"
    }
   ],
   "source": [
    "X.shape"
   ]
  },
  {
   "cell_type": "code",
   "execution_count": 7,
   "metadata": {},
   "outputs": [],
   "source": [
    "from sklearn.model_selection import train_test_split\n",
    "from sklearn.metrics import accuracy_score\n",
    "X_train, X_test, Y_train, Y_test = train_test_split(X, Y, test_size = 0.2, random_state = 1)"
   ]
  },
  {
   "cell_type": "markdown",
   "metadata": {},
   "source": [
    "# Extra Trees Classifier\n"
   ]
  },
  {
   "cell_type": "code",
   "execution_count": 8,
   "metadata": {},
   "outputs": [
    {
     "name": "stdout",
     "output_type": "stream",
     "text": [
      "Fitting ExtraTreesClassifier on faces data with 4 cores...\n",
      "done in 3.192s\n"
     ]
    }
   ],
   "source": [
    "from time import time\n",
    "from sklearn.ensemble import ExtraTreesClassifier\n",
    "# Number of cores to use to perform parallel fitting of the forest model\n",
    "n_jobs = 4\n",
    "print(\"Fitting ExtraTreesClassifier on faces data with %d cores...\" % n_jobs)\n",
    "t0 = time()\n",
    "forest = ExtraTreesClassifier(n_estimators=1000,\n",
    "                              n_jobs=n_jobs,\n",
    "                              random_state=0)\n",
    "forest.fit(X_train, Y_train.values.ravel())\n",
    "print(\"done in %0.3fs\" % (time() - t0))\n",
    "importances = forest.feature_importances_"
   ]
  },
  {
   "cell_type": "code",
   "execution_count": 11,
   "metadata": {},
   "outputs": [
    {
     "name": "stdout",
     "output_type": "stream",
     "text": [
      "Accuracy Score is: 0.6359300476947536\n",
      "[ 0.01048805  0.01062456  0.01249445  0.01058196  0.01085311  0.02619671\n",
      "  0.0287026   0.00839476  0.01042501  0.01140974  0.01311656  0.01014939\n",
      "  0.01052105  0.01180566  0.0119234   0.01278765  0.0114119   0.01109995\n",
      "  0.01145613  0.00931241  0.01111456  0.00940954  0.01091734  0.00960026\n",
      "  0.00959353  0.0091116   0.00900781  0.01126915  0.0117611   0.00748309\n",
      "  0.00620125  0.00708184  0.00159032  0.01011291  0.00966316  0.0100167\n",
      "  0.00977391  0.00464985  0.00981495  0.01058063  0.00987874  0.00938487\n",
      "  0.00957307  0.00956138  0.0096449   0.01043131  0.01030017  0.00931699\n",
      "  0.01030054  0.00905851  0.00913822  0.00823969  0.00842234  0.00873062\n",
      "  0.00867858  0.0091881   0.0090896   0.00831559  0.00860844  0.00852764\n",
      "  0.00841017  0.00900223  0.00883963  0.00839727  0.00869729  0.00902811\n",
      "  0.00909831  0.00929776  0.00942442  0.00860659  0.00874478  0.0084903\n",
      "  0.00883482  0.00915511  0.00924334  0.0081485   0.00904116  0.00434499\n",
      "  0.00656364  0.00443544  0.00642217  0.01056445  0.01023075  0.01059556\n",
      "  0.0103279   0.00987528  0.0095832   0.0034208   0.00911979  0.01219869\n",
      "  0.01242639  0.01182906  0.01172337  0.00894687  0.01052879  0.00371914\n",
      "  0.00592223  0.00828523  0.00621693  0.01116748  0.01142826  0.01142653\n",
      "  0.01133941]\n",
      "[[ 1.     0.   ]\n",
      " [ 1.     0.   ]\n",
      " [ 1.     0.   ]\n",
      " ..., \n",
      " [ 0.503  0.497]\n",
      " [ 1.     0.   ]\n",
      " [ 0.578  0.422]]\n"
     ]
    }
   ],
   "source": [
    "print(\"Accuracy Score is: {}\".format(forest.score(X_test,Y_test)))\n",
    "print(importances)\n",
    "#print(ExtraTreesClassifier.score(X_test,Y_test, sample_weight = None))\n",
    "print(forest.predict_proba(X))"
   ]
  },
  {
   "cell_type": "code",
   "execution_count": 12,
   "metadata": {},
   "outputs": [
    {
     "data": {
      "text/plain": [
       "array([0, 0, 1, ..., 1, 0, 1], dtype=int64)"
      ]
     },
     "execution_count": 12,
     "metadata": {},
     "output_type": "execute_result"
    }
   ],
   "source": [
    "#Y_train = Y_train.as_matrix()\n",
    "#X_train = X_train.as_matrix()\n",
    "Y_train.values.ravel()"
   ]
  },
  {
   "cell_type": "code",
   "execution_count": null,
   "metadata": {},
   "outputs": [
    {
     "name": "stderr",
     "output_type": "stream",
     "text": [
      "C:\\anaconda3\\lib\\site-packages\\ipykernel_launcher.py:43: DataConversionWarning: A column-vector y was passed when a 1d array was expected. Please change the shape of y to (n_samples, ), for example using ravel().\n",
      "C:\\anaconda3\\lib\\site-packages\\sklearn\\utils\\validation.py:578: DataConversionWarning: A column-vector y was passed when a 1d array was expected. Please change the shape of y to (n_samples, ), for example using ravel().\n",
      "  y = column_or_1d(y, warn=True)\n"
     ]
    }
   ],
   "source": [
    "#http://scikit-learn.org/stable/auto_examples/classification/plot_classifier_comparison.html#sphx-glr-auto-examples-classification-plot-classifier-comparison-py\n",
    "#import matplotlib.pyplot as plt\n",
    "#from matplotlib.colors import ListedColormap\n",
    "#from sklearn.preprocessing import StandardScaler\n",
    "#from sklearn.neural_network import MLPClassifier\n",
    "#from sklearn.neighbors import KNeighborsClassifier\n",
    "#from sklearn.svm import SVC\n",
    "#from sklearn.gaussian_process import GaussianProcessClassifier\n",
    "#from sklearn.gaussian_process.kernels import RBF, Matern, RationalQuadratic,ExpSineSquared,DotProduct\n",
    "#from sklearn.tree import DecisionTreeClassifier\n",
    "#from sklearn.ensemble import RandomForestClassifier, AdaBoostClassifier\n",
    "#from sklearn.naive_bayes import GaussianNB\n",
    "#from sklearn.discriminant_analysis import QuadraticDiscriminantAnalysis\n",
    "\n",
    "#names = [\"Nearest Neighbors1\", \"Nearest Neighbors2\", \"Nearest Neighbors3\", \"Linear SVM\", \"RBF SVM\", \"Matern SVM\",\\\n",
    "#         \"Rational Quadratic SVM\", \"ExpSineSquared SVM\", \"DotProduct SVM\", \"Sigmoid SVM\",\"Gaussian Process\",\\\n",
    "#         \"Decision Tree1\", \"Decision Tree2\", \"Decision Tree3\", \"Random Forest1\", \"Random Forest2\", \"Random Forest3\",\\\n",
    "#         \"Neural Net 1\", \"Neural Net 2\", \"Neural Net 3\",\"AdaBoost\",\\\n",
    "#         \"Naive Bayes\", \"QDA\"]\n",
    "\n",
    "#classifiers = [\n",
    "   # KNeighborsClassifier(3),\n",
    "   # KNeighborsClassifier(5),\n",
    "   # KNeighborsClassifier(8),\n",
    "   # SVC(kernel=\"linear\", C=0.025),\n",
    "   # SVC(gamma=2, C=1),\n",
    "   # SVC(kernel=\"Matern\"),\n",
    "   # SVC(kernel=\"RationalQuadratic\"),\n",
    "   # SVC(kernel=\"ExpSineSquared\"),\n",
    "   # SVC(kernel=\"DotProduct\"),\n",
    "   # SVC(kernel=\"sigmoid\"),\n",
    "   # GaussianProcessClassifier(1.0 * RBF(1.0)),\n",
    "   # DecisionTreeClassifier(max_depth=5),\n",
    "   # DecisionTreeClassifier(max_depth=10),\n",
    "   # DecisionTreeClassifier(max_depth=15),\n",
    "   # RandomForestClassifier(max_depth=5),\n",
    "   # RandomForestClassifier(max_depth=10),\n",
    "   # RandomForestClassifier(max_depth=15),\n",
    "   # MLPClassifier(activation=\"relu\",solver=\"lbfgs\"),\n",
    "   # MLPClassifier(activation=\"tanh\",solver=\"lbfgs\"),\n",
    "   # MLPClassifier(activation=\"logistic\",solver=\"lbfgs\"),\n",
    "   # AdaBoostClassifier(),\n",
    "   # GaussianNB(),\n",
    "   # QuadraticDiscriminantAnalysis()]\n",
    "\n",
    "#for name,clf in zip(names,classifiers):\n",
    "#    clf.fit(X_train,Y_train)\n",
    "    #score = clf.score(X_test, Y_test)\n",
    "    #print(\"For model {}, using classifer {}, we got an accuracy of {}\".format(name,clf,score))"
   ]
  },
  {
   "cell_type": "markdown",
   "metadata": {},
   "source": [
    "   # Bagging Classifier"
   ]
  },
  {
   "cell_type": "code",
   "execution_count": 19,
   "metadata": {},
   "outputs": [],
   "source": [
    "from sklearn.ensemble import BaggingClassifier\n"
   ]
  },
  {
   "cell_type": "markdown",
   "metadata": {},
   "source": [
    "# Gradient Boosting Classifier"
   ]
  },
  {
   "cell_type": "code",
   "execution_count": null,
   "metadata": {},
   "outputs": [],
   "source": []
  },
  {
   "cell_type": "markdown",
   "metadata": {},
   "source": [
    "# GaussianNB"
   ]
  },
  {
   "cell_type": "code",
   "execution_count": 13,
   "metadata": {},
   "outputs": [
    {
     "name": "stdout",
     "output_type": "stream",
     "text": [
      "0.470588235294\n"
     ]
    }
   ],
   "source": [
    "from sklearn.naive_bayes import GaussianNB\n",
    "GNB = GaussianNB()\n",
    "GNB.fit(X_train,Y_train.values.ravel())\n",
    "print(GNB.score(X_test,Y_test.values.ravel()))"
   ]
  },
  {
   "cell_type": "markdown",
   "metadata": {},
   "source": [
    "# Linear Discriminant Analysis"
   ]
  },
  {
   "cell_type": "code",
   "execution_count": 14,
   "metadata": {},
   "outputs": [
    {
     "data": {
      "text/plain": [
       "0.61049284578696339"
      ]
     },
     "execution_count": 14,
     "metadata": {},
     "output_type": "execute_result"
    }
   ],
   "source": [
    "from sklearn.discriminant_analysis import LinearDiscriminantAnalysis\n",
    "LDA1 = LinearDiscriminantAnalysis()\n",
    "LDA1.fit(X_train,Y_train.values.ravel())\n",
    "LDA1.score(X_test,Y_test.values.ravel())"
   ]
  },
  {
   "cell_type": "markdown",
   "metadata": {},
   "source": [
    "# Quadratic Discriminant Analysis"
   ]
  },
  {
   "cell_type": "code",
   "execution_count": 15,
   "metadata": {},
   "outputs": [
    {
     "data": {
      "text/plain": [
       "0.51987281399046104"
      ]
     },
     "execution_count": 15,
     "metadata": {},
     "output_type": "execute_result"
    }
   ],
   "source": [
    "from sklearn.discriminant_analysis import QuadraticDiscriminantAnalysis\n",
    "QDA1 = QuadraticDiscriminantAnalysis()\n",
    "QDA1.fit(X_train,Y_train.values.ravel())\n",
    "QDA1.score(X_test,Y_test.values.ravel())"
   ]
  },
  {
   "cell_type": "markdown",
   "metadata": {},
   "source": [
    "# Gaussian Process Classifier"
   ]
  },
  {
   "cell_type": "code",
   "execution_count": 16,
   "metadata": {},
   "outputs": [
    {
     "name": "stdout",
     "output_type": "stream",
     "text": [
      "0.572337042925\n"
     ]
    }
   ],
   "source": [
    "from sklearn.gaussian_process import GaussianProcessClassifier\n",
    "GPC = GaussianProcessClassifier()\n",
    "GPC.fit(X_train, Y_train.values.ravel())\n",
    "print(GPC.score(X_test,Y_test.values.ravel()))"
   ]
  },
  {
   "cell_type": "markdown",
   "metadata": {},
   "source": [
    "# MLP Classifier"
   ]
  },
  {
   "cell_type": "code",
   "execution_count": 20,
   "metadata": {},
   "outputs": [
    {
     "name": "stdout",
     "output_type": "stream",
     "text": [
      "0.598647573588\n"
     ]
    }
   ],
   "source": [
    "from sklearn.neural_network import MLPClassifier\n",
    "MLPC1 = MLPClassifier(activation=\"relu\",solver=\"lbfgs\")\n",
    "MLPC1.fit(X_train,Y_train.values.ravel())\n",
    "print(MLPC1.score(X_train,Y_train.values.ravel()))"
   ]
  },
  {
   "cell_type": "code",
   "execution_count": 21,
   "metadata": {},
   "outputs": [
    {
     "name": "stdout",
     "output_type": "stream",
     "text": [
      "0.533412887828\n"
     ]
    }
   ],
   "source": [
    "MLPC2 = MLPClassifier(activation=\"tanh\",solver=\"lbfgs\")\n",
    "MLPC2.fit(X_train,Y_train.values.ravel())\n",
    "print(MLPC2.score(X_train,Y_train.values.ravel()))"
   ]
  },
  {
   "cell_type": "code",
   "execution_count": 22,
   "metadata": {},
   "outputs": [
    {
     "name": "stdout",
     "output_type": "stream",
     "text": [
      "0.598647573588\n"
     ]
    }
   ],
   "source": [
    "MLPC3 = MLPClassifier(activation=\"logistic\",solver=\"lbfgs\")\n",
    "MLPC3.fit(X_train,Y_train.values.ravel())\n",
    "print(MLPC3.score(X_train,Y_train.values.ravel()))"
   ]
  },
  {
   "cell_type": "markdown",
   "metadata": {},
   "source": [
    "# Decision Trees"
   ]
  },
  {
   "cell_type": "markdown",
   "metadata": {},
   "source": [
    "# Decision Tree with max depth 5 or 10 give ~62-64% accuracy"
   ]
  },
  {
   "cell_type": "code",
   "execution_count": 23,
   "metadata": {},
   "outputs": [
    {
     "name": "stdout",
     "output_type": "stream",
     "text": [
      "0.632750397456\n",
      "Grocery stores, 2009   0.4112968083336994\n",
      "Grocery stores/1,000 pop, 2009   0.17746325939160493\n",
      "Specialized food stores, 2009   0.021699666506870274\n",
      "Specialized food stores/1,000 pop, 2009   0.012619805848616055\n",
      "WIC-authorized stores, 2008   0.0352865761423595\n",
      "WIC-authorized stores, 2012   0.07314272757855551\n",
      "WIC-authorized stores/1,000 pop, 2012   0.044186475101457914\n",
      "Fast-food restaurants/1,000 pop, 2009   0.010235125722103845\n",
      "Full-service restaurants/1,000 pop, 2009   0.00895430002286284\n",
      "SNAP redemptions/SNAP-authorized stores, 2012   0.01847019807508893\n",
      "WIC redemptions per capita, 2008   0.00661301166997231\n",
      "WIC redemptions per capita, 2012   0.011290746518081455\n",
      "FDPIR Sites, 2012   0.022714291843446272\n",
      "Vegetable acres harvested, 2007   0.02345173815511696\n",
      "Orchard farms, 2012   0.009993638418373715\n",
      "Orchard acres, 2007   0.017351006271408214\n",
      "Orchard acres/1,000 pop, 2007   0.015192028505203941\n",
      "Small slaughterhouse facilities, 2012   0.0030429817988296614\n",
      "Greenhouse vegetable and fresh herb farms, 2012   0.025796911970628673\n",
      "Agritourism operations, 2012   0.01835074053769194\n",
      "Adult obesity rate, 2013   0.021225007461600807\n",
      "Recreation & fitness facilities/1,000 pop, 2009   0.01162295412642678\n"
     ]
    }
   ],
   "source": [
    "from sklearn.tree import DecisionTreeClassifier\n",
    "dt1 = DecisionTreeClassifier(max_depth=5)\n",
    "dt1.fit(X_train,Y_train)\n",
    "print(dt1.score(X_test,Y_test))\n",
    "for a,b in zip(list(X_train),dt1.feature_importances_):\n",
    "    if b>0:\n",
    "        print(\"{}   {}\".format(a,b))"
   ]
  },
  {
   "cell_type": "code",
   "execution_count": 24,
   "metadata": {},
   "outputs": [
    {
     "name": "stdout",
     "output_type": "stream",
     "text": [
      "0.637519872814\n"
     ]
    }
   ],
   "source": [
    "from sklearn.tree import DecisionTreeClassifier\n",
    "dt2 = DecisionTreeClassifier(max_depth=10)\n",
    "dt2.fit(X_train,Y_train)\n",
    "print(dt2.score(X_test,Y_test))"
   ]
  },
  {
   "cell_type": "code",
   "execution_count": 25,
   "metadata": {},
   "outputs": [
    {
     "name": "stdout",
     "output_type": "stream",
     "text": [
      "0.597774244833\n"
     ]
    }
   ],
   "source": [
    "from sklearn.tree import DecisionTreeClassifier\n",
    "dt3 = DecisionTreeClassifier(max_depth=15)\n",
    "dt3.fit(X_train,Y_train)\n",
    "print(dt3.score(X_test,Y_test))"
   ]
  },
  {
   "cell_type": "code",
   "execution_count": 26,
   "metadata": {
    "scrolled": true
   },
   "outputs": [
    {
     "name": "stdout",
     "output_type": "stream",
     "text": [
      "0.621621621622\n"
     ]
    }
   ],
   "source": [
    "from sklearn.tree import DecisionTreeClassifier\n",
    "dt4 = DecisionTreeClassifier(max_depth=20)\n",
    "dt4.fit(X_train,Y_train)\n",
    "print(dt4.score(X_test,Y_test))"
   ]
  },
  {
   "cell_type": "markdown",
   "metadata": {},
   "source": [
    "# ADABoosting"
   ]
  },
  {
   "cell_type": "code",
   "execution_count": 27,
   "metadata": {},
   "outputs": [
    {
     "name": "stdout",
     "output_type": "stream",
     "text": [
      "0.616852146264\n"
     ]
    }
   ],
   "source": [
    "from sklearn.ensemble import AdaBoostClassifier\n",
    "ada_1 = AdaBoostClassifier(\n",
    "    base_estimator=dt2,\n",
    "    algorithm=\"SAMME.R\")\n",
    "ada_1.fit(X_train, Y_train.values.ravel())\n",
    "print(ada_1.score(X_test,Y_test.values.ravel()))"
   ]
  },
  {
   "cell_type": "markdown",
   "metadata": {},
   "source": [
    "# Random Forest Classifier"
   ]
  },
  {
   "cell_type": "markdown",
   "metadata": {},
   "source": [
    "# Random Forests with depth of 5, give ~64% accuracy."
   ]
  },
  {
   "cell_type": "code",
   "execution_count": 28,
   "metadata": {},
   "outputs": [
    {
     "name": "stdout",
     "output_type": "stream",
     "text": [
      "0.647058823529\n"
     ]
    }
   ],
   "source": [
    "from sklearn.ensemble import RandomForestClassifier\n",
    "RF1 = RandomForestClassifier(max_depth=5, random_state=0)\n",
    "RF1.fit(X_train,Y_train.values.ravel())\n",
    "print(RF1.score(X_test,Y_test.values.ravel()))"
   ]
  },
  {
   "cell_type": "code",
   "execution_count": 29,
   "metadata": {},
   "outputs": [
    {
     "name": "stdout",
     "output_type": "stream",
     "text": [
      "0.629570747218\n"
     ]
    }
   ],
   "source": [
    "RF2 = RandomForestClassifier(max_depth=10, random_state=0)\n",
    "RF2.fit(X_train,Y_train.values.ravel())\n",
    "print(RF2.score(X_test,Y_test.values.ravel()))"
   ]
  },
  {
   "cell_type": "code",
   "execution_count": 30,
   "metadata": {},
   "outputs": [
    {
     "name": "stdout",
     "output_type": "stream",
     "text": [
      "0.639109697933\n"
     ]
    }
   ],
   "source": [
    "RF3 = RandomForestClassifier(max_depth=15, random_state=0)\n",
    "RF3.fit(X_train,Y_train.values.ravel())\n",
    "print(RF3.score(X_test,Y_test.values.ravel()))"
   ]
  },
  {
   "cell_type": "markdown",
   "metadata": {},
   "source": [
    "# Voting Classifier"
   ]
  },
  {
   "cell_type": "code",
   "execution_count": 31,
   "metadata": {},
   "outputs": [
    {
     "name": "stdout",
     "output_type": "stream",
     "text": [
      "0.662957074722\n"
     ]
    }
   ],
   "source": [
    "from sklearn.ensemble import VotingClassifier\n",
    "#dt1, rf1, dt2, rf2\n",
    "DT1 = DecisionTreeClassifier(max_depth=5)\n",
    "DT2 = DecisionTreeClassifier(max_depth=10)\n",
    "RF1 = RandomForestClassifier(max_depth=5, random_state=0)\n",
    "RF2 = RandomForestClassifier(max_depth=10, random_state=0)\n",
    "#VC1 = VotingClassifier(estimators=[('dt1',DT1),('rf1',RF1),('dt2',DT2),('rf2',RF2)], voting = 'hard')\n",
    "GNB = GaussianNB()\n",
    "GPC = GaussianProcessClassifier()\n",
    "LDA1 = QuadraticDiscriminantAnalysis()\n",
    "QDA1 = QuadraticDiscriminantAnalysis()\n",
    "ADA_1 = AdaBoostClassifier(base_estimator=DT2,algorithm=\"SAMME.R\")\n",
    "VC1 = VotingClassifier(estimators=[('dt1',DT1),('dt2',DT2),('rf1',RF1),('rf2',RF2),('gnb',GNB),('gpc',GPC),\\\n",
    "                                   ('lda1',LDA1),('qda1',QDA1),('ada_1',ADA_1)], voting = 'hard')\n",
    "VC1.fit(X_train,Y_train.values.ravel())\n",
    "print(VC1.score(X_test,Y_test.values.ravel()))\n"
   ]
  },
  {
   "cell_type": "code",
   "execution_count": 32,
   "metadata": {},
   "outputs": [
    {
     "name": "stdout",
     "output_type": "stream",
     "text": [
      "0.659777424483\n"
     ]
    }
   ],
   "source": [
    "DT1 = DecisionTreeClassifier(max_depth=5)\n",
    "DT2 = DecisionTreeClassifier(max_depth=10)\n",
    "RF1 = RandomForestClassifier(max_depth=5, random_state=0)\n",
    "RF2 = RandomForestClassifier(max_depth=10, random_state=0)\n",
    "#VC1 = VotingClassifier(estimators=[('dt1',DT1),('rf1',RF1),('dt2',DT2),('rf2',RF2)], voting = 'hard')\n",
    "#GNB = GaussianNB()\n",
    "#GPC = GaussianProcessClassifier()\n",
    "#LDA1 = QuadraticDiscriminantAnalysis()\n",
    "#QDA1 = QuadraticDiscriminantAnalysis()\n",
    "#ADA_1 = AdaBoostClassifier(base_estimator=DT2,algorithm=\"SAMME.R\")\n",
    "VC3 = VotingClassifier(estimators=[('dt1',DT1),('dt2',DT2),('rf1',RF1),('rf2',RF2)], voting = 'hard')\n",
    "VC3.fit(X_train,Y_train.values.ravel())\n",
    "print(VC3.score(X_test,Y_test.values.ravel()))"
   ]
  },
  {
   "cell_type": "code",
   "execution_count": 33,
   "metadata": {},
   "outputs": [
    {
     "name": "stdout",
     "output_type": "stream",
     "text": [
      "0.643879173291\n"
     ]
    }
   ],
   "source": [
    "DT1 = DecisionTreeClassifier(max_depth=5)\n",
    "DT2 = DecisionTreeClassifier(max_depth=10)\n",
    "RF1 = RandomForestClassifier(max_depth=5, random_state=0)\n",
    "RF2 = RandomForestClassifier(max_depth=10, random_state=0)\n",
    "RF3 = RandomForestClassifier(max_depth=15, random_state=0)\n",
    "DT4 = DecisionTreeClassifier(max_depth=20)\n",
    "DT3 = DecisionTreeClassifier(max_depth=15)\n",
    "VC4 = VotingClassifier(estimators=[('dt1',DT1),('dt2',DT2),('rf1',RF1),('rf2',RF2),('rf3',RF3),('dt3',DT3),('dt4',DT4)], voting = 'hard')\n",
    "VC4.fit(X_train,Y_train.values.ravel())\n",
    "print(VC4.score(X_test,Y_test.values.ravel()))"
   ]
  },
  {
   "cell_type": "code",
   "execution_count": 34,
   "metadata": {},
   "outputs": [
    {
     "name": "stdout",
     "output_type": "stream",
     "text": [
      "0.618441971383\n"
     ]
    }
   ],
   "source": [
    "DT1 = DecisionTreeClassifier(max_depth=5)\n",
    "DT2 = DecisionTreeClassifier(max_depth=10)\n",
    "RF1 = RandomForestClassifier(max_depth=5, random_state=0)\n",
    "RF2 = RandomForestClassifier(max_depth=10, random_state=0)\n",
    "#VC1 = VotingClassifier(estimators=[('dt1',DT1),('rf1',RF1),('dt2',DT2),('rf2',RF2)], voting = 'hard')\n",
    "GNB = GaussianNB()\n",
    "GPC = GaussianProcessClassifier()\n",
    "LDA1 = QuadraticDiscriminantAnalysis()\n",
    "QDA1 = QuadraticDiscriminantAnalysis()\n",
    "ADA_1 = AdaBoostClassifier(base_estimator=DT2,algorithm=\"SAMME.R\")\n",
    "VC2 = VotingClassifier(estimators=[('dt1',DT1),('dt2',DT2),('rf1',RF1),('rf2',RF2),('gnb',GNB),('gpc',GPC),\\\n",
    "                                   ('lda1',LDA1),('qda1',QDA1),('ada_1',ADA_1)], voting = 'soft')\n",
    "VC2.fit(X_train,Y_train.values.ravel())\n",
    "print(VC2.score(X_test,Y_test.values.ravel()))\n"
   ]
  },
  {
   "cell_type": "markdown",
   "metadata": {},
   "source": [
    "# SVM1"
   ]
  },
  {
   "cell_type": "code",
   "execution_count": null,
   "metadata": {},
   "outputs": [],
   "source": [
    "from sklearn.svm import SVC\n",
    "from sklearn.preprocessing import StandardScaler\n",
    "scaler = StandardScaler()\n",
    "X_train1 = scaler.fit_transform(X_train)\n",
    "X_test1 = scaler.fit_transform(X_test)\n",
    "svm1 = SVC(kernel=\"linear\", C=0.025)\n",
    "svm1.fit(X_train1, Y_train.values.ravel())\n",
    "print(svm1.score(X_test1,Y_test.values.ravel()))\n",
    "svm1.predict_proba(X)"
   ]
  },
  {
   "cell_type": "code",
   "execution_count": null,
   "metadata": {},
   "outputs": [],
   "source": [
    "svm2 = svm.SVC(gamma=2, C=1),\n",
    "svm2.fit(X_train, Y_train)\n",
    "print(svm2.score(X_test,Y_test))\n",
    "svm2.predict_proba(X)"
   ]
  },
  {
   "cell_type": "code",
   "execution_count": null,
   "metadata": {},
   "outputs": [],
   "source": [
    "svm3 = svm.SVC(kernel=\"Matern\"),\n",
    "svm3.fit(X_train, Y_train)\n",
    "print(svm3.score(X_test,Y_test))\n",
    "svm3.predict_proba(X)"
   ]
  },
  {
   "cell_type": "code",
   "execution_count": null,
   "metadata": {},
   "outputs": [],
   "source": [
    "svm4 = svm.SVC(kernel=\"RationalQuadratic\"),\n",
    "svm4.fit(X_train, Y_train)\n",
    "print(svm4.score(X_test,Y_test))\n",
    "svm4.predict_proba(X)"
   ]
  },
  {
   "cell_type": "code",
   "execution_count": null,
   "metadata": {},
   "outputs": [],
   "source": [
    "svm5 = svm.SVC(kernel=\"ExpSineSquared\"),\n",
    "svm5.fit(X_train, Y_train)\n",
    "print(svm5.score(X_test,Y_test))\n",
    "svm5.predict_proba(X)"
   ]
  },
  {
   "cell_type": "code",
   "execution_count": null,
   "metadata": {},
   "outputs": [],
   "source": [
    "svm6 = svm.SVC(kernel=\"ExpSineSquared\"),\n",
    "svm6.fit(X_train, Y_train)\n",
    "print(svm6.score(X_test,Y_test))\n",
    "svm6.predict_proba(X)"
   ]
  },
  {
   "cell_type": "code",
   "execution_count": null,
   "metadata": {},
   "outputs": [],
   "source": [
    "svm7 = svm.SVC(kernel=\"ExpSineSquared\"),\n",
    "svm7.fit(X_train, Y_train)\n",
    "print(svm7.score(X_test,Y_test))\n",
    "svm7.predict_proba(X)"
   ]
  },
  {
   "cell_type": "code",
   "execution_count": null,
   "metadata": {},
   "outputs": [],
   "source": [
    "svm8 = svm.SVC(kernel=\"DotProduct\"),\n",
    "svm8.fit(X_train, Y_train)\n",
    "print(svm8.score(X_test,Y_test))\n",
    "svm8.predict_proba(X)"
   ]
  },
  {
   "cell_type": "code",
   "execution_count": null,
   "metadata": {},
   "outputs": [],
   "source": [
    "svm9 = svm.SVC(kernel=\"sigmoid\"),\n",
    "svm9.fit(X_train, Y_train)\n",
    "print(svm9.score(X_test,Y_test))\n",
    "svm9.predict_proba(X)"
   ]
  }
 ],
 "metadata": {
  "kernelspec": {
   "display_name": "Python 3",
   "language": "python",
   "name": "python3"
  },
  "language_info": {
   "codemirror_mode": {
    "name": "ipython",
    "version": 3
   },
   "file_extension": ".py",
   "mimetype": "text/x-python",
   "name": "python",
   "nbconvert_exporter": "python",
   "pygments_lexer": "ipython3",
   "version": "3.6.4"
  }
 },
 "nbformat": 4,
 "nbformat_minor": 2
}
